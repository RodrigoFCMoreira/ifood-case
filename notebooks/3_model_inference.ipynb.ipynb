{
 "cells": [
  {
   "cell_type": "code",
   "execution_count": 0,
   "metadata": {
    "application/vnd.databricks.v1+cell": {
     "cellMetadata": {
      "byteLimit": 2048000,
      "rowLimit": 10000
     },
     "inputWidgets": {},
     "nuid": "215dab8f-421b-4b10-b51f-8f8090998f92",
     "showTitle": false,
     "tableResultSettingsMap": {},
     "title": ""
    }
   },
   "outputs": [],
   "source": [
    "%load_ext autoreload\n",
    "%autoreload 2\n",
    "# Enables autoreload; learn more at https://docs.databricks.com/en/files/workspace-modules.html#autoreload-for-python-modules\n",
    "# To disable autoreload; run %autoreload 0"
   ]
  },
  {
   "cell_type": "code",
   "execution_count": 0,
   "metadata": {
    "application/vnd.databricks.v1+cell": {
     "cellMetadata": {
      "byteLimit": 2048000,
      "rowLimit": 10000
     },
     "inputWidgets": {},
     "nuid": "62922c51-174a-4e60-8203-a6477b14b273",
     "showTitle": false,
     "tableResultSettingsMap": {},
     "title": ""
    }
   },
   "outputs": [],
   "source": [
    "import pandas as pd\n",
    "import sys\n",
    "import json\n",
    "#%pip install --disable-pip-version-check pycaret\n",
    "sys.path.append(\"../src\")\n",
    "from funcoes import *\n",
    "import seaborn as sns\n",
    "from funcoes_ import aplicar_dtypes,aply_missing_prep\n",
    "import matplotlib.pyplot as plt\n",
    "from sklearn.model_selection import train_test_split"
   ]
  },
  {
   "cell_type": "markdown",
   "metadata": {
    "application/vnd.databricks.v1+cell": {
     "cellMetadata": {},
     "inputWidgets": {},
     "nuid": "07200b5d-b6ba-455e-9e8f-ccbc7b659d20",
     "showTitle": false,
     "tableResultSettingsMap": {},
     "title": ""
    }
   },
   "source": [
    "###1 - Offer Recomendation"
   ]
  },
  {
   "cell_type": "markdown",
   "metadata": {
    "application/vnd.databricks.v1+cell": {
     "cellMetadata": {},
     "inputWidgets": {},
     "nuid": "f6dc2220-d730-46cd-93af-2d366426336e",
     "showTitle": false,
     "tableResultSettingsMap": {},
     "title": ""
    }
   },
   "source": [
    "Vamos transformar o modelo (treinado na granularidade cliente‑oferta) em um motor de recomendação que,<br>\n",
    "na hora da escoragem, testa todas as opções de oferta para cada cliente e devolve uma tabela de **melhor oferta por cliente**<br>"
   ]
  },
  {
   "cell_type": "code",
   "execution_count": 0,
   "metadata": {
    "application/vnd.databricks.v1+cell": {
     "cellMetadata": {},
     "inputWidgets": {},
     "nuid": "e4b7e8e9-f927-4110-a322-6da53b693eb4",
     "showTitle": false,
     "tableResultSettingsMap": {},
     "title": ""
    }
   },
   "outputs": [],
   "source": [
    "#Essas sao as informações que variam conforme a ofera\n",
    "variaveis_de_oferta = [\"offer_id\",\"offer_type\",\"discount_value\",\"min_value\",\"duration\",\"web\",\"email\",\"mobile\",\"social\"]"
   ]
  },
  {
   "cell_type": "code",
   "execution_count": 0,
   "metadata": {
    "application/vnd.databricks.v1+cell": {
     "cellMetadata": {
      "byteLimit": 2048000,
      "rowLimit": 10000
     },
     "inputWidgets": {},
     "nuid": "943d2da9-d6aa-487e-8900-abd3a5b72a4a",
     "showTitle": false,
     "tableResultSettingsMap": {},
     "title": ""
    }
   },
   "outputs": [],
   "source": [
    "#Ler base de testes\n",
    "teste_oos = pd.read_csv(\"../data/processed/test_oos.csv\", sep=\",\")\n",
    "teste_oos.shape\n",
    "\n",
    "#Adicionar a coluna idade_missing\n",
    "teste_oos[\"idade_missing\"] = teste_oos[\"idade\"].isna().astype(int)\n",
    "\n",
    "#resgatando colunas necessarias\n",
    "colunas = pd.read_csv(\"../data/processed/train_tratado.csv\", sep=\",\", nrows=0).columns\n",
    "teste_oos = teste_oos[colunas]\n",
    "\n",
    "#Resgatando os dtypes e Tipando a base de testes\n",
    "with open(\"../model_artefacts/train_dtypes.json\", \"r\", encoding=\"utf-8\") as f:\n",
    "    dtypes_dict = json.load(f)\n",
    "\n",
    "teste_oos_tratado = aplicar_dtypes(teste_oos, dtypes_dict)\n",
    "\n",
    "#Imputar os Missings\n",
    "#ler arquivo\n",
    "with open(\"../model_artefacts/missing_plan.json\", \"r\", encoding=\"utf-8\") as f:\n",
    "    prep = json.load(f)\n",
    "\n",
    "teste_oos_tratado = apply_missing_prep(teste_oos_tratado, prep, copy=True)"
   ]
  },
  {
   "cell_type": "code",
   "execution_count": 0,
   "metadata": {
    "application/vnd.databricks.v1+cell": {
     "cellMetadata": {},
     "inputWidgets": {},
     "nuid": "875b55f2-c5bb-439d-aad9-68ede8439397",
     "showTitle": false,
     "tableResultSettingsMap": {},
     "title": ""
    }
   },
   "outputs": [],
   "source": []
  }
 ],
 "metadata": {
  "application/vnd.databricks.v1+notebook": {
   "computePreferences": {
    "hardware": {
     "accelerator": null,
     "gpuPoolId": null,
     "memory": null
    }
   },
   "dashboards": [],
   "environmentMetadata": {
    "base_environment": "",
    "environment_version": "2"
   },
   "inputWidgetPreferences": null,
   "language": "python",
   "notebookMetadata": {
    "pythonIndentUnit": 4
   },
   "notebookName": "3_model_inference.ipynb",
   "widgets": {}
  },
  "language_info": {
   "name": "python"
  }
 },
 "nbformat": 4,
 "nbformat_minor": 0
}
