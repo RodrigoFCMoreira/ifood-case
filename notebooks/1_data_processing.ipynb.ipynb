{
 "cells": [
  {
   "cell_type": "code",
   "execution_count": 0,
   "metadata": {
    "application/vnd.databricks.v1+cell": {
     "cellMetadata": {
      "byteLimit": 2048000,
      "rowLimit": 10000
     },
     "inputWidgets": {},
     "nuid": "1cbb4f68-35ae-4d2b-a545-cba85bbaabd6",
     "showTitle": false,
     "tableResultSettingsMap": {},
     "title": ""
    }
   },
   "outputs": [],
   "source": [
    "#Definição de bibliotecas\n",
    "import pandas as pd\n",
    "import pyspark.sql.functions as f\n",
    "import sys\n",
    "sys.path.append(\"../src\")\n",
    "from funcoes_pyspark import analisar_dataframe"
   ]
  },
  {
   "cell_type": "markdown",
   "metadata": {
    "application/vnd.databricks.v1+cell": {
     "cellMetadata": {
      "byteLimit": 2048000,
      "rowLimit": 10000
     },
     "inputWidgets": {},
     "nuid": "eee22ee5-2bcc-4c73-a9ad-39007e1f01a4",
     "showTitle": false,
     "tableResultSettingsMap": {},
     "title": ""
    }
   },
   "source": [
    "###1 - Reading and Understanding Databases"
   ]
  },
  {
   "cell_type": "markdown",
   "metadata": {
    "application/vnd.databricks.v1+cell": {
     "cellMetadata": {},
     "inputWidgets": {},
     "nuid": "e78ca7ae-7552-4d48-8d4c-80078351aad6",
     "showTitle": false,
     "tableResultSettingsMap": {},
     "title": ""
    }
   },
   "source": [
    "Nosso objetivo: 1.Analisar os dados históricos de transações, ofertas e clientes"
   ]
  },
  {
   "cell_type": "markdown",
   "metadata": {
    "application/vnd.databricks.v1+cell": {
     "cellMetadata": {
      "byteLimit": 2048000,
      "rowLimit": 10000
     },
     "inputWidgets": {},
     "nuid": "2f1b9226-c088-4aed-b16a-59df09b83dd6",
     "showTitle": false,
     "tableResultSettingsMap": {},
     "title": ""
    }
   },
   "source": [
    "#### 1.1 - Offers Database"
   ]
  },
  {
   "cell_type": "code",
   "execution_count": 0,
   "metadata": {
    "application/vnd.databricks.v1+cell": {
     "cellMetadata": {
      "byteLimit": 2048000,
      "rowLimit": 10000
     },
     "inputWidgets": {},
     "nuid": "04ec0f09-13b9-4134-836e-984e0fa6bc21",
     "showTitle": false,
     "tableResultSettingsMap": {},
     "title": ""
    }
   },
   "outputs": [],
   "source": [
    "#Vamos ler a base de ofertas, reestruturar a coluna channels e organizar as colunas\n",
    "offers = spark.createDataFrame(pd.read_json(\"../data/raw/offers.json\"))\\\n",
    "    .withColumn(\"web\",     f.when(f.array_contains(\"channels\", \"web\"), 1).otherwise(0)) \\\n",
    "    .withColumn(\"email\",   f.when(f.array_contains(\"channels\", \"email\"), 1).otherwise(0)) \\\n",
    "    .withColumn(\"mobile\",  f.when(f.array_contains(\"channels\", \"mobile\"), 1).otherwise(0)) \\\n",
    "    .withColumn(\"social\",  f.when(f.array_contains(\"channels\", \"social\"), 1).otherwise(0))\\\n",
    "    .withColumnRenamed(\"id\",\"offer_id\")\\\n",
    "    .select(\"offer_id\",\"offer_type\",\"discount_value\",\"min_value\",\"duration\",\"web\",\"email\",\"mobile\",\"social\").orderBy(\"offer_type\")"
   ]
  },
  {
   "cell_type": "code",
   "execution_count": 0,
   "metadata": {
    "application/vnd.databricks.v1+cell": {
     "cellMetadata": {
      "byteLimit": 2048000,
      "rowLimit": 10000
     },
     "inputWidgets": {},
     "nuid": "df587c0d-0ad9-4c98-a845-a203c35a1c77",
     "showTitle": false,
     "tableResultSettingsMap": {},
     "title": ""
    }
   },
   "outputs": [],
   "source": [
    "#verificando volumetria e duplicatas de Id\n",
    "analisar_dataframe(offers, \"offer_id\")"
   ]
  },
  {
   "cell_type": "code",
   "execution_count": 0,
   "metadata": {
    "application/vnd.databricks.v1+cell": {
     "cellMetadata": {
      "byteLimit": 2048000,
      "rowLimit": 10000
     },
     "inputWidgets": {},
     "nuid": "f3668287-2c07-49c5-9c90-f0e3c9e7f96d",
     "showTitle": false,
     "tableResultSettingsMap": {
      "0": {
       "dataGridStateBlob": "{\"version\":1,\"tableState\":{\"columnPinning\":{\"left\":[\"#row_number#\"],\"right\":[]},\"columnSizing\":{},\"columnVisibility\":{}},\"settings\":{\"columns\":{}},\"syncTimestamp\":1754581865610}",
       "filterBlob": null,
       "queryPlanFiltersBlob": null,
       "tableResultIndex": 0
      }
     },
     "title": ""
    }
   },
   "outputs": [],
   "source": [
    "#Verificar saída da base de ofertas\n",
    "offers.limit(5).display()"
   ]
  },
  {
   "cell_type": "markdown",
   "metadata": {
    "application/vnd.databricks.v1+cell": {
     "cellMetadata": {
      "byteLimit": 2048000,
      "rowLimit": 10000
     },
     "inputWidgets": {},
     "nuid": "2833af3c-ae78-4f2e-b889-4326441a3492",
     "showTitle": false,
     "tableResultSettingsMap": {},
     "title": ""
    }
   },
   "source": [
    "#####1.1.1 Data understanding"
   ]
  },
  {
   "cell_type": "code",
   "execution_count": 0,
   "metadata": {
    "application/vnd.databricks.v1+cell": {
     "cellMetadata": {
      "byteLimit": 2048000,
      "rowLimit": 10000
     },
     "inputWidgets": {},
     "nuid": "0aa03709-fc5b-4fdd-b872-9ca9ead43045",
     "showTitle": false,
     "tableResultSettingsMap": {},
     "title": ""
    }
   },
   "outputs": [],
   "source": [
    "# offer_id: identificador único da oferta, usado para relacionar com eventos \n",
    "#           como recebimento, uso e expiração. É a chave para cruzar com outras bases.\n",
    "\n",
    "# offer_type: tipo da oferta.\n",
    "#   - \"bogo\" → Buy One Get One: compre um e ganhe outro, ou crédito equivalente.\n",
    "#   - \"discount\" → desconto direto no valor da compra.\n",
    "#   - \"informational\" → comunicação sem desconto, apenas informativa.\n",
    "\n",
    "# discount_value: valor do benefício.\n",
    "#   - Para \"discount\", é o desconto em moeda (ex.: 5 = R$ 5 de desconto). não é percentual!\n",
    "#   - Para \"bogo\", discount_value = 10 → Ao comprar 1 item, o cliente recebe outro item ou crédito equivalente a R$ 10.\n",
    "#   - Para \"informational\", normalmente é 0, pois não há desconto.\n",
    "\n",
    "# min_value: valor mínimo de compra para ativar a oferta.\n",
    "#            Ex.: min_value = 20 significa que a compra deve ser de pelo menos R$ 20\n",
    "#            para o desconto ou brinde ser aplicado.\n",
    "\n",
    "# duration: número de dias de validade da oferta a partir do envio ao cliente.\n",
    "\n",
    "# web, email, mobile, social: canais de veiculação (1 = ativo, 0 = inativo).\n",
    "# Permitem enviar a mesma oferta por múltiplos canais e medir qual funciona melhor.\n",
    "\n",
    "# Essa tabela provavelmente é o catálogo de ofertas da empresa.\n",
    "# Ela define todas as regras e parâmetros de cada promoção e serve de base \n",
    "# para cruzar com dados de eventos (quem recebeu, usou, etc.).\n",
    "# Também permite análises como:\n",
    "# - desempenho por tipo de oferta\n",
    "# - eficácia por canal de comunicação\n",
    "# - impacto de diferentes valores de desconto\n"
   ]
  },
  {
   "cell_type": "markdown",
   "metadata": {
    "application/vnd.databricks.v1+cell": {
     "cellMetadata": {
      "byteLimit": 2048000,
      "rowLimit": 10000
     },
     "inputWidgets": {},
     "nuid": "52a21de3-87dc-44e2-9740-cb0f894b11f6",
     "showTitle": false,
     "tableResultSettingsMap": {},
     "title": ""
    }
   },
   "source": [
    "#### 1.2 - Profiles Database"
   ]
  },
  {
   "cell_type": "code",
   "execution_count": 0,
   "metadata": {
    "application/vnd.databricks.v1+cell": {
     "cellMetadata": {
      "byteLimit": 2048000,
      "rowLimit": 10000
     },
     "inputWidgets": {},
     "nuid": "57261f22-f68d-4d67-9200-23ca16f66d8f",
     "showTitle": false,
     "tableResultSettingsMap": {},
     "title": ""
    }
   },
   "outputs": [],
   "source": [
    "profile = spark.createDataFrame(pd.read_json(\"../data/raw/profile.json\")).withColumnRenamed(\"id\",\"profile_id\").select(\"profile_id\",\"registered_on\",\"age\",\"gender\",\"credit_card_limit\")"
   ]
  },
  {
   "cell_type": "code",
   "execution_count": 0,
   "metadata": {
    "application/vnd.databricks.v1+cell": {
     "cellMetadata": {
      "byteLimit": 2048000,
      "rowLimit": 10000
     },
     "inputWidgets": {},
     "nuid": "1ff66076-9ff1-4285-a031-3be4fd633790",
     "showTitle": false,
     "tableResultSettingsMap": {},
     "title": ""
    }
   },
   "outputs": [],
   "source": [
    "#verificando volumetria e duplicatas de Id\n",
    "analisar_dataframe(profile, \"profile_id\")"
   ]
  },
  {
   "cell_type": "code",
   "execution_count": 0,
   "metadata": {
    "application/vnd.databricks.v1+cell": {
     "cellMetadata": {
      "byteLimit": 2048000,
      "rowLimit": 10000
     },
     "inputWidgets": {},
     "nuid": "23b92a23-6775-4921-af3d-e06eed69c005",
     "showTitle": false,
     "tableResultSettingsMap": {
      "0": {
       "dataGridStateBlob": "{\"version\":1,\"tableState\":{\"columnPinning\":{\"left\":[\"#row_number#\"],\"right\":[]},\"columnSizing\":{},\"columnVisibility\":{}},\"settings\":{\"columns\":{}},\"syncTimestamp\":1754582681457}",
       "filterBlob": null,
       "queryPlanFiltersBlob": null,
       "tableResultIndex": 0
      }
     },
     "title": ""
    }
   },
   "outputs": [],
   "source": [
    "profile.limit(5).display()"
   ]
  },
  {
   "cell_type": "markdown",
   "metadata": {
    "application/vnd.databricks.v1+cell": {
     "cellMetadata": {
      "byteLimit": 2048000,
      "rowLimit": 10000
     },
     "inputWidgets": {},
     "nuid": "1c1e2063-5c44-418a-8271-b6e7b641fa70",
     "showTitle": false,
     "tableResultSettingsMap": {},
     "title": ""
    }
   },
   "source": [
    "#####1.2.1 Data understanding"
   ]
  },
  {
   "cell_type": "code",
   "execution_count": 0,
   "metadata": {
    "application/vnd.databricks.v1+cell": {
     "cellMetadata": {
      "byteLimit": 2048000,
      "rowLimit": 10000
     },
     "inputWidgets": {},
     "nuid": "be31bf94-2fff-4f44-a516-ac41dba1906f",
     "showTitle": false,
     "tableResultSettingsMap": {},
     "title": ""
    }
   },
   "outputs": [],
   "source": [
    "# profile_id: identificador único do cliente.\n",
    "#             Usado para cruzar o perfil com outras tabelas (ex.: ofertas recebidas, transações, histórico de uso).\n",
    "\n",
    "# registered_on: data de criação da conta (formato AAAAMMDD).\n",
    "#                Representa o momento em que o cliente entrou na base.\n",
    "#                Útil para calcular \"tempo de relacionamento\" e criar coortes.\n",
    "\n",
    "# age: idade do cliente na data de criação da conta.\n",
    "#      Valores extremamente altos (ex.: 118) indicam dado faltante ou inválido, será que é usado como código de \"sem idade\"? veremos mais na análise exploratória.\n",
    "#      Pode ser ajustado via imputação ou categorização especial (\"idade não informada\").\n",
    "\n",
    "# gender: gênero informado pelo cliente no cadastro.\n",
    "#         Possíveis valores: \"M\" (masculino), \"F\" (feminino) ou null (não informado).\n",
    "#         Null pode indicar falta de informação ou que o cliente optou por não declarar.\n",
    "#         Nao posso inferir esse tipo de dados, mas pode ser usado para segmentação por gênero.\n",
    "\n",
    "# credit_card_limit: limite de crédito do cartão registrado pelo cliente (float).\n",
    "#                    Null indica ausência de cartão registrado ou dado indisponível.\n",
    "#                    Pode ser usado como proxy de poder de compra ou perfil de risco.\n",
    "\n",
    "# Observações gerais sobre a base:\n",
    "# - São cerca de 17k clientes cadastrados.\n",
    "# - Há campos com valores nulos ou inválidos, exigindo tratamento antes de análises/modelagem.\n",
    "# - Não sei se essa idade na base cadastral é do momento do cadastro, ou se é atualizada. se for a data no momento do cadastro. A combinação \"registered_on\" + \"age\". Poderia nos dar a idade atual da pessoa, porém a base contém o campo credit_card_limit que deve ser atualizado, então vou tratar Age como a idade atual.\n",
    "# - \"credit_card_limit\" pode ajudar em segmentações de clientes por capacidade de consumo.\n",
    "# - A base serve como tabela de perfis, enriquecendo dados de ofertas e transações.\n"
   ]
  },
  {
   "cell_type": "markdown",
   "metadata": {
    "application/vnd.databricks.v1+cell": {
     "cellMetadata": {
      "byteLimit": 2048000,
      "rowLimit": 10000
     },
     "inputWidgets": {},
     "nuid": "7505527d-6433-481d-bd0e-de6c74116882",
     "showTitle": true,
     "tableResultSettingsMap": {},
     "title": ""
    },
    "jupyter": {
     "outputs_hidden": true
    }
   },
   "source": [
    "#### 1.3 - Transactions Database"
   ]
  },
  {
   "cell_type": "code",
   "execution_count": 0,
   "metadata": {
    "application/vnd.databricks.v1+cell": {
     "cellMetadata": {
      "byteLimit": 2048000,
      "rowLimit": 10000
     },
     "inputWidgets": {},
     "nuid": "87dd0e8c-fbe0-412b-b392-66cbd8db5c25",
     "showTitle": false,
     "tableResultSettingsMap": {},
     "title": ""
    }
   },
   "outputs": [],
   "source": [
    "from pyspark.sql.types import StructType, StringType, ArrayType\n",
    "#Define o schema que representa o conteúdo da coluna \"value\"\n",
    "#A coluna value contem o id da oferta. Os outros valores (\"amount\",\"reward\") sao nulos em todo dataset\n",
    "#Account_id deve ser análogo a profile_id entao vou renomear\n",
    "\n",
    "transactions = spark.createDataFrame(pd.read_json(\"../data/raw/transactions.json\")).withColumn(\"amount\", f.col(\"value.amount\")).withColumnRenamed(\"account_id\",\"profile_id\") \\\n",
    "    .withColumn(\"offer_id\", f.col(\"value.`offer id`\")).select(\"profile_id\",\"offer_id\",\"event\",\"time_since_test_start\")"
   ]
  },
  {
   "cell_type": "code",
   "execution_count": 0,
   "metadata": {
    "application/vnd.databricks.v1+cell": {
     "cellMetadata": {
      "byteLimit": 2048000,
      "rowLimit": 10000
     },
     "inputWidgets": {},
     "nuid": "da272424-edfb-446a-9e7b-6ae4e96d5f99",
     "showTitle": false,
     "tableResultSettingsMap": {},
     "title": ""
    }
   },
   "outputs": [],
   "source": [
    "analisar_dataframe(transactions, \"profile_id\")"
   ]
  },
  {
   "cell_type": "code",
   "execution_count": 0,
   "metadata": {
    "application/vnd.databricks.v1+cell": {
     "cellMetadata": {
      "byteLimit": 2048000,
      "rowLimit": 10000
     },
     "inputWidgets": {},
     "nuid": "4f44ffb8-08a9-49bc-a9b8-f566b54cd2b7",
     "showTitle": false,
     "tableResultSettingsMap": {
      "0": {
       "dataGridStateBlob": "{\"version\":1,\"tableState\":{\"columnPinning\":{\"left\":[\"#row_number#\"],\"right\":[]},\"columnSizing\":{},\"columnVisibility\":{}},\"settings\":{\"columns\":{}},\"syncTimestamp\":1754598286520}",
       "filterBlob": null,
       "queryPlanFiltersBlob": null,
       "tableResultIndex": 0
      }
     },
     "title": ""
    }
   },
   "outputs": [],
   "source": [
    "transactions.limit(5).display()"
   ]
  },
  {
   "cell_type": "markdown",
   "metadata": {
    "application/vnd.databricks.v1+cell": {
     "cellMetadata": {
      "byteLimit": 2048000,
      "rowLimit": 10000
     },
     "inputWidgets": {},
     "nuid": "18ebda43-ff27-419f-a3a1-26b150694b86",
     "showTitle": false,
     "tableResultSettingsMap": {},
     "title": ""
    }
   },
   "source": [
    "#####1.3.1 Data understanding"
   ]
  },
  {
   "cell_type": "code",
   "execution_count": 0,
   "metadata": {
    "application/vnd.databricks.v1+cell": {
     "cellMetadata": {
      "byteLimit": 2048000,
      "rowLimit": 10000
     },
     "inputWidgets": {},
     "nuid": "14b1711a-5fed-4da6-b3db-60fab18488ee",
     "showTitle": false,
     "tableResultSettingsMap": {},
     "title": ""
    }
   },
   "outputs": [],
   "source": [
    "# profile_id: id unico do cliente - originalmente era account_id\n",
    "#             Serve pra ligar o evento a um cliente especifico.\n",
    "\n",
    "# offer_id: id da oferta relacionada ao evento.\n",
    "#           Aqui no exemplo já está como coluna, mas na base original vinha dentro da coluna \"value\" (json).\n",
    "#           Usado pra cruzar com a tabela de ofertas e saber detalhes dela.\n",
    "\n",
    "# event: tipo de evento que aconteceu.\n",
    "#   - \"transaction\": cliente fez uma compra (pode ou não ter relação com oferta)\n",
    "#   - \"offer received\": cliente recebeu uma oferta\n",
    "#   - \"offer viewed\": cliente abriu/visualizou a oferta\n",
    "#   - \"offer completed\": cliente cumpriu a condição da oferta (ex.: gastou o mínimo e ganhou o desconto)\n",
    "\n",
    "# time_since_test_start: tempo desde o inicio do teste até o momento do evento, em dias.\n",
    "#                        No exemplo tudo tá 0, então parece ser o registro inicial.\n",
    "\n",
    "# value: na base completa, essa coluna guarda um json com informações adicionais:\n",
    "#   - offer_id (quando é evento de oferta)\n",
    "#   - reward/desconto (pra saber o valor do beneficio)\n",
    "#   - amount (valor da transação quando é evento de compra)\n",
    "\n",
    "# Essa tabela é um log de cerca de 300 mil eventos de clientes dentro do teste/campanha.\n",
    "# A gte consegue seguir o \"funil\" de conversão: \n",
    "#   received → viewed → completed\n",
    "#   e também ver transações que aconteceram com ou sem oferta vinculada."
   ]
  },
  {
   "cell_type": "code",
   "execution_count": 0,
   "metadata": {
    "application/vnd.databricks.v1+cell": {
     "cellMetadata": {
      "byteLimit": 2048000,
      "rowLimit": 10000
     },
     "inputWidgets": {},
     "nuid": "aac64c81-37a2-4141-8bd9-7b33cf2465f6",
     "showTitle": false,
     "tableResultSettingsMap": {
      "0": {
       "dataGridStateBlob": "{\"version\":1,\"tableState\":{\"columnPinning\":{\"left\":[\"#row_number#\"],\"right\":[]},\"columnSizing\":{\"event\":150},\"columnVisibility\":{}},\"settings\":{\"columns\":{}},\"syncTimestamp\":1754597600482}",
       "filterBlob": null,
       "queryPlanFiltersBlob": null,
       "tableResultIndex": 0
      }
     },
     "title": ""
    }
   },
   "outputs": [],
   "source": [
    "transactions.groupBy(\"event\",\"offer_id\").count().orderBy(\"event\").display()\n",
    "#Essa coluna de evento junto com a \"time_since_test_start\" é capaz de definir a jornada do cliente após receber uma oferta!\n",
    "#mas seguimos com algumas observações interessantes:\n",
    "\n",
    "# - As \"offer completed\" sempre tem offer_id null → evento de conclusão sem oferta vinculada (provavelmente teremos que inferir pela janela de transação)\n",
    "# - \"transaction\" com offer_id null → compra feita sem ligação com oferta ()\n",
    "# - Em geral, número de \"received\" é bem maior que \"viewed\" e \"completed\"\n",
    "# - Isso ajuda a achar ofertas que geram engajamento (view) mas não convertem em compra (completed)\n",
    "\n",
    "# Possíveis usos dessa base:\n",
    "# - Calcular taxas de conversão por oferta.\n",
    "# - Avaliar quais ofertas têm melhor desempenho e quais flopam.\n",
    "# - Cruzar com canais da oferta (web, email, mobile, social) pra ver qual canal traz mais resultado."
   ]
  },
  {
   "cell_type": "code",
   "execution_count": 0,
   "metadata": {
    "application/vnd.databricks.v1+cell": {
     "cellMetadata": {
      "byteLimit": 2048000,
      "rowLimit": 10000
     },
     "inputWidgets": {},
     "nuid": "e48735c2-3b4b-4543-bade-8d92ed8b7177",
     "showTitle": false,
     "tableResultSettingsMap": {
      "0": {
       "dataGridStateBlob": "{\"version\":1,\"tableState\":{\"columnPinning\":{\"left\":[\"#row_number#\"],\"right\":[]},\"columnSizing\":{\"offer_id\":287,\"account_id\":245},\"columnVisibility\":{}},\"settings\":{\"columns\":{}},\"syncTimestamp\":1754597881037}",
       "filterBlob": null,
       "queryPlanFiltersBlob": null,
       "tableResultIndex": 0
      }
     },
     "title": ""
    }
   },
   "outputs": [],
   "source": [
    "#Observando um cliente para tentar entender a jornada do cliente para diversas ofertas:\n",
    "# Possíveis comportamentos por oferta (a partir do funil de eventos):\n",
    " # 1 - Na primeira oferta ele recebe > vê  > compra (da pra notar que o time_since_test_start de transaction == offer completed)\n",
    " # 2 - Ele faz uma transação sem vínculo a uma oferta\n",
    " # 3 - Ele recebe a oferta 9837 > vê > realiza 3 transações sem vínculo a oferta > deixa a oferta rolando\n",
    " # 4 - recebe oferta ddfd > vê > deixa rolando > recebe oferta e20d > nao le a oferta e20d > 1.25 dias depois ele transaciona (offer completed no mesmo dia, porem duplicada, pq se fossem duas comprar teríamos 2 transacoes no mesmo dia) alem disso nao sabemos se offer completed foi com relação  a ddfd ou  a 9837 (devemos olhar o tempo de vigência da oferta!!)\n",
    " # 5 - por fim ele finalmente visualiza a oferta e20d \n",
    "\n",
    "transactions.filter(f.col(\"profile_id\")==\"78afa995795e4d85b5d9ceeca43f5fef\").orderBy(\"time_since_test_start\").display()"
   ]
  },
  {
   "cell_type": "markdown",
   "metadata": {
    "application/vnd.databricks.v1+cell": {
     "cellMetadata": {
      "byteLimit": 2048000,
      "rowLimit": 10000
     },
     "inputWidgets": {},
     "nuid": "8734f768-9ec2-4f8f-9802-e4879a10ffa0",
     "showTitle": false,
     "tableResultSettingsMap": {},
     "title": ""
    }
   },
   "source": [
    "#####1.3.2 - Unifying Databases"
   ]
  },
  {
   "cell_type": "code",
   "execution_count": 0,
   "metadata": {
    "application/vnd.databricks.v1+cell": {
     "cellMetadata": {
      "byteLimit": 2048000,
      "rowLimit": 10000
     },
     "inputWidgets": {},
     "nuid": "4d6bdf39-b5d6-434a-b5bd-a7f7ec98c024",
     "showTitle": false,
     "tableResultSettingsMap": {},
     "title": ""
    }
   },
   "outputs": [],
   "source": [
    "#Agora que entendemos individualmente o conceito das bases, vamos realizar o processso de enriquecimento de informações na base transacional para podermos avançar na construção da solução\n",
    "#transactions, profile, offers\n",
    "#Tomamos os valores distintos pois existem duplicidades na base,por exemplo temos 1 transacao para 2 ofertas completadas (mesma data hora), mesmo que seja possível finalizar 2 ofertas com uma transaçao, nao vamos considerar esses casos na solução.\n",
    "\n",
    "transactions_enriquecida = transactions\\\n",
    "    .join(offers, on=[\"offer_id\"], how=\"left\") \\\n",
    "    .join(profile, on=[\"profile_id\"], how=\"left\").distinct()\n"
   ]
  },
  {
   "cell_type": "code",
   "execution_count": 0,
   "metadata": {
    "application/vnd.databricks.v1+cell": {
     "cellMetadata": {
      "byteLimit": 2048000,
      "rowLimit": 10000
     },
     "inputWidgets": {},
     "nuid": "d54d07c1-96f7-4323-97c9-95cd320b9832",
     "showTitle": false,
     "tableResultSettingsMap": {},
     "title": ""
    }
   },
   "outputs": [],
   "source": [
    "analisar_dataframe(transactions_enriquecida, \"profile_id\")"
   ]
  },
  {
   "cell_type": "code",
   "execution_count": 0,
   "metadata": {
    "application/vnd.databricks.v1+cell": {
     "cellMetadata": {
      "byteLimit": 2048000,
      "rowLimit": 10000
     },
     "inputWidgets": {},
     "nuid": "8e390a7b-75fc-4e2f-92f0-51576d5f4eee",
     "showTitle": false,
     "tableResultSettingsMap": {},
     "title": ""
    }
   },
   "outputs": [],
   "source": [
    "#vamos analisar o cliente com mais transacoes na base\n",
    "transactions.groupBy(\"profile_id\").count().orderBy(\"count\", ascending=False).limit(5).display()\n"
   ]
  },
  {
   "cell_type": "code",
   "execution_count": 0,
   "metadata": {
    "application/vnd.databricks.v1+cell": {
     "cellMetadata": {
      "byteLimit": 2048000,
      "rowLimit": 10000
     },
     "inputWidgets": {},
     "nuid": "ae0a9728-144c-47f9-ab3f-6b1d6158d382",
     "showTitle": false,
     "tableResultSettingsMap": {
      "0": {
       "dataGridStateBlob": "{\"version\":1,\"tableState\":{\"columnPinning\":{\"left\":[\"#row_number#\"],\"right\":[]},\"columnSizing\":{\"profile_id\":251},\"columnVisibility\":{}},\"settings\":{\"columns\":{}},\"syncTimestamp\":1754751898056}",
       "filterBlob": null,
       "queryPlanFiltersBlob": null,
       "tableResultIndex": 0
      }
     },
     "title": ""
    }
   },
   "outputs": [],
   "source": [
    "#Vamos fazer uma análise parecida mas agora na base já enriquecida com informações de oferta e perfil\n",
    "\n",
    "transactions_enriquecida.filter(f.col(\"profile_id\")==\"94de646f7b6041228ca7dec82adb97d2\").orderBy(\"time_since_test_start\").display()"
   ]
  },
  {
   "cell_type": "code",
   "execution_count": 0,
   "metadata": {
    "application/vnd.databricks.v1+cell": {
     "cellMetadata": {
      "byteLimit": 2048000,
      "rowLimit": 10000
     },
     "inputWidgets": {},
     "nuid": "31eb87e3-cc8e-4530-92a5-8805831934b1",
     "showTitle": false,
     "tableResultSettingsMap": {},
     "title": ""
    }
   },
   "outputs": [],
   "source": [
    "#Como esperado, esse tipo de oferta não tem desconto nem valor mínimo, mas sim uma informação\n",
    "transactions_enriquecida.filter(f.col(\"offer_type\")==\"informational\").groupBy(\"discount_value\",\"min_value\").count().display()"
   ]
  },
  {
   "cell_type": "code",
   "execution_count": 0,
   "metadata": {
    "application/vnd.databricks.v1+cell": {
     "cellMetadata": {
      "byteLimit": 2048000,
      "rowLimit": 10000
     },
     "inputWidgets": {},
     "nuid": "6e7db398-afce-48be-b22c-3b92ba142db9",
     "showTitle": false,
     "tableResultSettingsMap": {},
     "title": ""
    }
   },
   "outputs": [],
   "source": [
    "#Os números em geral parecem fazer sentido:\n",
    "\n",
    "# Ofertas Recebidas: Um total de 76,277 ofertas foram enviadas aos clientes.\n",
    "\n",
    "#Ofertas Visualizadas: Dessas, 57,725 ofertas foram visualizadas pelos clientes, representando uma taxa de visualização de 75.6%. Isso #mostra que uma grande parte das ofertas chamou a atenção do público.\n",
    "\n",
    "#Ofertas Completadas: Dentre as ofertas visualizadas, 30,617 ofertas resultaram em uma ação completada pelos clientes, gerando uma taxa #de conversão de 40.1%. Isso indica que muitos dos clientes que visualizaram as ofertas decidiram aproveitar alguma delas.\n",
    "\n",
    "#Transações Totais: Considerando todas as transações realizadas, um total de 138,953 transações foi registrado. Dentre essas, 30,617 #transações foram associadas a ofertas, o que representa 22.1% das transações totais.\n",
    "transactions_enriquecida.groupBy(\"event\").count().display()\n"
   ]
  },
  {
   "cell_type": "code",
   "execution_count": 0,
   "metadata": {
    "application/vnd.databricks.v1+cell": {
     "cellMetadata": {
      "byteLimit": 2048000,
      "rowLimit": 10000
     },
     "inputWidgets": {},
     "nuid": "2416b5f7-7af3-4786-bc52-ea1e79bf9925",
     "showTitle": false,
     "tableResultSettingsMap": {
      "0": {
       "dataGridStateBlob": "{\"version\":1,\"tableState\":{\"columnPinning\":{\"left\":[\"#row_number#\"],\"right\":[]},\"columnSizing\":{\"event\":149},\"columnVisibility\":{}},\"settings\":{\"columns\":{}},\"syncTimestamp\":1754754727664}",
       "filterBlob": null,
       "queryPlanFiltersBlob": null,
       "tableResultIndex": 0
      }
     },
     "title": ""
    }
   },
   "outputs": [],
   "source": [
    "transactions_enriquecida.groupBy(\"event\",\"offer_type\").count().display()\n"
   ]
  },
  {
   "cell_type": "markdown",
   "metadata": {
    "application/vnd.databricks.v1+cell": {
     "cellMetadata": {},
     "inputWidgets": {},
     "nuid": "03e4d461-e0a7-435e-ab6f-1677dac27e35",
     "showTitle": false,
     "tableResultSettingsMap": {},
     "title": ""
    }
   },
   "source": [
    "###2 - Plano, Público e Target"
   ]
  },
  {
   "cell_type": "markdown",
   "metadata": {
    "application/vnd.databricks.v1+cell": {
     "cellMetadata": {},
     "inputWidgets": {},
     "nuid": "5f195cd9-8596-4636-9bb4-6beaabfcb92e",
     "showTitle": false,
     "tableResultSettingsMap": {},
     "title": ""
    }
   },
   "source": [
    "Nosso objetivo: 2. Desenvolver uma técnica/modelo que auxilie na decisão de qual oferta enviar para cada cliente"
   ]
  },
  {
   "cell_type": "markdown",
   "metadata": {
    "application/vnd.databricks.v1+cell": {
     "cellMetadata": {},
     "inputWidgets": {},
     "nuid": "282f6855-b5bc-47b3-8b19-fedf9d5d2032",
     "showTitle": false,
     "tableResultSettingsMap": {},
     "title": ""
    }
   },
   "source": [
    "####2.1 - Plano"
   ]
  },
  {
   "cell_type": "markdown",
   "metadata": {
    "application/vnd.databricks.v1+cell": {
     "cellMetadata": {
      "byteLimit": 2048000,
      "rowLimit": 10000
     },
     "inputWidgets": {},
     "nuid": "1b8becad-00d5-4801-88cd-979d27493155",
     "showTitle": false,
     "tableResultSettingsMap": {},
     "title": ""
    }
   },
   "source": [
    "Agora que temos uma base transacional enriquecida e já compreendemos as informações precisamos definir o que faremos para resolver o problema proposto \"Qual oferta enviar para cada cliente?\". <br><br>\n",
    "Proponho então um **modelo supervisionado de target binário** que preveja a probabilidade de conversão.<br>\n",
    "Cada linha representará um cliente recebendo uma oferta específica, ou seja o mesmo cliente poderá<br>\n",
    "aparecer diversas vezes para cada tipo de oferta.<br>\n",
    "\n",
    "Na hora de escorar vamos simular todas as ofertas possíveis e ver qual tem maior probabilidade de converter o cliente.<br>\n",
    "\n",
    "Transações sem vínculo de oferta serão descartadas.\n"
   ]
  },
  {
   "cell_type": "markdown",
   "metadata": {
    "application/vnd.databricks.v1+cell": {
     "cellMetadata": {},
     "inputWidgets": {},
     "nuid": "8ff79650-a96d-4cb9-905e-975bb5dc37e8",
     "showTitle": false,
     "tableResultSettingsMap": {},
     "title": ""
    }
   },
   "source": [
    "###2 - Público"
   ]
  },
  {
   "cell_type": "code",
   "execution_count": 0,
   "metadata": {
    "application/vnd.databricks.v1+cell": {
     "cellMetadata": {
      "byteLimit": 2048000,
      "rowLimit": 10000
     },
     "inputWidgets": {},
     "nuid": "80eff4b9-49e4-4032-ba7a-b10e4f0a1df3",
     "showTitle": false,
     "tableResultSettingsMap": {},
     "title": ""
    }
   },
   "outputs": [],
   "source": [
    "transactions.limit(3).display()"
   ]
  },
  {
   "cell_type": "code",
   "execution_count": 0,
   "metadata": {
    "application/vnd.databricks.v1+cell": {
     "cellMetadata": {
      "byteLimit": 2048000,
      "rowLimit": 10000
     },
     "inputWidgets": {},
     "nuid": "f53d7984-6090-4b80-a22a-8b648b99a331",
     "showTitle": false,
     "tableResultSettingsMap": {},
     "title": ""
    }
   },
   "outputs": [],
   "source": [
    "#Vamos definir nosso público, composto na granularidade de clientes e oferta\n",
    "#Clientes que receberam pelo menos uma opferta\n",
    "publico = transactions.filter(f.col(\"offer_id\").isNotNull()).withColumn(\"ID\", f.concat_ws(\"_\", \"profile_id\", \"offer_id\")).select(\"ID\",\"profile_id\",\"offer_id\").distinct()"
   ]
  },
  {
   "cell_type": "code",
   "execution_count": 0,
   "metadata": {
    "application/vnd.databricks.v1+cell": {
     "cellMetadata": {
      "byteLimit": 2048000,
      "rowLimit": 10000
     },
     "inputWidgets": {},
     "nuid": "0caa167f-3b9f-4a14-bc43-c686ea3e1f73",
     "showTitle": false,
     "tableResultSettingsMap": {},
     "title": ""
    }
   },
   "outputs": [],
   "source": [
    "publico.limit(5).display()"
   ]
  },
  {
   "cell_type": "code",
   "execution_count": 0,
   "metadata": {
    "application/vnd.databricks.v1+cell": {
     "cellMetadata": {
      "byteLimit": 2048000,
      "rowLimit": 10000
     },
     "inputWidgets": {},
     "nuid": "3333a555-2931-483c-ad12-727f90a5aa87",
     "showTitle": false,
     "tableResultSettingsMap": {},
     "title": ""
    }
   },
   "outputs": [],
   "source": [
    "analisar_dataframe(publico, \"ID\")"
   ]
  },
  {
   "cell_type": "code",
   "execution_count": 0,
   "metadata": {
    "application/vnd.databricks.v1+cell": {
     "cellMetadata": {
      "byteLimit": 2048000,
      "rowLimit": 10000
     },
     "inputWidgets": {},
     "nuid": "b974b80d-2102-4035-955b-32c31445ad09",
     "showTitle": false,
     "tableResultSettingsMap": {},
     "title": ""
    }
   },
   "outputs": [],
   "source": [
    "#Salvar o público para uso futuro\n",
    "publico.toPandas().to_csv(\"../data/processed/publico.csv\", sep=\",\",header=True,index=False)"
   ]
  },
  {
   "cell_type": "code",
   "execution_count": 0,
   "metadata": {
    "application/vnd.databricks.v1+cell": {
     "cellMetadata": {},
     "inputWidgets": {},
     "nuid": "176839c2-d1d0-41d4-aaa6-710744167382",
     "showTitle": false,
     "tableResultSettingsMap": {},
     "title": ""
    }
   },
   "outputs": [],
   "source": []
  }
 ],
 "metadata": {
  "application/vnd.databricks.v1+notebook": {
   "computePreferences": {
    "hardware": {
     "accelerator": null,
     "gpuPoolId": null,
     "memory": null
    }
   },
   "dashboards": [],
   "environmentMetadata": {
    "base_environment": "",
    "environment_version": "2"
   },
   "inputWidgetPreferences": null,
   "language": "python",
   "notebookMetadata": {
    "pythonIndentUnit": 4
   },
   "notebookName": "1_data_processing.ipynb",
   "widgets": {}
  },
  "language_info": {
   "name": "python"
  }
 },
 "nbformat": 4,
 "nbformat_minor": 0
}
