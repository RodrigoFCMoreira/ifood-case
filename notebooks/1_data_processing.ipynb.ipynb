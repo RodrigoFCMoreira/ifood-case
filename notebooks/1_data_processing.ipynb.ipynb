{
 "cells": [
  {
   "cell_type": "code",
   "execution_count": 0,
   "metadata": {
    "application/vnd.databricks.v1+cell": {
     "cellMetadata": {
      "byteLimit": 2048000,
      "rowLimit": 10000
     },
     "inputWidgets": {},
     "nuid": "1cbb4f68-35ae-4d2b-a545-cba85bbaabd6",
     "showTitle": false,
     "tableResultSettingsMap": {},
     "title": ""
    }
   },
   "outputs": [],
   "source": [
    "#Definição de bibliotecas\n",
    "import pandas as pd\n",
    "import pyspark.sql.functions as f\n",
    "import sys\n",
    "sys.path.append(\"../src\")\n",
    "from funcoes_pyspark import analisar_dataframe, filtra_mais_recente"
   ]
  },
  {
   "cell_type": "markdown",
   "metadata": {
    "application/vnd.databricks.v1+cell": {
     "cellMetadata": {
      "byteLimit": 2048000,
      "rowLimit": 10000
     },
     "inputWidgets": {},
     "nuid": "eee22ee5-2bcc-4c73-a9ad-39007e1f01a4",
     "showTitle": false,
     "tableResultSettingsMap": {},
     "title": ""
    }
   },
   "source": [
    "###1 - Reading and Understanding Databases"
   ]
  },
  {
   "cell_type": "markdown",
   "metadata": {
    "application/vnd.databricks.v1+cell": {
     "cellMetadata": {
      "byteLimit": 2048000,
      "rowLimit": 10000
     },
     "inputWidgets": {},
     "nuid": "e78ca7ae-7552-4d48-8d4c-80078351aad6",
     "showTitle": false,
     "tableResultSettingsMap": {},
     "title": ""
    }
   },
   "source": [
    "Nosso objetivo: 1.Analisar os dados históricos de transações, ofertas e clientes"
   ]
  },
  {
   "cell_type": "markdown",
   "metadata": {
    "application/vnd.databricks.v1+cell": {
     "cellMetadata": {
      "byteLimit": 2048000,
      "rowLimit": 10000
     },
     "inputWidgets": {},
     "nuid": "2f1b9226-c088-4aed-b16a-59df09b83dd6",
     "showTitle": false,
     "tableResultSettingsMap": {},
     "title": ""
    }
   },
   "source": [
    "#### 1.1 - Offers Database"
   ]
  },
  {
   "cell_type": "code",
   "execution_count": 0,
   "metadata": {
    "application/vnd.databricks.v1+cell": {
     "cellMetadata": {
      "byteLimit": 2048000,
      "rowLimit": 10000
     },
     "inputWidgets": {},
     "nuid": "04ec0f09-13b9-4134-836e-984e0fa6bc21",
     "showTitle": false,
     "tableResultSettingsMap": {},
     "title": ""
    }
   },
   "outputs": [],
   "source": [
    "#Vamos ler a base de ofertas, reestruturar a coluna channels e organizar as colunas\n",
    "offers = spark.createDataFrame(pd.read_json(\"../data/raw/offers.json\"))\\\n",
    "    .withColumn(\"web\",     f.when(f.array_contains(\"channels\", \"web\"), 1).otherwise(0)) \\\n",
    "    .withColumn(\"email\",   f.when(f.array_contains(\"channels\", \"email\"), 1).otherwise(0)) \\\n",
    "    .withColumn(\"mobile\",  f.when(f.array_contains(\"channels\", \"mobile\"), 1).otherwise(0)) \\\n",
    "    .withColumn(\"social\",  f.when(f.array_contains(\"channels\", \"social\"), 1).otherwise(0))\\\n",
    "    .withColumnRenamed(\"id\",\"offer_id\")\\\n",
    "    .select(\"offer_id\",\"offer_type\",\"discount_value\",\"min_value\",\"duration\",\"web\",\"email\",\"mobile\",\"social\").orderBy(\"offer_type\")"
   ]
  },
  {
   "cell_type": "code",
   "execution_count": 0,
   "metadata": {
    "application/vnd.databricks.v1+cell": {
     "cellMetadata": {
      "byteLimit": 2048000,
      "rowLimit": 10000
     },
     "inputWidgets": {},
     "nuid": "df587c0d-0ad9-4c98-a845-a203c35a1c77",
     "showTitle": false,
     "tableResultSettingsMap": {},
     "title": ""
    }
   },
   "outputs": [],
   "source": [
    "#verificando volumetria e duplicatas de Id\n",
    "analisar_dataframe(offers, \"offer_id\")"
   ]
  },
  {
   "cell_type": "code",
   "execution_count": 0,
   "metadata": {
    "application/vnd.databricks.v1+cell": {
     "cellMetadata": {
      "byteLimit": 2048000,
      "rowLimit": 10000
     },
     "inputWidgets": {},
     "nuid": "f3668287-2c07-49c5-9c90-f0e3c9e7f96d",
     "showTitle": false,
     "tableResultSettingsMap": {
      "0": {
       "dataGridStateBlob": "{\"version\":1,\"tableState\":{\"columnPinning\":{\"left\":[\"#row_number#\"],\"right\":[]},\"columnSizing\":{},\"columnVisibility\":{}},\"settings\":{\"columns\":{}},\"syncTimestamp\":1754581865610}",
       "filterBlob": null,
       "queryPlanFiltersBlob": null,
       "tableResultIndex": 0
      }
     },
     "title": ""
    }
   },
   "outputs": [],
   "source": [
    "#Verificar saída da base de ofertas\n",
    "offers.limit(5).display()"
   ]
  },
  {
   "cell_type": "markdown",
   "metadata": {
    "application/vnd.databricks.v1+cell": {
     "cellMetadata": {
      "byteLimit": 2048000,
      "rowLimit": 10000
     },
     "inputWidgets": {},
     "nuid": "2833af3c-ae78-4f2e-b889-4326441a3492",
     "showTitle": false,
     "tableResultSettingsMap": {},
     "title": ""
    }
   },
   "source": [
    "#####1.1.1 Data understanding"
   ]
  },
  {
   "cell_type": "code",
   "execution_count": 0,
   "metadata": {
    "application/vnd.databricks.v1+cell": {
     "cellMetadata": {
      "byteLimit": 2048000,
      "rowLimit": 10000
     },
     "inputWidgets": {},
     "nuid": "0aa03709-fc5b-4fdd-b872-9ca9ead43045",
     "showTitle": false,
     "tableResultSettingsMap": {},
     "title": ""
    }
   },
   "outputs": [],
   "source": [
    "# offer_id: identificador único da oferta, usado para relacionar com eventos \n",
    "#           como recebimento, uso e expiração. É a chave para cruzar com outras bases.\n",
    "\n",
    "# offer_type: tipo da oferta.\n",
    "#   - \"bogo\" → Buy One Get One: compre um e ganhe outro, ou crédito equivalente.\n",
    "#   - \"discount\" → desconto direto no valor da compra.\n",
    "#   - \"informational\" → comunicação sem desconto, apenas informativa.\n",
    "\n",
    "# discount_value: valor do benefício.\n",
    "#   - Para \"discount\", é o desconto em moeda (ex.: 5 = R$ 5 de desconto). não é percentual!\n",
    "#   - Para \"bogo\", discount_value = 10 → Ao comprar 1 item, o cliente recebe outro item ou crédito equivalente a R$ 10.\n",
    "#   - Para \"informational\", normalmente é 0, pois não há desconto.\n",
    "\n",
    "# min_value: valor mínimo de compra para ativar a oferta.\n",
    "#            Ex.: min_value = 20 significa que a compra deve ser de pelo menos R$ 20\n",
    "#            para o desconto ou brinde ser aplicado.\n",
    "\n",
    "# duration: número de dias de validade da oferta a partir do envio ao cliente.\n",
    "\n",
    "# web, email, mobile, social: canais de veiculação (1 = ativo, 0 = inativo).\n",
    "# Permitem enviar a mesma oferta por múltiplos canais e medir qual funciona melhor.\n",
    "\n",
    "# Essa tabela provavelmente é o catálogo de ofertas da empresa.\n",
    "# Ela define todas as regras e parâmetros de cada promoção e serve de base \n",
    "# para cruzar com dados de eventos (quem recebeu, usou, etc.).\n",
    "# Também permite análises como:\n",
    "# - desempenho por tipo de oferta\n",
    "# - eficácia por canal de comunicação\n",
    "# - impacto de diferentes valores de desconto\n"
   ]
  },
  {
   "cell_type": "markdown",
   "metadata": {
    "application/vnd.databricks.v1+cell": {
     "cellMetadata": {
      "byteLimit": 2048000,
      "rowLimit": 10000
     },
     "inputWidgets": {},
     "nuid": "52a21de3-87dc-44e2-9740-cb0f894b11f6",
     "showTitle": false,
     "tableResultSettingsMap": {},
     "title": ""
    }
   },
   "source": [
    "#### 1.2 - Profiles Database"
   ]
  },
  {
   "cell_type": "code",
   "execution_count": 0,
   "metadata": {
    "application/vnd.databricks.v1+cell": {
     "cellMetadata": {
      "byteLimit": 2048000,
      "rowLimit": 10000
     },
     "inputWidgets": {},
     "nuid": "57261f22-f68d-4d67-9200-23ca16f66d8f",
     "showTitle": false,
     "tableResultSettingsMap": {},
     "title": ""
    }
   },
   "outputs": [],
   "source": [
    "profile = spark.createDataFrame(pd.read_json(\"../data/raw/profile.json\")).withColumnRenamed(\"id\",\"profile_id\").select(\"profile_id\",\"registered_on\",\"age\",\"gender\",\"credit_card_limit\")"
   ]
  },
  {
   "cell_type": "code",
   "execution_count": 0,
   "metadata": {
    "application/vnd.databricks.v1+cell": {
     "cellMetadata": {
      "byteLimit": 2048000,
      "rowLimit": 10000
     },
     "inputWidgets": {},
     "nuid": "1ff66076-9ff1-4285-a031-3be4fd633790",
     "showTitle": false,
     "tableResultSettingsMap": {},
     "title": ""
    }
   },
   "outputs": [],
   "source": [
    "#verificando volumetria e duplicatas de Id\n",
    "analisar_dataframe(profile, \"profile_id\")"
   ]
  },
  {
   "cell_type": "code",
   "execution_count": 0,
   "metadata": {
    "application/vnd.databricks.v1+cell": {
     "cellMetadata": {
      "byteLimit": 2048000,
      "rowLimit": 10000
     },
     "inputWidgets": {},
     "nuid": "23b92a23-6775-4921-af3d-e06eed69c005",
     "showTitle": false,
     "tableResultSettingsMap": {
      "0": {
       "dataGridStateBlob": "{\"version\":1,\"tableState\":{\"columnPinning\":{\"left\":[\"#row_number#\"],\"right\":[]},\"columnSizing\":{},\"columnVisibility\":{}},\"settings\":{\"columns\":{}},\"syncTimestamp\":1754582681457}",
       "filterBlob": null,
       "queryPlanFiltersBlob": null,
       "tableResultIndex": 0
      }
     },
     "title": ""
    }
   },
   "outputs": [],
   "source": [
    "profile.limit(5).display()"
   ]
  },
  {
   "cell_type": "code",
   "execution_count": 0,
   "metadata": {
    "application/vnd.databricks.v1+cell": {
     "cellMetadata": {
      "byteLimit": 2048000,
      "rowLimit": 10000
     },
     "inputWidgets": {},
     "nuid": "94efc316-0522-42f2-88c3-aa186734631c",
     "showTitle": false,
     "tableResultSettingsMap": {},
     "title": ""
    }
   },
   "outputs": [],
   "source": [
    "#Podemos considerar que é uma base de 2018, uma vez que existem clientes entrantes todos os dias\n",
    "profile.withColumn(\"safra_registro\", f.substring(f.col(\"registered_on\").cast(\"string\"), 1, 4)).groupBy(\"safra_registro\").count().orderBy(\"safra_registro\").display()"
   ]
  },
  {
   "cell_type": "markdown",
   "metadata": {
    "application/vnd.databricks.v1+cell": {
     "cellMetadata": {
      "byteLimit": 2048000,
      "rowLimit": 10000
     },
     "inputWidgets": {},
     "nuid": "1c1e2063-5c44-418a-8271-b6e7b641fa70",
     "showTitle": false,
     "tableResultSettingsMap": {},
     "title": ""
    }
   },
   "source": [
    "#####1.2.1 Data understanding"
   ]
  },
  {
   "cell_type": "code",
   "execution_count": 0,
   "metadata": {
    "application/vnd.databricks.v1+cell": {
     "cellMetadata": {
      "byteLimit": 2048000,
      "rowLimit": 10000
     },
     "inputWidgets": {},
     "nuid": "be31bf94-2fff-4f44-a516-ac41dba1906f",
     "showTitle": false,
     "tableResultSettingsMap": {},
     "title": ""
    }
   },
   "outputs": [],
   "source": [
    "# profile_id: identificador único do cliente.\n",
    "#             Usado para cruzar o perfil com outras tabelas (ex.: ofertas recebidas, transações, histórico de uso).\n",
    "\n",
    "# registered_on: data de criação da conta (formato AAAAMMDD).\n",
    "#                Representa o momento em que o cliente entrou na base.\n",
    "#                Útil para calcular \"tempo de relacionamento\" e criar coortes.\n",
    "\n",
    "# age: idade do cliente na data de criação da conta.\n",
    "#      Valores extremamente altos (ex.: 118) indicam dado faltante ou inválido, será que é usado como código de \"sem idade\"? veremos mais na análise exploratória.\n",
    "#      Pode ser ajustado via imputação ou categorização especial (\"idade não informada\").\n",
    "\n",
    "# gender: gênero informado pelo cliente no cadastro.\n",
    "#         Possíveis valores: \"M\" (masculino), \"F\" (feminino) ou null (não informado).\n",
    "#         Null pode indicar falta de informação ou que o cliente optou por não declarar.\n",
    "#         Nao posso inferir esse tipo de dados, mas pode ser usado para segmentação por gênero.\n",
    "\n",
    "# credit_card_limit: limite de crédito do cartão registrado pelo cliente (float).\n",
    "#                    Null indica ausência de cartão registrado ou dado indisponível.\n",
    "#                    Pode ser usado como proxy de poder de compra ou perfil de risco.\n",
    "\n",
    "# Observações gerais sobre a base:\n",
    "# - São cerca de 17k clientes cadastrados.\n",
    "# - Há campos com valores nulos ou inválidos, exigindo tratamento antes de análises/modelagem.\n",
    "# - Não sei se essa idade na base cadastral é do momento do cadastro, ou se é atualizada. se for a data no momento do cadastro. A combinação \"registered_on\" + \"age\". Poderia nos dar a idade atual da pessoa, porém a base contém o campo credit_card_limit que deve ser atualizado, então vou tratar Age como a idade atual.\n",
    "# - \"credit_card_limit\" pode ajudar em segmentações de clientes por capacidade de consumo.\n",
    "# - A base serve como tabela de perfis, enriquecendo dados de ofertas e transações.\n"
   ]
  },
  {
   "cell_type": "markdown",
   "metadata": {
    "application/vnd.databricks.v1+cell": {
     "cellMetadata": {
      "byteLimit": 2048000,
      "rowLimit": 10000
     },
     "inputWidgets": {},
     "nuid": "7505527d-6433-481d-bd0e-de6c74116882",
     "showTitle": true,
     "tableResultSettingsMap": {},
     "title": ""
    },
    "jupyter": {
     "outputs_hidden": true
    }
   },
   "source": [
    "#### 1.3 - Transactions Database"
   ]
  },
  {
   "cell_type": "code",
   "execution_count": 0,
   "metadata": {
    "application/vnd.databricks.v1+cell": {
     "cellMetadata": {
      "byteLimit": 2048000,
      "rowLimit": 10000
     },
     "inputWidgets": {},
     "nuid": "87dd0e8c-fbe0-412b-b392-66cbd8db5c25",
     "showTitle": false,
     "tableResultSettingsMap": {},
     "title": ""
    }
   },
   "outputs": [],
   "source": [
    "from pyspark.sql.types import StructType, StringType, ArrayType\n",
    "#Define o schema que representa o conteúdo da coluna \"value\"\n",
    "#A coluna value contem o id da oferta. Os outros valores (\"amount\",\"reward\") sao nulos em todo dataset\n",
    "#Account_id deve ser análogo a profile_id entao vou renomear\n",
    "\n",
    "transactions = spark.createDataFrame(pd.read_json(\"../data/raw/transactions.json\")).withColumn(\"amount\", f.col(\"value.amount\")).withColumnRenamed(\"account_id\",\"profile_id\") \\\n",
    "    .withColumn(\"offer_id\", f.col(\"value.`offer id`\")).select(\"profile_id\",\"offer_id\",\"event\",\"time_since_test_start\")"
   ]
  },
  {
   "cell_type": "code",
   "execution_count": 0,
   "metadata": {
    "application/vnd.databricks.v1+cell": {
     "cellMetadata": {
      "byteLimit": 2048000,
      "rowLimit": 10000
     },
     "inputWidgets": {},
     "nuid": "da272424-edfb-446a-9e7b-6ae4e96d5f99",
     "showTitle": false,
     "tableResultSettingsMap": {},
     "title": ""
    }
   },
   "outputs": [],
   "source": [
    "analisar_dataframe(transactions, \"profile_id\")"
   ]
  },
  {
   "cell_type": "code",
   "execution_count": 0,
   "metadata": {
    "application/vnd.databricks.v1+cell": {
     "cellMetadata": {
      "byteLimit": 2048000,
      "rowLimit": 10000
     },
     "inputWidgets": {},
     "nuid": "4f44ffb8-08a9-49bc-a9b8-f566b54cd2b7",
     "showTitle": false,
     "tableResultSettingsMap": {
      "0": {
       "dataGridStateBlob": "{\"version\":1,\"tableState\":{\"columnPinning\":{\"left\":[\"#row_number#\"],\"right\":[]},\"columnSizing\":{},\"columnVisibility\":{}},\"settings\":{\"columns\":{}},\"syncTimestamp\":1754598286520}",
       "filterBlob": null,
       "queryPlanFiltersBlob": null,
       "tableResultIndex": 0
      }
     },
     "title": ""
    }
   },
   "outputs": [],
   "source": [
    "transactions.limit(5).display()"
   ]
  },
  {
   "cell_type": "markdown",
   "metadata": {
    "application/vnd.databricks.v1+cell": {
     "cellMetadata": {
      "byteLimit": 2048000,
      "rowLimit": 10000
     },
     "inputWidgets": {},
     "nuid": "18ebda43-ff27-419f-a3a1-26b150694b86",
     "showTitle": false,
     "tableResultSettingsMap": {},
     "title": ""
    }
   },
   "source": [
    "#####1.3.1 Data understanding"
   ]
  },
  {
   "cell_type": "code",
   "execution_count": 0,
   "metadata": {
    "application/vnd.databricks.v1+cell": {
     "cellMetadata": {
      "byteLimit": 2048000,
      "rowLimit": 10000
     },
     "inputWidgets": {},
     "nuid": "14b1711a-5fed-4da6-b3db-60fab18488ee",
     "showTitle": false,
     "tableResultSettingsMap": {},
     "title": ""
    }
   },
   "outputs": [],
   "source": [
    "# profile_id: id unico do cliente - originalmente era account_id\n",
    "#             Serve pra ligar o evento a um cliente especifico.\n",
    "\n",
    "# offer_id: id da oferta relacionada ao evento.\n",
    "#           Aqui no exemplo já está como coluna, mas na base original vinha dentro da coluna \"value\" (json).\n",
    "#           Usado pra cruzar com a tabela de ofertas e saber detalhes dela.\n",
    "\n",
    "# event: tipo de evento que aconteceu.\n",
    "#   - \"transaction\": cliente fez uma compra (pode ou não ter relação com oferta)\n",
    "#   - \"offer received\": cliente recebeu uma oferta\n",
    "#   - \"offer viewed\": cliente abriu/visualizou a oferta\n",
    "#   - \"offer completed\": cliente cumpriu a condição da oferta (ex.: gastou o mínimo e ganhou o desconto)\n",
    "\n",
    "# time_since_test_start: tempo desde o inicio do teste até o momento do evento, em dias.\n",
    "#                        No exemplo tudo tá 0, então parece ser o registro inicial.\n",
    "\n",
    "# value: na base completa, essa coluna guarda um json com informações adicionais:\n",
    "#   - offer_id (quando é evento de oferta)\n",
    "#   - reward/desconto (pra saber o valor do beneficio)\n",
    "#   - amount (valor da transação quando é evento de compra)\n",
    "\n",
    "# Essa tabela é um log de cerca de 300 mil eventos de clientes dentro do teste/campanha.\n",
    "# A gte consegue seguir o \"funil\" de conversão: \n",
    "#   received → viewed → completed\n",
    "#   e também ver transações que aconteceram com ou sem oferta vinculada."
   ]
  },
  {
   "cell_type": "code",
   "execution_count": 0,
   "metadata": {
    "application/vnd.databricks.v1+cell": {
     "cellMetadata": {
      "byteLimit": 2048000,
      "rowLimit": 10000
     },
     "inputWidgets": {},
     "nuid": "aac64c81-37a2-4141-8bd9-7b33cf2465f6",
     "showTitle": false,
     "tableResultSettingsMap": {
      "0": {
       "dataGridStateBlob": "{\"version\":1,\"tableState\":{\"columnPinning\":{\"left\":[\"#row_number#\"],\"right\":[]},\"columnSizing\":{\"event\":150},\"columnVisibility\":{}},\"settings\":{\"columns\":{}},\"syncTimestamp\":1754597600482}",
       "filterBlob": null,
       "queryPlanFiltersBlob": null,
       "tableResultIndex": 0
      }
     },
     "title": ""
    }
   },
   "outputs": [],
   "source": [
    "transactions.groupBy(\"event\",\"offer_id\").count().orderBy(\"event\").display()\n",
    "#Essa coluna de evento junto com a \"time_since_test_start\" é capaz de definir a jornada do cliente após receber uma oferta!\n",
    "#mas seguimos com algumas observações interessantes:\n",
    "\n",
    "# - As \"offer completed\" sempre tem offer_id null → evento de conclusão sem oferta vinculada (provavelmente teremos que inferir pela janela de transação)\n",
    "# - \"transaction\" com offer_id null → compra feita sem ligação com oferta ()\n",
    "# - Em geral, número de \"received\" é bem maior que \"viewed\" e \"completed\"\n",
    "# - Isso ajuda a achar ofertas que geram engajamento (view) mas não convertem em compra (completed)\n",
    "\n",
    "# Possíveis usos dessa base:\n",
    "# - Calcular taxas de conversão por oferta.\n",
    "# - Avaliar quais ofertas têm melhor desempenho e quais flopam.\n",
    "# - Cruzar com canais da oferta (web, email, mobile, social) pra ver qual canal traz mais resultado."
   ]
  },
  {
   "cell_type": "code",
   "execution_count": 0,
   "metadata": {
    "application/vnd.databricks.v1+cell": {
     "cellMetadata": {
      "byteLimit": 2048000,
      "rowLimit": 10000
     },
     "inputWidgets": {},
     "nuid": "e48735c2-3b4b-4543-bade-8d92ed8b7177",
     "showTitle": false,
     "tableResultSettingsMap": {
      "0": {
       "dataGridStateBlob": "{\"version\":1,\"tableState\":{\"columnPinning\":{\"left\":[\"#row_number#\"],\"right\":[]},\"columnSizing\":{\"offer_id\":287,\"account_id\":245},\"columnVisibility\":{}},\"settings\":{\"columns\":{}},\"syncTimestamp\":1754597881037}",
       "filterBlob": null,
       "queryPlanFiltersBlob": null,
       "tableResultIndex": 0
      }
     },
     "title": ""
    }
   },
   "outputs": [],
   "source": [
    "#Observando um cliente para tentar entender a jornada do cliente para diversas ofertas:\n",
    "# Possíveis comportamentos por oferta (a partir do funil de eventos):\n",
    " # 1 - Na primeira oferta ele recebe > vê  > compra (da pra notar que o time_since_test_start de transaction == offer completed)\n",
    " # 2 - Ele faz uma transação sem vínculo a uma oferta\n",
    " # 3 - Ele recebe a oferta 9837 > vê > realiza 3 transações sem vínculo a oferta > deixa a oferta rolando\n",
    " # 4 - recebe oferta ddfd > vê > deixa rolando > recebe oferta e20d > nao le a oferta e20d > 1.25 dias depois ele transaciona (offer completed no mesmo dia, porem duplicada, pq se fossem duas comprar teríamos 2 transacoes no mesmo dia) alem disso nao sabemos se offer completed foi com relação  a ddfd ou  a 9837 (devemos olhar o tempo de vigência da oferta!!)\n",
    " # 5 - por fim ele finalmente visualiza a oferta e20d \n",
    "\n",
    "transactions.filter(f.col(\"profile_id\")==\"78afa995795e4d85b5d9ceeca43f5fef\").orderBy(\"time_since_test_start\").display()"
   ]
  },
  {
   "cell_type": "markdown",
   "metadata": {
    "application/vnd.databricks.v1+cell": {
     "cellMetadata": {
      "byteLimit": 2048000,
      "rowLimit": 10000
     },
     "inputWidgets": {},
     "nuid": "8734f768-9ec2-4f8f-9802-e4879a10ffa0",
     "showTitle": false,
     "tableResultSettingsMap": {},
     "title": ""
    }
   },
   "source": [
    "#####1.3.2 - Unifying Databases"
   ]
  },
  {
   "cell_type": "code",
   "execution_count": 0,
   "metadata": {
    "application/vnd.databricks.v1+cell": {
     "cellMetadata": {
      "byteLimit": 2048000,
      "rowLimit": 10000
     },
     "inputWidgets": {},
     "nuid": "4d6bdf39-b5d6-434a-b5bd-a7f7ec98c024",
     "showTitle": false,
     "tableResultSettingsMap": {},
     "title": ""
    }
   },
   "outputs": [],
   "source": [
    "#Agora que entendemos individualmente o conceito das bases, vamos realizar o processso de enriquecimento de informações na base transacional para podermos avançar na construção da solução\n",
    "#transactions, profile, offers\n",
    "#Tomamos os valores distintos pois existem duplicidades na base,por exemplo temos 1 transacao para 2 ofertas completadas (mesma data hora), mesmo que seja possível finalizar 2 ofertas com uma transaçao, nao vamos considerar esses casos na solução.\n",
    "\n",
    "#criando a coluna ID que concatena profile_id e offer_id\n",
    "transactions_enriquecida = transactions\\\n",
    "    .join(offers, on=[\"offer_id\"], how=\"left\") \\\n",
    "    .join(profile, on=[\"profile_id\"], how=\"left\").withColumn(\"ID\", f.concat_ws(\"_\", \"profile_id\", \"offer_id\")).distinct()\n"
   ]
  },
  {
   "cell_type": "code",
   "execution_count": 0,
   "metadata": {
    "application/vnd.databricks.v1+cell": {
     "cellMetadata": {
      "byteLimit": 2048000,
      "rowLimit": 10000
     },
     "inputWidgets": {},
     "nuid": "d54d07c1-96f7-4323-97c9-95cd320b9832",
     "showTitle": false,
     "tableResultSettingsMap": {},
     "title": ""
    }
   },
   "outputs": [],
   "source": [
    "analisar_dataframe(transactions_enriquecida, \"profile_id\")"
   ]
  },
  {
   "cell_type": "code",
   "execution_count": 0,
   "metadata": {
    "application/vnd.databricks.v1+cell": {
     "cellMetadata": {
      "byteLimit": 2048000,
      "rowLimit": 10000
     },
     "inputWidgets": {},
     "nuid": "8e390a7b-75fc-4e2f-92f0-51576d5f4eee",
     "showTitle": false,
     "tableResultSettingsMap": {},
     "title": ""
    }
   },
   "outputs": [],
   "source": [
    "#vamos analisar o cliente com mais transacoes na base\n",
    "transactions.groupBy(\"profile_id\").count().orderBy(\"count\", ascending=False).limit(5).display()\n"
   ]
  },
  {
   "cell_type": "code",
   "execution_count": 0,
   "metadata": {
    "application/vnd.databricks.v1+cell": {
     "cellMetadata": {
      "byteLimit": 2048000,
      "rowLimit": 10000
     },
     "inputWidgets": {},
     "nuid": "689549a7-6f6b-433e-9b7b-4418f7cddaf2",
     "showTitle": false,
     "tableResultSettingsMap": {},
     "title": ""
    }
   },
   "outputs": [],
   "source": [
    "transactions_enriquecida.filter(f.col(\"profile_id\")==\"94de646f7b6041228ca7dec82adb97d2\").orderBy(\"time_since_test_start\").limit(5).display()"
   ]
  },
  {
   "cell_type": "code",
   "execution_count": 0,
   "metadata": {
    "application/vnd.databricks.v1+cell": {
     "cellMetadata": {
      "byteLimit": 2048000,
      "rowLimit": 10000
     },
     "inputWidgets": {},
     "nuid": "ae0a9728-144c-47f9-ab3f-6b1d6158d382",
     "showTitle": false,
     "tableResultSettingsMap": {
      "0": {
       "dataGridStateBlob": "{\"version\":1,\"tableState\":{\"columnPinning\":{\"left\":[\"#row_number#\"],\"right\":[]},\"columnSizing\":{\"profile_id\":251,\"#row_number#\":95},\"columnVisibility\":{}},\"settings\":{\"columns\":{}},\"syncTimestamp\":1754821460158}",
       "filterBlob": null,
       "queryPlanFiltersBlob": null,
       "tableResultIndex": 0
      }
     },
     "title": ""
    }
   },
   "outputs": [],
   "source": [
    "#Vamos fazer uma análise parecida mas agora na base já enriquecida com informações de oferta e perfil\n",
    "\n",
    "transactions_enriquecida.filter(f.col(\"profile_id\")==\"94de646f7b6041228ca7dec82adb97d2\").orderBy(\"time_since_test_start\").display()"
   ]
  },
  {
   "cell_type": "code",
   "execution_count": 0,
   "metadata": {
    "application/vnd.databricks.v1+cell": {
     "cellMetadata": {
      "byteLimit": 2048000,
      "rowLimit": 10000
     },
     "inputWidgets": {},
     "nuid": "31eb87e3-cc8e-4530-92a5-8805831934b1",
     "showTitle": false,
     "tableResultSettingsMap": {},
     "title": ""
    }
   },
   "outputs": [],
   "source": [
    "#Como esperado, esse tipo de oferta não tem desconto nem valor mínimo, mas sim uma informação\n",
    "transactions_enriquecida.filter(f.col(\"offer_type\")==\"informational\").groupBy(\"discount_value\",\"min_value\").count().display()"
   ]
  },
  {
   "cell_type": "code",
   "execution_count": 0,
   "metadata": {
    "application/vnd.databricks.v1+cell": {
     "cellMetadata": {
      "byteLimit": 2048000,
      "rowLimit": 10000
     },
     "inputWidgets": {},
     "nuid": "6e7db398-afce-48be-b22c-3b92ba142db9",
     "showTitle": false,
     "tableResultSettingsMap": {},
     "title": ""
    }
   },
   "outputs": [],
   "source": [
    "#Os números em geral parecem fazer sentido:\n",
    "\n",
    "# Ofertas Recebidas: Um total de 76,277 ofertas foram enviadas aos clientes.\n",
    "\n",
    "#Ofertas Visualizadas: Dessas, 57,725 ofertas foram visualizadas pelos clientes, representando uma taxa de visualização de 75.6%. Isso #mostra que uma grande parte das ofertas chamou a atenção do público.\n",
    "\n",
    "#Ofertas Completadas: Dentre as ofertas visualizadas, 30,617 ofertas resultaram em uma ação completada pelos clientes, gerando uma taxa #de conversão de 40.1%. Isso indica que muitos dos clientes que visualizaram as ofertas decidiram aproveitar alguma delas.\n",
    "\n",
    "#Transações Totais: Considerando todas as transações realizadas, um total de 138,953 transações foi registrado. Dentre essas, 30,617 #transações foram associadas a ofertas, o que representa 22.1% das transações totais.\n",
    "transactions_enriquecida.groupBy(\"event\").count().display()\n"
   ]
  },
  {
   "cell_type": "code",
   "execution_count": 0,
   "metadata": {
    "application/vnd.databricks.v1+cell": {
     "cellMetadata": {
      "byteLimit": 2048000,
      "rowLimit": 10000
     },
     "inputWidgets": {},
     "nuid": "2416b5f7-7af3-4786-bc52-ea1e79bf9925",
     "showTitle": false,
     "tableResultSettingsMap": {
      "0": {
       "dataGridStateBlob": "{\"version\":1,\"tableState\":{\"columnPinning\":{\"left\":[\"#row_number#\"],\"right\":[]},\"columnSizing\":{\"event\":149},\"columnVisibility\":{}},\"settings\":{\"columns\":{}},\"syncTimestamp\":1754754727664}",
       "filterBlob": null,
       "queryPlanFiltersBlob": null,
       "tableResultIndex": 0
      }
     },
     "title": ""
    }
   },
   "outputs": [],
   "source": [
    "transactions_enriquecida.groupBy(\"event\",\"offer_type\").count().display()\n"
   ]
  },
  {
   "cell_type": "code",
   "execution_count": 0,
   "metadata": {
    "application/vnd.databricks.v1+cell": {
     "cellMetadata": {
      "byteLimit": 2048000,
      "rowLimit": 10000
     },
     "inputWidgets": {},
     "nuid": "ed33a50b-c4f3-4b6d-b446-c70de9602e8b",
     "showTitle": false,
     "tableResultSettingsMap": {},
     "title": ""
    }
   },
   "outputs": [],
   "source": [
    "#descrever a tabela nos permite verificar alguns problemas como idade 118\n",
    "#verificar o range dos testes (30 dias)\n",
    "#Os tratamentos de outliers, missings e possíveis problemas conceituais serao identificados e tratados posteriormente\n",
    "transactions_enriquecida.describe().display()"
   ]
  },
  {
   "cell_type": "code",
   "execution_count": 0,
   "metadata": {
    "application/vnd.databricks.v1+cell": {
     "cellMetadata": {
      "byteLimit": 2048000,
      "rowLimit": 10000
     },
     "inputWidgets": {},
     "nuid": "69a94943-208b-444c-8631-ef58f0ace959",
     "showTitle": false,
     "tableResultSettingsMap": {},
     "title": ""
    }
   },
   "outputs": [],
   "source": [
    "#Encontramos 2175 clientes com idade 118, isso sugere que 118  deve ter um significado como (\"nao informado\")\n",
    "#Vamos tratar essa informacao na criaçao do book.\n",
    "profile.groupBy(\"age\").count().orderBy(\"age\").display()"
   ]
  },
  {
   "cell_type": "markdown",
   "metadata": {
    "application/vnd.databricks.v1+cell": {
     "cellMetadata": {
      "byteLimit": 2048000,
      "rowLimit": 10000
     },
     "inputWidgets": {},
     "nuid": "03e4d461-e0a7-435e-ab6f-1677dac27e35",
     "showTitle": false,
     "tableResultSettingsMap": {},
     "title": ""
    }
   },
   "source": [
    "###2 - Plan, Audience and Target"
   ]
  },
  {
   "cell_type": "markdown",
   "metadata": {
    "application/vnd.databricks.v1+cell": {
     "cellMetadata": {
      "byteLimit": 2048000,
      "rowLimit": 10000
     },
     "inputWidgets": {},
     "nuid": "5f195cd9-8596-4636-9bb4-6beaabfcb92e",
     "showTitle": false,
     "tableResultSettingsMap": {},
     "title": ""
    }
   },
   "source": [
    "Nosso objetivo: 2. Desenvolver uma técnica/modelo que auxilie na decisão de qual oferta enviar para cada cliente"
   ]
  },
  {
   "cell_type": "markdown",
   "metadata": {
    "application/vnd.databricks.v1+cell": {
     "cellMetadata": {
      "byteLimit": 2048000,
      "rowLimit": 10000
     },
     "inputWidgets": {},
     "nuid": "282f6855-b5bc-47b3-8b19-fedf9d5d2032",
     "showTitle": false,
     "tableResultSettingsMap": {},
     "title": ""
    }
   },
   "source": [
    "####2.1 - Plan"
   ]
  },
  {
   "cell_type": "markdown",
   "metadata": {
    "application/vnd.databricks.v1+cell": {
     "cellMetadata": {
      "byteLimit": 2048000,
      "rowLimit": 10000
     },
     "inputWidgets": {},
     "nuid": "1b8becad-00d5-4801-88cd-979d27493155",
     "showTitle": false,
     "tableResultSettingsMap": {},
     "title": ""
    }
   },
   "source": [
    "Agora que temos uma base transacional enriquecida e já compreendemos as informações precisamos definir o que faremos para resolver o problema proposto \"Qual oferta enviar para cada cliente?\". <br><br>\n",
    "Proponho então um **modelo supervisionado de target binário** que preveja a probabilidade de conversão.<br>\n",
    "\n",
    "**Público**: Cada linha representará um cliente recebendo uma oferta específica, ou seja o mesmo cliente poderá<br>\n",
    "aparecer diversas vezes para cada tipo de oferta.<br>\n",
    "\n",
    "**Target**: mede o sucesso da oferta, houve conversao 1 (sim) 0 (não)?<br>\n",
    "\n",
    "**Variáveis explicativas**: Todas as variáveis respeitam o corte “até o momento da oferta”.<br>Nenhuma coluna usa dados posteriores ao offer received.\n",
    "\n",
    "**Treino**: Conjunto aleatório de cliente-oferta (70%)<br>\n",
    "**Teste**:  Restante do conjunto (30%)\n",
    "    \n",
    "Na hora de escorar vamos simular todas as ofertas possíveis e ver qual tem maior probabilidade de converter o cliente.<br>\n",
    "\n",
    "Transações sem vínculo de oferta serão descartadas.\n"
   ]
  },
  {
   "cell_type": "markdown",
   "metadata": {
    "application/vnd.databricks.v1+cell": {
     "cellMetadata": {
      "byteLimit": 2048000,
      "rowLimit": 10000
     },
     "inputWidgets": {},
     "nuid": "8ff79650-a96d-4cb9-905e-975bb5dc37e8",
     "showTitle": false,
     "tableResultSettingsMap": {},
     "title": ""
    }
   },
   "source": [
    "####2.2 - Audience"
   ]
  },
  {
   "cell_type": "code",
   "execution_count": 0,
   "metadata": {
    "application/vnd.databricks.v1+cell": {
     "cellMetadata": {
      "byteLimit": 2048000,
      "rowLimit": 10000
     },
     "inputWidgets": {},
     "nuid": "80eff4b9-49e4-4032-ba7a-b10e4f0a1df3",
     "showTitle": false,
     "tableResultSettingsMap": {},
     "title": ""
    }
   },
   "outputs": [],
   "source": [
    "transactions.limit(3).display()"
   ]
  },
  {
   "cell_type": "code",
   "execution_count": 0,
   "metadata": {
    "application/vnd.databricks.v1+cell": {
     "cellMetadata": {
      "byteLimit": 2048000,
      "rowLimit": 10000
     },
     "inputWidgets": {},
     "nuid": "f53d7984-6090-4b80-a22a-8b648b99a331",
     "showTitle": false,
     "tableResultSettingsMap": {},
     "title": ""
    }
   },
   "outputs": [],
   "source": [
    "#Vamos definir nosso público, composto na granularidade de clientes e oferta\n",
    "#Clientes que receberam pelo menos uma opferta\n",
    "publico = transactions.filter(f.col(\"offer_id\").isNotNull()).filter(f.col(\"event\")==\"offer received\").withColumn(\"ID\", f.concat_ws(\"_\", \"profile_id\", \"offer_id\")).select(\"ID\",\"profile_id\",\"offer_id\").distinct()"
   ]
  },
  {
   "cell_type": "code",
   "execution_count": 0,
   "metadata": {
    "application/vnd.databricks.v1+cell": {
     "cellMetadata": {
      "byteLimit": 2048000,
      "rowLimit": 10000
     },
     "inputWidgets": {},
     "nuid": "0caa167f-3b9f-4a14-bc43-c686ea3e1f73",
     "showTitle": false,
     "tableResultSettingsMap": {},
     "title": ""
    }
   },
   "outputs": [],
   "source": [
    "publico.limit(5).display()"
   ]
  },
  {
   "cell_type": "code",
   "execution_count": 0,
   "metadata": {
    "application/vnd.databricks.v1+cell": {
     "cellMetadata": {
      "byteLimit": 2048000,
      "rowLimit": 10000
     },
     "inputWidgets": {},
     "nuid": "3333a555-2931-483c-ad12-727f90a5aa87",
     "showTitle": false,
     "tableResultSettingsMap": {},
     "title": ""
    }
   },
   "outputs": [],
   "source": [
    "analisar_dataframe(publico, \"ID\")"
   ]
  },
  {
   "cell_type": "code",
   "execution_count": 0,
   "metadata": {
    "application/vnd.databricks.v1+cell": {
     "cellMetadata": {
      "byteLimit": 2048000,
      "rowLimit": 10000
     },
     "inputWidgets": {},
     "nuid": "b974b80d-2102-4035-955b-32c31445ad09",
     "showTitle": false,
     "tableResultSettingsMap": {},
     "title": ""
    }
   },
   "outputs": [],
   "source": [
    "#Salvar o público para uso futuro\n",
    "publico.toPandas().to_csv(\"../data/processed/publico.csv\", sep=\",\",header=True,index=False)"
   ]
  },
  {
   "cell_type": "markdown",
   "metadata": {
    "application/vnd.databricks.v1+cell": {
     "cellMetadata": {
      "byteLimit": 2048000,
      "rowLimit": 10000
     },
     "inputWidgets": {},
     "nuid": "423a61bb-527f-455a-935f-309a75c4b938",
     "showTitle": false,
     "tableResultSettingsMap": {},
     "title": ""
    }
   },
   "source": [
    "####2.2 - Target"
   ]
  },
  {
   "cell_type": "code",
   "execution_count": 0,
   "metadata": {
    "application/vnd.databricks.v1+cell": {
     "cellMetadata": {
      "byteLimit": 2048000,
      "rowLimit": 10000
     },
     "inputWidgets": {},
     "nuid": "4d4a7153-b236-41ad-abdc-ef5fc650a28e",
     "showTitle": false,
     "tableResultSettingsMap": {},
     "title": ""
    }
   },
   "outputs": [],
   "source": [
    "#Vamos precisar criar uma regra para vincular a oferta a conversão pois são valores ausentes\n",
    "#Regra 1: Uma conversão é elegível para ser vinculada a uma oferta se no instante t,  ti ≤ t ≤ ti + duration, existe uma transaction == offer_completed em t, assim consideramos conversao bem sucedida target 1 caso contrário 0.\n",
    "\n",
    "#Ainda poderemos ter mais de uma oferta em aberto no intervalo proposto,neste caso vamos verificar qual a oferta tem offer_viewed mais recente\n",
    "#Caso ainda continue o empate, vamos considerar a offer received mais recente \n",
    "\n",
    "#Se continuar o empate vou descartar a oferta, pois não temos como decidir qual oferta foi a mais relevante."
   ]
  },
  {
   "cell_type": "code",
   "execution_count": 0,
   "metadata": {
    "application/vnd.databricks.v1+cell": {
     "cellMetadata": {
      "byteLimit": 2048000,
      "rowLimit": 10000
     },
     "inputWidgets": {},
     "nuid": "98d0aa72-aeb9-4f25-a5e7-fa22ce2b0f3f",
     "showTitle": false,
     "tableResultSettingsMap": {},
     "title": ""
    }
   },
   "outputs": [],
   "source": [
    "from pyspark.sql import functions as f, Window\n",
    "\n",
    "# =========================\n",
    "# 0) Normalização de schema\n",
    "# =========================\n",
    "# Esperado: transactions_enriquecida com colunas:\n",
    "# ID, profile_id, offer_id, event, time_since_test_start, offer_type, discount_value,\n",
    "# min_value, duration, web, email, mobile, social, registered_on, age, gender, credit_card_limit\n",
    "\n",
    "events = (transactions_enriquecida\n",
    "          .withColumnRenamed(\"profile_id\", \"cliente_id\")\n",
    "          .withColumn(\"t\", f.col(\"time_since_test_start\").cast(\"double\"))\n",
    "          .withColumn(\"event\", f.lower(f.col(\"event\"))))\n",
    "\n",
    "# ==========================================\n",
    "# 1) Ofertas recebidas (âncora + janela)\n",
    "# ==========================================\n",
    "recv = (events.filter(f.col(\"event\") == \"offer received\")\n",
    "        .select(\n",
    "            \"cliente_id\", \"offer_id\", \"offer_type\", \"discount_value\", \"min_value\",\n",
    "            \"duration\", \"web\", \"email\", \"mobile\", \"social\", \"t\"\n",
    "        )\n",
    "        .withColumnRenamed(\"t\", \"start_t\")\n",
    "        .withColumn(\"end_t\", f.col(\"start_t\") + f.col(\"duration\").cast(\"double\")))\n",
    "\n",
    "# ==========================================\n",
    "# 2) Eventos-chave (carregar IDs para rastreio)\n",
    "# ==========================================\n",
    "tx = (events.filter(f.col(\"event\") == \"transaction\")\n",
    "      .select(f.col(\"ID\").alias(\"tx_id\"), \"cliente_id\", f.col(\"t\").alias(\"t_tx\")))\n",
    "\n",
    "cmplt = (events.filter(f.col(\"event\") == \"offer completed\")\n",
    "         .select(f.col(\"ID\").alias(\"cmplt_id\"), \"cliente_id\", f.col(\"t\").alias(\"t_cmplt\")))\n",
    "\n",
    "view = (events.filter(f.col(\"event\") == \"offer viewed\")\n",
    "        .select(f.col(\"ID\").alias(\"view_id\"), \"cliente_id\", \"offer_id\", f.col(\"t\").alias(\"t_view\")))\n",
    "\n",
    "# ==========================================================\n",
    "# 3) Parear transaction e completed no MESMO instante (t exato)\n",
    "#    (se precisar lidar com ruído numérico, troque == por |t_tx - t_cmplt| <= 1e-6)\n",
    "# ==========================================================\n",
    "pairs = (cmplt.alias(\"c\")\n",
    "         .join(tx.alias(\"x\"),\n",
    "               on=[f.col(\"c.cliente_id\") == f.col(\"x.cliente_id\"),\n",
    "                   f.col(\"c.t_cmplt\") == f.col(\"x.t_tx\")],\n",
    "               how=\"inner\")\n",
    "         .select(\n",
    "             f.col(\"c.cliente_id\").alias(\"cliente_id\"),\n",
    "             f.col(\"c.t_cmplt\").alias(\"t\"),\n",
    "             \"cmplt_id\", \"tx_id\"\n",
    "         ))\n",
    "\n",
    "# ==========================================================\n",
    "# 4) Atribuir a uma oferta elegível no instante t (start_t ≤ t ≤ end_t)\n",
    "# ==========================================================\n",
    "elig = (pairs.alias(\"p\")\n",
    "        .join(recv.alias(\"o\"),\n",
    "              on=[f.col(\"p.cliente_id\") == f.col(\"o.cliente_id\"),\n",
    "                  f.col(\"p.t\").between(f.col(\"o.start_t\"), f.col(\"o.end_t\"))],\n",
    "              how=\"inner\")\n",
    "        .select(\n",
    "            f.col(\"p.cliente_id\").alias(\"cliente_id\"),\n",
    "            f.col(\"p.t\").alias(\"t\"),\n",
    "            \"cmplt_id\", \"tx_id\",\n",
    "            f.col(\"o.offer_id\").alias(\"offer_id\"),\n",
    "            \"offer_type\", \"discount_value\", \"min_value\", \"duration\",\n",
    "            \"web\", \"email\", \"mobile\", \"social\", \"start_t\", \"end_t\"\n",
    "        ))\n",
    "\n",
    "# ==========================================================\n",
    "# 5) Desempate:\n",
    "#    1) última VIEW da MESMA oferta antes de t (mais próxima)\n",
    "#    2) offer received mais recente (start_t maior)\n",
    "#    3) (quebra determinística) offer_id asc\n",
    "# ==========================================================\n",
    "elig_v = (elig.alias(\"e\")\n",
    "          .join(view.alias(\"v\"),\n",
    "                on=[f.col(\"e.cliente_id\") == f.col(\"v.cliente_id\"),\n",
    "                    f.col(\"e.offer_id\") == f.col(\"v.offer_id\"),\n",
    "                    f.col(\"v.t_view\") <= f.col(\"e.t\")],\n",
    "                how=\"left\")\n",
    "          .select(\n",
    "              f.col(\"e.cliente_id\").alias(\"cliente_id\"),\n",
    "              f.col(\"e.t\").alias(\"t\"),\n",
    "              \"cmplt_id\", \"tx_id\",\n",
    "              f.col(\"e.offer_id\").alias(\"offer_id\"),\n",
    "              \"offer_type\", \"discount_value\", \"min_value\", \"duration\",\n",
    "              \"web\", \"email\", \"mobile\", \"social\",\n",
    "              \"start_t\", \"end_t\",\n",
    "              f.col(\"v.t_view\").alias(\"t_view\")\n",
    "          )\n",
    "          .withColumn(\"has_view\", f.when(f.col(\"t_view\").isNotNull(), f.lit(1)).otherwise(f.lit(0)))\n",
    "          .withColumn(\"dview\", f.when(f.col(\"t_view\").isNotNull(), f.col(\"t\") - f.col(\"t_view\")).otherwise(f.lit(None))))\n",
    "\n",
    "w_rank = Window.partitionBy(\"cliente_id\", \"t\").orderBy(\n",
    "    f.col(\"has_view\").desc(),\n",
    "    f.col(\"dview\").asc_nulls_last(),\n",
    "    f.col(\"start_t\").desc(),\n",
    "    f.col(\"offer_id\").asc()\n",
    ")\n",
    "\n",
    "ranked = (elig_v\n",
    "          .withColumn(\"rank_elig\", f.row_number().over(w_rank))\n",
    "          .withColumn(  # tuple do score para detectar empates reais\n",
    "              \"score_tuple\",\n",
    "              f.array(\n",
    "                  f.col(\"has_view\").cast(\"double\"),\n",
    "                  f.coalesce(f.col(\"dview\"), f.lit(1e9)).cast(\"double\"),\n",
    "                  f.col(\"start_t\").cast(\"double\")\n",
    "              )\n",
    "          ))\n",
    "\n",
    "dups = (ranked\n",
    "        .groupBy(\"cliente_id\", \"t\", \"score_tuple\")\n",
    "        .agg(f.count(\"*\").alias(\"n_same_score\")))\n",
    "\n",
    "ranked = (ranked.alias(\"l\")\n",
    "          .join(dups.alias(\"r\"),\n",
    "                on=[f.col(\"l.cliente_id\") == f.col(\"r.cliente_id\"),\n",
    "                    f.col(\"l.t\") == f.col(\"r.t\"),\n",
    "                    f.col(\"l.score_tuple\") == f.col(\"r.score_tuple\")],\n",
    "                how=\"left\")\n",
    "          .select(\"l.*\", f.col(\"r.n_same_score\"))\n",
    "          .withColumn(\"ambiguous\", f.when(f.col(\"n_same_score\") > 1, f.lit(1)).otherwise(f.lit(0))))\n",
    "\n",
    "top_unique = (ranked\n",
    "              .filter(f.col(\"rank_elig\") == 1)\n",
    "              .filter(f.col(\"ambiguous\") == 0)\n",
    "              .select(\n",
    "                  \"cliente_id\", \"t\", \"offer_id\",\n",
    "                  \"cmplt_id\", \"tx_id\"  # rastreabilidade do match\n",
    "              ))\n",
    "\n",
    "# ==========================================================\n",
    "# 6) Target por (cliente, oferta)\n",
    "# ==========================================================\n",
    "labels = (top_unique\n",
    "          .groupBy(\"cliente_id\", \"offer_id\")\n",
    "          .agg(f.count(\"*\").alias(\"qtd_matches\"))\n",
    "          .withColumn(\"target_sucesso\", f.when(f.col(\"qtd_matches\") > 0, f.lit(1)).otherwise(f.lit(0))))\n",
    "\n",
    "# ==========================================================\n",
    "# 7) Aplicar ao PÚBLICO\n",
    "#    publico_df esperado com colunas: ID (do público), profile_id, offer_id\n",
    "# ==========================================================\n",
    "publico = (publico\n",
    "           .withColumnRenamed(\"profile_id\", \"cliente_id\")\n",
    "           .select(\"ID\", \"cliente_id\", \"offer_id\"))\n",
    "\n",
    "publico_com_target = (publico\n",
    "                      .join(labels, [\"cliente_id\", \"offer_id\"], \"left\")\n",
    "                      .na.fill({\"qtd_matches\": 0, \"target_sucesso\": 0}))\n",
    "\n",
    "# (opcional) conferir\n",
    "# publico_com_target.show(truncate=False)\n"
   ]
  },
  {
   "cell_type": "code",
   "execution_count": 0,
   "metadata": {
    "application/vnd.databricks.v1+cell": {
     "cellMetadata": {
      "byteLimit": 2048000,
      "rowLimit": 10000
     },
     "inputWidgets": {},
     "nuid": "77b69103-c89d-4aea-9613-6d0639598bd7",
     "showTitle": false,
     "tableResultSettingsMap": {},
     "title": ""
    }
   },
   "outputs": [],
   "source": [
    "publico_com_target.limit(5).display()"
   ]
  },
  {
   "cell_type": "code",
   "execution_count": 0,
   "metadata": {
    "application/vnd.databricks.v1+cell": {
     "cellMetadata": {
      "byteLimit": 2048000,
      "rowLimit": 10000
     },
     "inputWidgets": {},
     "nuid": "3eaf7e8d-3576-455a-a8ad-4388cb14198c",
     "showTitle": false,
     "tableResultSettingsMap": {},
     "title": ""
    }
   },
   "outputs": [],
   "source": [
    "#qtd matches é simplesmente a contagem de conversões únicas que conseguimos vincular àquele par (cliente, oferta) seguindo todas as regras que definimos.\n",
    "#Na grande maioria das vezes encontramos o par cliente-oferta convertendo uma única vez!\n",
    "\n",
    "from pyspark.sql import functions as f\n",
    "\n",
    "df_com_significado = (publico_com_target\n",
    "    .groupBy(\"target_sucesso\", \"qtd_matches\")\n",
    "    .count()\n",
    "    .withColumn(\n",
    "        \"significado\",\n",
    "        f.when((f.col(\"target_sucesso\") == 0) & (f.col(\"qtd_matches\") == 0),\n",
    "               f.lit(\"Recebeu oferta mas não converteu\"))\n",
    "         .when((f.col(\"target_sucesso\") == 1) & (f.col(\"qtd_matches\") == 1),\n",
    "               f.lit(\"1 conversão vinculada à oferta\"))\n",
    "         .when((f.col(\"target_sucesso\") == 1) & (f.col(\"qtd_matches\") == 2),\n",
    "               f.lit(\"2 conversões para a mesma oferta\"))\n",
    "         .when((f.col(\"target_sucesso\") == 1) & (f.col(\"qtd_matches\") == 3),\n",
    "               f.lit(\"3 conversões para a mesma oferta\"))\n",
    "         .when((f.col(\"target_sucesso\") == 1) & (f.col(\"qtd_matches\") == 4),\n",
    "               f.lit(\"4 conversões para a mesma oferta\"))\n",
    "         .when((f.col(\"target_sucesso\") == 1) & (f.col(\"qtd_matches\") == 5),\n",
    "               f.lit(\"5 conversões para a mesma oferta\"))\n",
    "         .otherwise(f.lit(\"Outro caso\"))\n",
    "    )\n",
    ").orderBy(\"count\",ascending=False)\n",
    "\n",
    "df_com_significado.display()\n"
   ]
  },
  {
   "cell_type": "code",
   "execution_count": 0,
   "metadata": {
    "application/vnd.databricks.v1+cell": {
     "cellMetadata": {
      "byteLimit": 2048000,
      "rowLimit": 10000
     },
     "inputWidgets": {},
     "nuid": "49c3defa-2024-43a0-ab23-92b067fe538a",
     "showTitle": false,
     "tableResultSettingsMap": {},
     "title": ""
    }
   },
   "outputs": [],
   "source": [
    "publico_com_target.columns"
   ]
  },
  {
   "cell_type": "code",
   "execution_count": 0,
   "metadata": {
    "application/vnd.databricks.v1+cell": {
     "cellMetadata": {
      "byteLimit": 2048000,
      "rowLimit": 10000
     },
     "inputWidgets": {},
     "nuid": "26a15ad9-8749-4792-8d9f-355f508019a9",
     "showTitle": false,
     "tableResultSettingsMap": {},
     "title": ""
    }
   },
   "outputs": [],
   "source": [
    "publico_com_target.select(\"ID\",\"cliente_id\",\"offer_id\",\"target_sucesso\").toPandas().to_csv(\"../data/processed/publico_com_target.csv\", sep=\",\",header=True,index=False)"
   ]
  },
  {
   "cell_type": "markdown",
   "metadata": {
    "application/vnd.databricks.v1+cell": {
     "cellMetadata": {
      "byteLimit": 2048000,
      "rowLimit": 10000
     },
     "inputWidgets": {},
     "nuid": "56b42ff6-b0d2-4d02-8b20-bbd7e97f6023",
     "showTitle": false,
     "tableResultSettingsMap": {},
     "title": ""
    }
   },
   "source": [
    "###3 - Predictive Variables"
   ]
  },
  {
   "cell_type": "markdown",
   "metadata": {
    "application/vnd.databricks.v1+cell": {
     "cellMetadata": {
      "byteLimit": 2048000,
      "rowLimit": 10000
     },
     "inputWidgets": {},
     "nuid": "7ee37113-8125-4da3-bf8e-590dc6e9bea6",
     "showTitle": false,
     "tableResultSettingsMap": {},
     "title": ""
    }
   },
   "source": [
    "Vamos criar books de variáveis com conceitos variados para tentar explicar o comportamento de conversao por oferta!\n",
    "\n",
    "**Book Perfil**: Características fixas ou de baixa variabilidade, que ajudam a diferenciar padrões de resposta a ofertas.<br>\n",
    "**Book Compra**: Variáveis que resumem o histórico de transações do cliente antes da oferta.<br>\n",
    "**Book interacao**: Métricas de engajamento com ofertas no passado.<br>\n",
    "**Book Oferta Atual**: Informações da própria oferta que está sendo enviada — tipo (bogo, discount,informational).<br>\n",
    "**Book Recência e Frequeência**: Informações<br>\n",
    "**Book Cliente-Oferta**: Variáveis gerais na granularidade cliente-oferta,taxa tipo, canais etc.<br>\n",
    "**Book Comunicacao**: Preferências históricas de engajamento com base nos canais disponíveis.<br>\n"
   ]
  },
  {
   "cell_type": "markdown",
   "metadata": {
    "application/vnd.databricks.v1+cell": {
     "cellMetadata": {
      "byteLimit": 2048000,
      "rowLimit": 10000
     },
     "inputWidgets": {},
     "nuid": "baa71913-2eb9-40a8-94f1-2e016d181eb3",
     "showTitle": false,
     "tableResultSettingsMap": {},
     "title": ""
    }
   },
   "source": [
    "####3.1 - Book Perfil"
   ]
  },
  {
   "cell_type": "code",
   "execution_count": 0,
   "metadata": {
    "application/vnd.databricks.v1+cell": {
     "cellMetadata": {
      "byteLimit": 2048000,
      "rowLimit": 10000
     },
     "inputWidgets": {},
     "nuid": "77b6294f-77fe-4aae-92ae-231dc136b437",
     "showTitle": false,
     "tableResultSettingsMap": {},
     "title": ""
    }
   },
   "outputs": [],
   "source": [
    "# idade                -> Idade declarada no cadastro do cliente, característica fixa.\n",
    "# genero               -> Gênero informado no cadastro; manter valores nulos, sem imputar nesta fase.\n",
    "# limite_credito       -> Limite do cartão de crédito registrado no cadastro; proxy de poder aquisitivo.\n",
    "# safra_registro       -> Mede o tempo de relacionamento relativo entre o cliente e o ifood (2013 mais antigo, 2018 mais novo)\n",
    "# historico_conversao  -> Proporção de ofertas anteriores convertidas; engajamento histórico pré-oferta."
   ]
  },
  {
   "cell_type": "code",
   "execution_count": 0,
   "metadata": {
    "application/vnd.databricks.v1+cell": {
     "cellMetadata": {
      "byteLimit": 2048000,
      "rowLimit": 10000
     },
     "inputWidgets": {},
     "nuid": "3303716d-51e3-42e7-ab0f-aff58955e653",
     "showTitle": false,
     "tableResultSettingsMap": {},
     "title": ""
    }
   },
   "outputs": [],
   "source": [
    "from pyspark.sql import functions as f, Window\n",
    "\n",
    "# Normalização e flags\n",
    "events = (transactions_enriquecida\n",
    "    .withColumnRenamed(\"profile_id\", \"cliente_id\")\n",
    "    .withColumn(\"time_since_test_start\", f.col(\"time_since_test_start\").cast(\"double\"))\n",
    "    .withColumn(\"is_offer_received\", f.when(f.col(\"event\")==\"offer received\", 1).otherwise(0))\n",
    "    .withColumn(\"is_offer_completed\", f.when(f.col(\"event\")==\"offer completed\", 1).otherwise(0))\n",
    ")\n",
    "\n",
    "# Janela cumulativa por cliente até antes do evento atual\n",
    "w_cli_time = (Window.partitionBy(\"cliente_id\")\n",
    "              .orderBy(f.col(\"time_since_test_start\"))\n",
    "              .rowsBetween(Window.unboundedPreceding, -1))\n",
    "\n",
    "events_cum = (events\n",
    "    .withColumn(\"cum_ofertas_recebidas\", f.sum(\"is_offer_received\").over(w_cli_time))\n",
    "    .withColumn(\"cum_ofertas_completas\", f.sum(\"is_offer_completed\").over(w_cli_time))\n",
    ")\n",
    "\n",
    "# Selecionar apenas ofertas recebidas (ponto de corte para features)\n",
    "ofertas_base = (events_cum\n",
    "    .filter(f.col(\"event\")==\"offer received\")\n",
    "    .select(\n",
    "        \"ID\", \"cliente_id\", \"offer_id\", \"time_since_test_start\",\n",
    "        \"age\", \"gender\", \"credit_card_limit\", \"registered_on\",\n",
    "        (f.col(\"cum_ofertas_recebidas\") - 1).alias(\"qtd_ofertas_anteriores\"),\n",
    "        f.col(\"cum_ofertas_completas\").alias(\"qtd_conv_anteriores\")\n",
    "    )\n",
    ")\n",
    "\n",
    "# Construir book_perfil\n",
    "book_perfil = (ofertas_base\n",
    "    .withColumn(\"idade\", f.when(f.col(\"age\") == 118, None).otherwise(f.col(\"age\"))) #idade 118 se tornou null.\n",
    "    .withColumn(\"genero\", f.col(\"gender\"))\n",
    "    .withColumn(\"limite_credito\", f.col(\"credit_card_limit\"))\n",
    "    .withColumn(\"safra_registro\", f.substring(f.col(\"registered_on\").cast(\"string\"), 1, 4))  # de 2013 a 2018 clientes mais antigos\n",
    "    .withColumn(\"historico_conversao\",\n",
    "                f.when(f.col(\"qtd_ofertas_anteriores\") > 0,\n",
    "                       f.col(\"qtd_conv_anteriores\") / f.col(\"qtd_ofertas_anteriores\"))\n",
    "                 .otherwise(f.lit(0.0)))\n",
    "    .select(\"ID\", \"cliente_id\", \"offer_id\",\"time_since_test_start\",\n",
    "            \"idade\",\"genero\",\"limite_credito\",\"safra_registro\",\n",
    "            \"historico_conversao\")\n",
    ")\n",
    "\n",
    "book_perfil = filtra_mais_recente(book_perfil)"
   ]
  },
  {
   "cell_type": "code",
   "execution_count": 0,
   "metadata": {
    "application/vnd.databricks.v1+cell": {
     "cellMetadata": {
      "byteLimit": 2048000,
      "rowLimit": 10000
     },
     "inputWidgets": {},
     "nuid": "9ef8c407-404c-4123-a38e-7f8ea31d1a29",
     "showTitle": false,
     "tableResultSettingsMap": {},
     "title": ""
    }
   },
   "outputs": [],
   "source": [
    "analisar_dataframe(filtra_mais_recente(book_perfil),\"ID\")"
   ]
  },
  {
   "cell_type": "code",
   "execution_count": 0,
   "metadata": {
    "application/vnd.databricks.v1+cell": {
     "cellMetadata": {},
     "inputWidgets": {},
     "nuid": "7d5bf27e-e479-4b4a-b43f-a74983023349",
     "showTitle": false,
     "tableResultSettingsMap": {},
     "title": ""
    }
   },
   "outputs": [],
   "source": []
  },
  {
   "cell_type": "code",
   "execution_count": 0,
   "metadata": {
    "application/vnd.databricks.v1+cell": {
     "cellMetadata": {
      "byteLimit": 2048000,
      "rowLimit": 10000
     },
     "inputWidgets": {},
     "nuid": "beb3688c-2c4d-4289-8208-daae9105419e",
     "showTitle": false,
     "tableResultSettingsMap": {},
     "title": ""
    }
   },
   "outputs": [],
   "source": [
    "book_perfil.limit(5).display()"
   ]
  },
  {
   "cell_type": "code",
   "execution_count": 0,
   "metadata": {
    "application/vnd.databricks.v1+cell": {
     "cellMetadata": {
      "byteLimit": 2048000,
      "rowLimit": 10000
     },
     "inputWidgets": {},
     "nuid": "6d477593-6017-47b4-ad2d-4718f1acf43c",
     "showTitle": false,
     "tableResultSettingsMap": {},
     "title": ""
    }
   },
   "outputs": [],
   "source": [
    "book_perfil.toPandas().to_csv(\"../data/processed/book_perfil.csv\", sep=\",\",header=True,index=False)"
   ]
  },
  {
   "cell_type": "markdown",
   "metadata": {
    "application/vnd.databricks.v1+cell": {
     "cellMetadata": {
      "byteLimit": 2048000,
      "rowLimit": 10000
     },
     "inputWidgets": {},
     "nuid": "73b9f842-4de4-48e4-b746-e01d6acd79fd",
     "showTitle": false,
     "tableResultSettingsMap": {},
     "title": ""
    }
   },
   "source": [
    "####3.2 - Book Compras"
   ]
  },
  {
   "cell_type": "code",
   "execution_count": 0,
   "metadata": {
    "application/vnd.databricks.v1+cell": {
     "cellMetadata": {
      "byteLimit": 2048000,
      "rowLimit": 10000
     },
     "inputWidgets": {},
     "nuid": "6d892338-2610-43b0-b1cc-c51672ed6e75",
     "showTitle": false,
     "tableResultSettingsMap": {},
     "title": ""
    }
   },
   "outputs": [],
   "source": [
    "# qtd_transacoes_anteriores    -> Número total de transações realizadas pelo cliente antes da oferta; indica histórico de consumo.\n",
    "# dias_desde_ultima_transacao  -> Intervalo de dias desde a última transação até o envio da oferta; mede recência de compra.\n",
    "# media_tempo_entre_transacoes -> Média de dias entre transações anteriores; indica regularidade no padrão de compra.\n",
    "# transacoes_distintas_dias    -> Número de dias distintos em que o cliente fez transações antes da oferta; mede frequência de uso."
   ]
  },
  {
   "cell_type": "code",
   "execution_count": 0,
   "metadata": {
    "application/vnd.databricks.v1+cell": {
     "cellMetadata": {
      "byteLimit": 2048000,
      "rowLimit": 10000
     },
     "inputWidgets": {},
     "nuid": "3e8885f5-7cb9-4162-bf6a-5fd8e3166f32",
     "showTitle": false,
     "tableResultSettingsMap": {},
     "title": ""
    }
   },
   "outputs": [],
   "source": [
    "from pyspark.sql import functions as f, Window\n",
    "\n",
    "# Criar flags para identificar transações\n",
    "events_tx = (transactions_enriquecida\n",
    "    .withColumnRenamed(\"profile_id\", \"cliente_id\")\n",
    "    .withColumn(\"time_since_test_start\", f.col(\"time_since_test_start\").cast(\"double\"))\n",
    "    .withColumn(\"is_transaction\", f.when(f.col(\"event\")==\"transaction\", 1).otherwise(0))\n",
    ")\n",
    "\n",
    "# Janela cumulativa até antes do evento atual, por cliente\n",
    "w_cli_time = (Window.partitionBy(\"cliente_id\")\n",
    "              .orderBy(f.col(\"time_since_test_start\"))\n",
    "              .rowsBetween(Window.unboundedPreceding, -1))\n",
    "\n",
    "# Janela de cliente para cálculo de diferença entre transações\n",
    "w_cli_order = (Window.partitionBy(\"cliente_id\")\n",
    "               .orderBy(f.col(\"time_since_test_start\")))\n",
    "\n",
    "# Calcular acumulados e métricas temporais\n",
    "events_cum = (events_tx\n",
    "    .withColumn(\"qtd_transacoes_anteriores\", f.sum(\"is_transaction\").over(w_cli_time))\n",
    "    .withColumn(\"ultima_tx_t\",\n",
    "                f.max(f.when(f.col(\"is_transaction\")==1, f.col(\"time_since_test_start\"))).over(w_cli_time))\n",
    "    .withColumn(\"lag_t\", f.lag(\"time_since_test_start\").over(w_cli_order))\n",
    ")\n",
    "\n",
    "# Isolar linhas \"offer received\" (momento âncora)\n",
    "ofertas_base = (events_cum\n",
    "    .filter(f.col(\"event\")==\"offer received\")\n",
    "    .select(\n",
    "        \"ID\", \"cliente_id\", \"offer_id\", \"time_since_test_start\",\n",
    "        \"qtd_transacoes_anteriores\",\n",
    "        # dias desde última transação\n",
    "        (f.col(\"time_since_test_start\") - f.col(\"ultima_tx_t\")).alias(\"dias_desde_ultima_transacao\")\n",
    "    )\n",
    ")\n",
    "\n",
    "# Calcular média de tempo entre transações e dias distintos de compra\n",
    "# Primeiro, todas as transações do cliente\n",
    "tx_historico = (events_tx\n",
    "    .filter(f.col(\"is_transaction\")==1)\n",
    "    .withColumn(\"lag_tx_t\", f.lag(\"time_since_test_start\").over(w_cli_order))\n",
    "    .withColumn(\"tempo_entre_tx\", f.col(\"time_since_test_start\") - f.col(\"lag_tx_t\"))\n",
    ")\n",
    "\n",
    "# Média de tempo entre transações e contagem de dias distintos (antes da oferta)\n",
    "w_cli_before_offer = (Window.partitionBy(\"cliente_id\",\"offer_id\",\"ID\"))\n",
    "\n",
    "book_compra = (ofertas_base\n",
    "    .join(\n",
    "        tx_historico.groupBy(\"cliente_id\")\n",
    "            .agg(f.avg(\"tempo_entre_tx\").alias(\"media_tempo_entre_transacoes\"),\n",
    "                 f.countDistinct(f.floor(\"time_since_test_start\")).alias(\"transacoes_distintas_dias\")),\n",
    "        on=\"cliente_id\",\n",
    "        how=\"left\"\n",
    "    )\n",
    "    .select(\"ID\", \"cliente_id\", \"offer_id\",\"time_since_test_start\",\n",
    "            \"qtd_transacoes_anteriores\",\n",
    "            \"dias_desde_ultima_transacao\",\n",
    "            \"media_tempo_entre_transacoes\",\n",
    "            \"transacoes_distintas_dias\")\n",
    ")\n",
    "\n",
    "book_compra = filtra_mais_recente(book_compra)\n"
   ]
  },
  {
   "cell_type": "code",
   "execution_count": 0,
   "metadata": {
    "application/vnd.databricks.v1+cell": {
     "cellMetadata": {
      "byteLimit": 2048000,
      "rowLimit": 10000
     },
     "inputWidgets": {},
     "nuid": "939c9fe3-a2fc-4fc5-be57-ac7d45516b11",
     "showTitle": false,
     "tableResultSettingsMap": {},
     "title": ""
    }
   },
   "outputs": [],
   "source": [
    "analisar_dataframe(filtra_mais_recente(book_compra),\"ID\")"
   ]
  },
  {
   "cell_type": "code",
   "execution_count": 0,
   "metadata": {
    "application/vnd.databricks.v1+cell": {
     "cellMetadata": {
      "byteLimit": 2048000,
      "rowLimit": 10000
     },
     "inputWidgets": {},
     "nuid": "b34cf002-a83c-42b5-86fa-85eff66afb40",
     "showTitle": false,
     "tableResultSettingsMap": {},
     "title": ""
    }
   },
   "outputs": [],
   "source": [
    "book_compra.limit(5).display()"
   ]
  },
  {
   "cell_type": "code",
   "execution_count": 0,
   "metadata": {
    "application/vnd.databricks.v1+cell": {
     "cellMetadata": {
      "byteLimit": 2048000,
      "rowLimit": 10000
     },
     "inputWidgets": {},
     "nuid": "f537c5ab-ad2f-47e7-be75-0044b49fc5b5",
     "showTitle": false,
     "tableResultSettingsMap": {},
     "title": ""
    }
   },
   "outputs": [],
   "source": [
    "book_compra.toPandas().to_csv(\"../data/processed/book_compra.csv\", sep=\",\",header=True,index=False)"
   ]
  },
  {
   "cell_type": "markdown",
   "metadata": {
    "application/vnd.databricks.v1+cell": {
     "cellMetadata": {
      "byteLimit": 2048000,
      "rowLimit": 10000
     },
     "inputWidgets": {},
     "nuid": "a86e70c9-ef8e-47fd-96f4-b53a45b4a86e",
     "showTitle": false,
     "tableResultSettingsMap": {},
     "title": ""
    }
   },
   "source": [
    "####3.3 - Book Interação"
   ]
  },
  {
   "cell_type": "code",
   "execution_count": 0,
   "metadata": {
    "application/vnd.databricks.v1+cell": {
     "cellMetadata": {
      "byteLimit": 2048000,
      "rowLimit": 10000
     },
     "inputWidgets": {},
     "nuid": "a488edd7-7914-4c58-aaa5-657e4818fc97",
     "showTitle": false,
     "tableResultSettingsMap": {},
     "title": ""
    }
   },
   "outputs": [],
   "source": [
    "# qtd_ofertas_anteriores        -> Número de ofertas recebidas antes da oferta atual; mede exposição prévia a campanhas.\n",
    "# qtd_ofertas_visualizadas      -> Número de ofertas visualizadas antes da oferta atual; indica interesse em abrir ofertas.\n",
    "# taxa_visualizacao             -> Proporção de ofertas recebidas que foram visualizadas antes da oferta atual; engajamento inicial.\n",
    "# tempo_medio_visualizacao      -> Tempo médio (dias) entre receber e visualizar ofertas anteriores; rapidez na interação.\n",
    "# qtd_ofertas_completas_validas -> Número de ofertas com conversão válida antes da oferta atual; medida conservadora de sucesso prévio.\n",
    "# taxa_conversao                -> Proporção de ofertas anteriores com conversão válida; engajamento efetivo.\n",
    "# tempo_medio_conversao         -> Tempo médio (dias) entre visualizar e converter (válido) ofertas anteriores; rapidez para concluir."
   ]
  },
  {
   "cell_type": "code",
   "execution_count": 0,
   "metadata": {
    "application/vnd.databricks.v1+cell": {
     "cellMetadata": {
      "byteLimit": 2048000,
      "rowLimit": 10000
     },
     "inputWidgets": {},
     "nuid": "2678eaa1-5fb1-42f0-b96f-e7315d50a931",
     "showTitle": false,
     "tableResultSettingsMap": {},
     "title": ""
    }
   },
   "outputs": [],
   "source": [
    "# ============================================\n",
    "# BOOK 3 — Histórico de interação com ofertas\n",
    "# ============================================\n",
    "# Saída: book_interacao com as colunas:\n",
    "# - qtd_ofertas_anteriores, qtd_ofertas_visualizadas, taxa_visualizacao\n",
    "# - tempo_medio_visualizacao, tempo_medio_conversao\n",
    "# - qtd_ofertas_completas_validas, taxa_conversao\n",
    "#\n",
    "# Observação:\n",
    "# - Conversão válida = (transaction == offer completed no mesmo t) + oferta elegível na janela\n",
    "# - Tempos médios calculados apenas a partir de instâncias anteriores (sem olhar o futuro)\n",
    "# - Não usamos 'amount' (não existe nesta base)\n",
    "\n",
    "from pyspark.sql import functions as f, Window\n",
    "\n",
    "# =========================\n",
    "# 0) Normalização base\n",
    "# =========================\n",
    "ev = (transactions_enriquecida\n",
    "      .withColumnRenamed(\"profile_id\",\"cliente_id\")\n",
    "      .withColumn(\"time_since_test_start\", f.col(\"time_since_test_start\").cast(\"double\"))\n",
    "      .withColumn(\"event\", f.lower(f.col(\"event\"))))\n",
    "\n",
    "# Tabelas por tipo de evento\n",
    "recv = (ev.filter(f.col(\"event\")==\"offer received\")\n",
    "          .select(\"ID\",\"cliente_id\",\"offer_id\",\"time_since_test_start\",\n",
    "                  \"offer_type\",\"discount_value\",\"min_value\",\"duration\",\"web\",\"email\",\"mobile\",\"social\")\n",
    "          .withColumnRenamed(\"time_since_test_start\",\"start_t\")\n",
    "          .withColumn(\"end_t\", f.col(\"start_t\") + f.col(\"duration\").cast(\"double\")))\n",
    "\n",
    "view = (ev.filter(f.col(\"event\")==\"offer viewed\")\n",
    "          .select(\"ID\",\"cliente_id\",\"offer_id\", f.col(\"time_since_test_start\").alias(\"t_view\")))\n",
    "\n",
    "tx   = (ev.filter(f.col(\"event\")==\"transaction\")\n",
    "          .select(\"cliente_id\", f.col(\"time_since_test_start\").alias(\"t_tx\")))\n",
    "\n",
    "cmpl = (ev.filter(f.col(\"event\")==\"offer completed\")\n",
    "          .select(\"cliente_id\", f.col(\"time_since_test_start\").alias(\"t_cmplt\")))\n",
    "\n",
    "# ======================================================\n",
    "# 1) Parear transaction e completed no MESMO instante t\n",
    "#    (prova de conversão) — estrito, sem epsilon\n",
    "# ======================================================\n",
    "pairs = (cmpl.alias(\"c\")\n",
    "         .join(tx.alias(\"x\"),\n",
    "               on=[f.col(\"c.cliente_id\")==f.col(\"x.cliente_id\"),\n",
    "                   f.col(\"c.t_cmplt\")==f.col(\"x.t_tx\")],\n",
    "               how=\"inner\")\n",
    "         .select(\n",
    "             f.col(\"c.cliente_id\").alias(\"cliente_id\"),\n",
    "             f.col(\"c.t_cmplt\").alias(\"t\")\n",
    "         ))\n",
    "\n",
    "# ===========================================\n",
    "# 2) Ofertas elegíveis no instante t (janela)\n",
    "# ===========================================\n",
    "elig = (pairs.alias(\"p\")\n",
    "        .join(recv.alias(\"o\"),\n",
    "              on=[f.col(\"p.cliente_id\")==f.col(\"o.cliente_id\"),\n",
    "                  f.col(\"p.t\").between(f.col(\"o.start_t\"), f.col(\"o.end_t\"))],\n",
    "              how=\"inner\")\n",
    "        .select(\n",
    "            f.col(\"p.cliente_id\").alias(\"cliente_id\"),\n",
    "            f.col(\"p.t\").alias(\"t\"),\n",
    "            # Instância da oferta (ID do received) — importante p/ acumular históricos por instância\n",
    "            f.col(\"o.ID\").alias(\"offer_instance_id\"),\n",
    "            f.col(\"o.offer_id\").alias(\"offer_id\"),\n",
    "            f.col(\"o.start_t\").alias(\"start_t\"),\n",
    "            f.col(\"o.end_t\").alias(\"end_t\")\n",
    "        ))\n",
    "\n",
    "# =========================================================\n",
    "# 3) Desempate por VIEW da MESMA oferta antes de t, depois\n",
    "#    recência do received (start_t) e offer_id determinístico\n",
    "# =========================================================\n",
    "elig_v = (elig.alias(\"e\")\n",
    "          .join(view.alias(\"v\"),\n",
    "                on=[f.col(\"e.cliente_id\")==f.col(\"v.cliente_id\"),\n",
    "                    f.col(\"e.offer_id\")==f.col(\"v.offer_id\"),\n",
    "                    f.col(\"v.t_view\") <= f.col(\"e.t\")],\n",
    "                how=\"left\")\n",
    "          .select(\n",
    "              f.col(\"e.cliente_id\").alias(\"cliente_id\"),\n",
    "              f.col(\"e.t\").alias(\"t\"),\n",
    "              f.col(\"e.offer_instance_id\").alias(\"offer_instance_id\"),\n",
    "              f.col(\"e.offer_id\").alias(\"offer_id\"),\n",
    "              f.col(\"e.start_t\").alias(\"start_t\"),\n",
    "              f.col(\"e.end_t\").alias(\"end_t\"),\n",
    "              f.col(\"v.t_view\").alias(\"t_view\")\n",
    "          )\n",
    "          .withColumn(\"has_view\", f.when(f.col(\"t_view\").isNotNull(), f.lit(1)).otherwise(f.lit(0)))\n",
    "          .withColumn(\"dview\", f.when(f.col(\"t_view\").isNotNull(),\n",
    "                                      f.col(\"t\") - f.col(\"t_view\")).otherwise(f.lit(None))))\n",
    "\n",
    "w_rank = Window.partitionBy(\"cliente_id\",\"t\").orderBy(\n",
    "    f.col(\"has_view\").desc(),\n",
    "    f.col(\"dview\").asc_nulls_last(),\n",
    "    f.col(\"start_t\").desc(),\n",
    "    f.col(\"offer_id\").asc(),\n",
    "    f.col(\"offer_instance_id\").asc()\n",
    ")\n",
    "\n",
    "ranked = (elig_v\n",
    "          .withColumn(\"rank_elig\", f.row_number().over(w_rank))\n",
    "          .withColumn(\"score_tuple\",\n",
    "                      f.array(\n",
    "                          f.col(\"has_view\").cast(\"double\"),\n",
    "                          f.coalesce(f.col(\"dview\"), f.lit(1e9)).cast(\"double\"),\n",
    "                          f.col(\"start_t\").cast(\"double\")\n",
    "                      )))\n",
    "\n",
    "dups = (ranked.groupBy(\"cliente_id\",\"t\",\"score_tuple\")\n",
    "        .agg(f.count(\"*\").alias(\"n_same_score\")))\n",
    "\n",
    "conv_valid = (ranked.alias(\"l\")\n",
    "              .join(dups.alias(\"r\"),\n",
    "                    on=[f.col(\"l.cliente_id\")==f.col(\"r.cliente_id\"),\n",
    "                        f.col(\"l.t\")==f.col(\"r.t\"),\n",
    "                        f.col(\"l.score_tuple\")==f.col(\"r.score_tuple\")],\n",
    "                    how=\"left\")\n",
    "              .filter(f.col(\"l.rank_elig\")==1)\n",
    "              .filter((f.col(\"r.n_same_score\").isNull()) | (f.col(\"r.n_same_score\")==1))\n",
    "              .select(\n",
    "                  f.col(\"l.cliente_id\").alias(\"cliente_id\"),\n",
    "                  f.col(\"l.t\").alias(\"t_conv_valid\"),\n",
    "                  f.col(\"l.offer_id\").alias(\"offer_id\"),\n",
    "                  f.col(\"l.offer_instance_id\").alias(\"offer_instance_id\")\n",
    "              ))\n",
    "\n",
    "# =========================================================\n",
    "# 4) Tempos por instância anterior (received/viewed/conv válida)\n",
    "#    - delta_view = first_t_view - start_t\n",
    "#    - delta_conv = first_t_conv_valid - first_t_view\n",
    "# =========================================================\n",
    "# a) primeiro view por instância (se houver)\n",
    "first_view_by_instance = (view.groupBy(\"ID\")\n",
    "                          .agg(f.min(\"t_view\").alias(\"first_t_view\")))\n",
    "\n",
    "# b) primeiro t de conversão válida por instância (se houver)\n",
    "first_conv_by_instance = (conv_valid.groupBy(\"offer_instance_id\")\n",
    "                          .agg(f.min(\"t_conv_valid\").alias(\"first_t_conv_valid\"))\n",
    "                          .withColumnRenamed(\"offer_instance_id\",\"ID\"))\n",
    "\n",
    "# c) tabela de instâncias (received) com start_t\n",
    "instances = recv.select(\"ID\",\"cliente_id\",\"offer_id\",\"start_t\")\n",
    "\n",
    "# d) calcular deltas por instância\n",
    "instances_with_times = (instances\n",
    "    .join(first_view_by_instance, on=\"ID\", how=\"left\")\n",
    "    .join(first_conv_by_instance, on=\"ID\", how=\"left\")\n",
    "    .withColumn(\"delta_view\",\n",
    "                f.when(f.col(\"first_t_view\").isNotNull(),\n",
    "                       f.col(\"first_t_view\") - f.col(\"start_t\"))\n",
    "                 .otherwise(f.lit(None)))\n",
    "    .withColumn(\"delta_conv\",\n",
    "                f.when(f.col(\"first_t_conv_valid\").isNotNull() & f.col(\"first_t_view\").isNotNull(),\n",
    "                       f.col(\"first_t_conv_valid\") - f.col(\"first_t_view\"))\n",
    "                 .otherwise(f.lit(None)))\n",
    ")\n",
    "\n",
    "# =========================================================\n",
    "# 5) Acumulados por cliente até ANTES da oferta atual\n",
    "#    (médias históricas de delta_view/delta_conv)\n",
    "# =========================================================\n",
    "w_cum_delta = Window.partitionBy(\"cliente_id\").orderBy(\"start_t\") \\\n",
    "                    .rowsBetween(Window.unboundedPreceding, -1)\n",
    "\n",
    "inst_agg_prior = (instances_with_times\n",
    "    .withColumn(\"cum_sum_delta_view\",\n",
    "                f.sum(f.when(f.col(\"delta_view\").isNotNull(), f.col(\"delta_view\"))\n",
    "                       .otherwise(f.lit(0.0))).over(w_cum_delta))\n",
    "    .withColumn(\"cum_cnt_delta_view\",\n",
    "                f.sum(f.when(f.col(\"delta_view\").isNotNull(), f.lit(1))\n",
    "                       .otherwise(f.lit(0))).over(w_cum_delta))\n",
    "    .withColumn(\"cum_sum_delta_conv\",\n",
    "                f.sum(f.when(f.col(\"delta_conv\").isNotNull(), f.col(\"delta_conv\"))\n",
    "                       .otherwise(f.lit(0.0))).over(w_cum_delta))\n",
    "    .withColumn(\"cum_cnt_delta_conv\",\n",
    "                f.sum(f.when(f.col(\"delta_conv\").isNotNull(), f.lit(1))\n",
    "                       .otherwise(f.lit(0))).over(w_cum_delta))\n",
    "    .withColumn(\"tempo_medio_visualizacao\",\n",
    "                f.when(f.col(\"cum_cnt_delta_view\")>0,\n",
    "                       f.col(\"cum_sum_delta_view\")/f.col(\"cum_cnt_delta_view\"))\n",
    "                 .otherwise(f.lit(None)))\n",
    "    .withColumn(\"tempo_medio_conversao\",\n",
    "                f.when(f.col(\"cum_cnt_delta_conv\")>0,\n",
    "                       f.col(\"cum_sum_delta_conv\")/f.col(\"cum_cnt_delta_conv\"))\n",
    "                 .otherwise(f.lit(None)))\n",
    "    .select(\"ID\",\"cliente_id\",\"start_t\",\"tempo_medio_visualizacao\",\"tempo_medio_conversao\")\n",
    ")\n",
    "\n",
    "# =========================================================\n",
    "# 6) Cumulativos \"simples\" de oferta/view até ANTES da oferta atual\n",
    "# =========================================================\n",
    "ev_flags = (ev\n",
    "    .withColumn(\"is_offer_received\", f.when(f.col(\"event\")==\"offer received\", 1).otherwise(0))\n",
    "    .withColumn(\"is_offer_viewed\",   f.when(f.col(\"event\")==\"offer viewed\", 1).otherwise(0))\n",
    ")\n",
    "\n",
    "w_hist = Window.partitionBy(\"cliente_id\").orderBy(\"time_since_test_start\") \\\n",
    "               .rowsBetween(Window.unboundedPreceding, -1)\n",
    "\n",
    "cum_before = (ev_flags\n",
    "    .withColumn(\"qtd_ofertas_anteriores\",   f.sum(\"is_offer_received\").over(w_hist))\n",
    "    .withColumn(\"qtd_ofertas_visualizadas\", f.sum(\"is_offer_viewed\").over(w_hist))\n",
    ")\n",
    "\n",
    "# Âncoras (ofertas atuais) com cumulativos antes\n",
    "anchors = (cum_before.filter(f.col(\"event\")==\"offer received\")\n",
    "           .select(\n",
    "               f.col(\"ID\").alias(\"ID\"),\n",
    "               f.col(\"cliente_id\").alias(\"cliente_id\"),\n",
    "               f.col(\"offer_id\").alias(\"offer_id\"),\n",
    "               f.col(\"time_since_test_start\").alias(\"t_oferta\"),\n",
    "               f.col(\"qtd_ofertas_anteriores\").alias(\"qtd_ofertas_anteriores\"),\n",
    "               f.col(\"qtd_ofertas_visualizadas\").alias(\"qtd_ofertas_visualizadas\")\n",
    "           ))\n",
    "\n",
    "# =========================================================\n",
    "# 7) Juntar âncoras com históricos anteriores e calcular métricas\n",
    "# =========================================================\n",
    "# (a) tempos médios históricos até antes da oferta atual\n",
    "prior = inst_agg_prior.select(\"cliente_id\",\"start_t\",\"tempo_medio_visualizacao\",\"tempo_medio_conversao\")\n",
    "\n",
    "left1 = (anchors.alias(\"A\")\n",
    "         .join(prior.alias(\"H\"),\n",
    "               (f.col(\"A.cliente_id\")==f.col(\"H.cliente_id\")) & (f.col(\"H.start_t\") < f.col(\"A.t_oferta\")),\n",
    "               \"left\"))\n",
    "\n",
    "agg1 = (left1\n",
    "        .groupBy(\"A.ID\",\"A.cliente_id\",\"A.offer_id\",\"A.t_oferta\",\n",
    "                 \"A.qtd_ofertas_anteriores\",\"A.qtd_ofertas_visualizadas\")\n",
    "        .agg(\n",
    "            f.max(\"H.tempo_medio_visualizacao\").alias(\"tempo_medio_visualizacao\"),\n",
    "            f.max(\"H.tempo_medio_conversao\").alias(\"tempo_medio_conversao\")\n",
    "        ))\n",
    "\n",
    "# (b) conversões válidas acumuladas até antes da oferta atual\n",
    "cv_prior = conv_valid.select(\"cliente_id\",\"t_conv_valid\",\"offer_instance_id\")\n",
    "\n",
    "left2 = (agg1.alias(\"A\")\n",
    "         .join(cv_prior.alias(\"CV\"),\n",
    "               (f.col(\"A.cliente_id\")==f.col(\"CV.cliente_id\")) & (f.col(\"CV.t_conv_valid\") < f.col(\"A.t_oferta\")),\n",
    "               \"left\"))\n",
    "\n",
    "book_interacao = (left2\n",
    "    .groupBy(\"A.ID\",\"A.cliente_id\",\"A.offer_id\",\"A.t_oferta\",\n",
    "             \"A.qtd_ofertas_anteriores\",\"A.qtd_ofertas_visualizadas\",\n",
    "             \"A.tempo_medio_visualizacao\",\"A.tempo_medio_conversao\")\n",
    "    .agg(f.count(\"CV.offer_instance_id\").alias(\"qtd_ofertas_completas_validas\"))\n",
    "    .withColumn(\"taxa_visualizacao\",\n",
    "                f.when(f.col(\"A.qtd_ofertas_anteriores\")>0,\n",
    "                       f.col(\"A.qtd_ofertas_visualizadas\")/f.col(\"A.qtd_ofertas_anteriores\"))\n",
    "                 .otherwise(f.lit(0.0)))\n",
    "    .withColumn(\"taxa_conversao\",\n",
    "                f.when(f.col(\"A.qtd_ofertas_anteriores\")>0,\n",
    "                       f.col(\"qtd_ofertas_completas_validas\")/f.col(\"A.qtd_ofertas_anteriores\"))\n",
    "                 .otherwise(f.lit(0.0)))\n",
    "    .select(\n",
    "        f.col(\"A.ID\").alias(\"ID\"),\n",
    "        f.col(\"A.cliente_id\").alias(\"cliente_id\"),\n",
    "        f.col(\"A.t_oferta\").alias(\"time_since_test_start\"),\n",
    "        f.col(\"A.offer_id\").alias(\"offer_id\"),\n",
    "        f.col(\"A.qtd_ofertas_anteriores\").alias(\"qtd_ofertas_anteriores\"),\n",
    "        f.col(\"A.qtd_ofertas_visualizadas\").alias(\"qtd_ofertas_visualizadas\"),\n",
    "        \"tempo_medio_visualizacao\",\"tempo_medio_conversao\",\n",
    "        \"qtd_ofertas_completas_validas\",\n",
    "        \"taxa_visualizacao\",\"taxa_conversao\"\n",
    "    )\n",
    ")\n",
    "\n",
    "book_interacao = filtra_mais_recente(book_interacao)"
   ]
  },
  {
   "cell_type": "code",
   "execution_count": 0,
   "metadata": {
    "application/vnd.databricks.v1+cell": {
     "cellMetadata": {
      "byteLimit": 2048000,
      "rowLimit": 10000
     },
     "inputWidgets": {},
     "nuid": "f578fffe-0dbb-4761-9e5b-babafe52c22d",
     "showTitle": false,
     "tableResultSettingsMap": {},
     "title": ""
    }
   },
   "outputs": [],
   "source": [
    "analisar_dataframe(filtra_mais_recente(book_interacao),\"ID\")"
   ]
  },
  {
   "cell_type": "code",
   "execution_count": 0,
   "metadata": {
    "application/vnd.databricks.v1+cell": {
     "cellMetadata": {
      "byteLimit": 2048000,
      "rowLimit": 10000
     },
     "inputWidgets": {},
     "nuid": "578c28ff-28a7-4f56-b971-264d65af9f53",
     "showTitle": false,
     "tableResultSettingsMap": {},
     "title": ""
    }
   },
   "outputs": [],
   "source": [
    "# sanidade da base\n",
    "print(\"anchors:\", anchors.count(),\n",
    "      \"| inst_agg_prior:\", inst_agg_prior.count(),\n",
    "      \"| conv_valid:\", conv_valid.count())\n",
    "book_interacao.limit(10).display()"
   ]
  },
  {
   "cell_type": "code",
   "execution_count": 0,
   "metadata": {
    "application/vnd.databricks.v1+cell": {
     "cellMetadata": {
      "byteLimit": 2048000,
      "rowLimit": 10000
     },
     "inputWidgets": {},
     "nuid": "b5f2d5ff-ccdd-42d1-82c0-a0b458f4ebfe",
     "showTitle": false,
     "tableResultSettingsMap": {},
     "title": ""
    }
   },
   "outputs": [],
   "source": [
    "book_interacao.toPandas().to_csv(\"../data/processed/book_interacao.csv\", sep=\",\",header=True,index=False)"
   ]
  },
  {
   "cell_type": "markdown",
   "metadata": {
    "application/vnd.databricks.v1+cell": {
     "cellMetadata": {
      "byteLimit": 2048000,
      "rowLimit": 10000
     },
     "inputWidgets": {},
     "nuid": "99b9eca2-a42b-4ed3-a934-2ffe508c81d7",
     "showTitle": false,
     "tableResultSettingsMap": {},
     "title": ""
    }
   },
   "source": [
    "####3.4 - Book Oferta Atual"
   ]
  },
  {
   "cell_type": "code",
   "execution_count": 0,
   "metadata": {
    "application/vnd.databricks.v1+cell": {
     "cellMetadata": {
      "byteLimit": 2048000,
      "rowLimit": 10000
     },
     "inputWidgets": {},
     "nuid": "05dfeaa9-56bb-43db-ad66-fffdaf9df3ac",
     "showTitle": false,
     "tableResultSettingsMap": {},
     "title": ""
    }
   },
   "outputs": [],
   "source": [
    "# offer_type        -> Tipo da oferta enviada (bogo, discount, informational); define a mecânica do incentivo.\n",
    "# discount_value    -> Valor do desconto ou crédito oferecido; proxy de atratividade da oferta.\n",
    "# min_value         -> Valor mínimo de compra para ativar a oferta; afeta a barreira de conversão.\n",
    "# duration          -> Duração total da oferta em dias, a partir do recebimento.\n",
    "# web               -> Flag indicando se a oferta foi enviada pelo canal web; impacto no alcance.\n",
    "# email             -> Flag indicando se a oferta foi enviada por e-mail; impacto no alcance.\n",
    "# mobile            -> Flag indicando se a oferta foi enviada pelo canal mobile; impacto no alcance.\n",
    "# social            -> Flag indicando se a oferta foi enviada via mídias sociais; impacto no alcance."
   ]
  },
  {
   "cell_type": "code",
   "execution_count": 0,
   "metadata": {
    "application/vnd.databricks.v1+cell": {
     "cellMetadata": {
      "byteLimit": 2048000,
      "rowLimit": 10000
     },
     "inputWidgets": {},
     "nuid": "0092aa3d-e0e0-4765-a284-0917b519422e",
     "showTitle": false,
     "tableResultSettingsMap": {},
     "title": ""
    }
   },
   "outputs": [],
   "source": [
    "from pyspark.sql import functions as f\n",
    "\n",
    "# Partimos de transactions_enriquecida filtrando apenas eventos 'offer received'\n",
    "book_oferta = (transactions_enriquecida\n",
    "    .withColumnRenamed(\"profile_id\", \"cliente_id\")\n",
    "    .withColumn(\"event\", f.lower(f.col(\"event\")))\n",
    "    .filter(f.col(\"event\") == \"offer received\")\n",
    "    .select(\n",
    "        \"ID\", \"cliente_id\", \"offer_id\", \"time_since_test_start\",\n",
    "        \"offer_type\", \"discount_value\", \"min_value\", \"duration\",\n",
    "        \"web\", \"email\", \"mobile\", \"social\"\n",
    "    )\n",
    ")\n",
    "\n",
    "book_oferta = filtra_mais_recente(book_oferta)"
   ]
  },
  {
   "cell_type": "code",
   "execution_count": 0,
   "metadata": {
    "application/vnd.databricks.v1+cell": {
     "cellMetadata": {
      "byteLimit": 2048000,
      "rowLimit": 10000
     },
     "inputWidgets": {},
     "nuid": "559cd610-5bba-4969-aa5c-92193422b4ab",
     "showTitle": false,
     "tableResultSettingsMap": {},
     "title": ""
    }
   },
   "outputs": [],
   "source": [
    "analisar_dataframe(filtra_mais_recente(book_oferta),\"ID\")"
   ]
  },
  {
   "cell_type": "code",
   "execution_count": 0,
   "metadata": {
    "application/vnd.databricks.v1+cell": {
     "cellMetadata": {
      "byteLimit": 2048000,
      "rowLimit": 10000
     },
     "inputWidgets": {},
     "nuid": "a6595a78-d97e-490f-bac8-23a74a88b43d",
     "showTitle": false,
     "tableResultSettingsMap": {},
     "title": ""
    }
   },
   "outputs": [],
   "source": [
    "book_oferta.toPandas().to_csv(\"../data/processed/book_oferta.csv\", sep=\",\",header=True,index=False)"
   ]
  },
  {
   "cell_type": "markdown",
   "metadata": {
    "application/vnd.databricks.v1+cell": {
     "cellMetadata": {
      "byteLimit": 2048000,
      "rowLimit": 10000
     },
     "inputWidgets": {},
     "nuid": "bb87677a-65bb-41f1-8fd9-6f6d89745741",
     "showTitle": false,
     "tableResultSettingsMap": {},
     "title": ""
    }
   },
   "source": [
    "####3.5 - Book Recência e Frequência"
   ]
  },
  {
   "cell_type": "code",
   "execution_count": 0,
   "metadata": {
    "application/vnd.databricks.v1+cell": {
     "cellMetadata": {
      "byteLimit": 2048000,
      "rowLimit": 10000
     },
     "inputWidgets": {},
     "nuid": "a2474581-9c15-4acb-9d0c-83b7a6dd02cc",
     "showTitle": false,
     "tableResultSettingsMap": {},
     "title": ""
    }
   },
   "outputs": [],
   "source": [
    "# dias_desde_ultima_transacao        -> Dias desde a última transação até o envio da oferta; mede recência de compra.\n",
    "# dias_desde_ultima_oferta_recebida  -> Dias desde a última oferta recebida (antes da atual); mede cadência de comunicação.\n",
    "# dias_desde_ultima_oferta_visualizada -> Dias desde a última visualização de oferta; sinal de engajamento recente.\n",
    "# dias_desde_ultima_conversao_valida -> Dias desde a última conversão válida (transaction==completed no mesmo t); sucesso recente.\n",
    "# n_transacoes_7d                    -> Nº de transações nos 7 dias anteriores ao envio da oferta; frequência recente de compra.\n",
    "# n_transacoes_14d                   -> Nº de transações nos 14 dias anteriores; frequência recente mais ampla.\n",
    "# n_ofertas_recebidas_14d             -> Nº de ofertas recebidas nos 14 dias anteriores; saturação recente de comunicação.\n",
    "# n_ofertas_visualizadas_14d          -> Nº de ofertas visualizadas nos 14 dias anteriores; engajamento recente com promoções.\n",
    "# n_conversoes_validas_14d            -> Nº de conversões válidas nos 14 dias anteriores; sucesso recente com promoções."
   ]
  },
  {
   "cell_type": "code",
   "execution_count": 0,
   "metadata": {
    "application/vnd.databricks.v1+cell": {
     "cellMetadata": {
      "byteLimit": 2048000,
      "rowLimit": 10000
     },
     "inputWidgets": {},
     "nuid": "3ab80b0e-3c09-4d5e-8ed8-b446a10ed777",
     "showTitle": false,
     "tableResultSettingsMap": {},
     "title": ""
    }
   },
   "outputs": [],
   "source": [
    "from pyspark.sql import functions as f, Window\n",
    "\n",
    "# =========================\n",
    "# 0) Normalização base\n",
    "# =========================\n",
    "ev = (transactions_enriquecida\n",
    "      .withColumnRenamed(\"profile_id\",\"cliente_id\")\n",
    "      .withColumn(\"time_since_test_start\", f.col(\"time_since_test_start\").cast(\"double\"))\n",
    "      .withColumn(\"event\", f.lower(f.col(\"event\"))))\n",
    "\n",
    "recv = (ev.filter(f.col(\"event\")==\"offer received\")\n",
    "          .select(\"ID\",\"cliente_id\",\"offer_id\",\"time_since_test_start\",\n",
    "                  \"offer_type\",\"discount_value\",\"min_value\",\"duration\",\n",
    "                  \"web\",\"email\",\"mobile\",\"social\")\n",
    "          .withColumnRenamed(\"time_since_test_start\",\"start_t\")\n",
    "          .withColumn(\"end_t\", f.col(\"start_t\") + f.col(\"duration\").cast(\"double\")))\n",
    "\n",
    "view = (ev.filter(f.col(\"event\")==\"offer viewed\")\n",
    "          .select(\"ID\",\"cliente_id\",\"offer_id\", f.col(\"time_since_test_start\").alias(\"t_view\")))\n",
    "\n",
    "tx   = ev.filter(f.col(\"event\")==\"transaction\") \\\n",
    "         .select(\"cliente_id\", f.col(\"time_since_test_start\").alias(\"t_tx\"))\n",
    "\n",
    "cmpl = ev.filter(f.col(\"event\")==\"offer completed\") \\\n",
    "          .select(\"cliente_id\", f.col(\"time_since_test_start\").alias(\"t_cmplt\"))\n",
    "\n",
    "# =========================\n",
    "# 1) Conversão VÁLIDA (recriada)\n",
    "# =========================\n",
    "pairs = (cmpl.alias(\"c\")\n",
    "         .join(tx.alias(\"x\"),\n",
    "               on=[f.col(\"c.cliente_id\")==f.col(\"x.cliente_id\"),\n",
    "                   f.col(\"c.t_cmplt\")==f.col(\"x.t_tx\")],\n",
    "               how=\"inner\")\n",
    "         .select(f.col(\"c.cliente_id\").alias(\"cliente_id\"),\n",
    "                 f.col(\"c.t_cmplt\").alias(\"t\")))\n",
    "\n",
    "elig = (pairs.alias(\"p\")\n",
    "        .join(recv.alias(\"o\"),\n",
    "              on=[f.col(\"p.cliente_id\")==f.col(\"o.cliente_id\"),\n",
    "                  f.col(\"p.t\").between(f.col(\"o.start_t\"), f.col(\"o.end_t\"))],\n",
    "              how=\"inner\")\n",
    "        .select(\n",
    "            f.col(\"p.cliente_id\").alias(\"cliente_id\"),\n",
    "            f.col(\"p.t\").alias(\"t\"),\n",
    "            f.col(\"o.ID\").alias(\"offer_instance_id\"),\n",
    "            f.col(\"o.offer_id\").alias(\"offer_id\"),\n",
    "            f.col(\"o.start_t\").alias(\"start_t\")\n",
    "        ))\n",
    "\n",
    "elig_v = (elig.alias(\"e\")\n",
    "          .join(view.alias(\"v\"),\n",
    "                on=[f.col(\"e.cliente_id\")==f.col(\"v.cliente_id\"),\n",
    "                    f.col(\"e.offer_id\")==f.col(\"v.offer_id\"),\n",
    "                    f.col(\"v.t_view\") <= f.col(\"e.t\")],\n",
    "                how=\"left\")\n",
    "          .select(\n",
    "              f.col(\"e.cliente_id\").alias(\"cliente_id\"),\n",
    "              f.col(\"e.t\").alias(\"t\"),\n",
    "              f.col(\"e.offer_instance_id\").alias(\"offer_instance_id\"),\n",
    "              f.col(\"e.offer_id\").alias(\"offer_id\"),\n",
    "              f.col(\"e.start_t\").alias(\"start_t\"),\n",
    "              f.col(\"v.t_view\").alias(\"t_view\")\n",
    "          )\n",
    "          .withColumn(\"has_view\", f.when(f.col(\"t_view\").isNotNull(), 1).otherwise(0))\n",
    "          .withColumn(\"dview\", f.when(f.col(\"t_view\").isNotNull(),\n",
    "                                      f.col(\"t\") - f.col(\"t_view\")).otherwise(f.lit(None))))\n",
    "\n",
    "w_rank = Window.partitionBy(\"cliente_id\",\"t\").orderBy(\n",
    "    f.col(\"has_view\").desc(),\n",
    "    f.col(\"dview\").asc_nulls_last(),\n",
    "    f.col(\"start_t\").desc(),\n",
    "    f.col(\"offer_id\").asc(),\n",
    "    f.col(\"offer_instance_id\").asc()\n",
    ")\n",
    "\n",
    "ranked = (elig_v\n",
    "          .withColumn(\"rank_elig\", f.row_number().over(w_rank))\n",
    "          .withColumn(\"score_tuple\", f.array(\n",
    "              f.col(\"has_view\").cast(\"double\"),\n",
    "              f.coalesce(f.col(\"dview\"), f.lit(1e9)).cast(\"double\"),\n",
    "              f.col(\"start_t\").cast(\"double\")\n",
    "          )))\n",
    "\n",
    "dups = (ranked.groupBy(\"cliente_id\",\"t\",\"score_tuple\")\n",
    "        .agg(f.count(\"*\").alias(\"n_same_score\")))\n",
    "\n",
    "conv_valid = (ranked.alias(\"l\")\n",
    "              .join(dups.alias(\"r\"),\n",
    "                    on=[f.col(\"l.cliente_id\")==f.col(\"r.cliente_id\"),\n",
    "                        f.col(\"l.t\")==f.col(\"r.t\"),\n",
    "                        f.col(\"l.score_tuple\")==f.col(\"r.score_tuple\")],\n",
    "                    how=\"left\")\n",
    "              .filter(f.col(\"l.rank_elig\")==1)\n",
    "              .filter((f.col(\"r.n_same_score\").isNull()) | (f.col(\"r.n_same_score\")==1))\n",
    "              .select(\n",
    "                  f.col(\"l.cliente_id\").alias(\"cliente_id\"),\n",
    "                  f.col(\"l.t\").alias(\"t_conv_valid\"),\n",
    "                  f.col(\"l.offer_id\").alias(\"offer_id\"),\n",
    "                  f.col(\"l.offer_instance_id\").alias(\"offer_instance_id\")\n",
    "              ))\n",
    "\n",
    "# =========================\n",
    "# 2) Timeline com flags\n",
    "# =========================\n",
    "ev_flags = (ev\n",
    "    .withColumn(\"is_offer_received\", f.when(f.col(\"event\")==\"offer received\", 1).otherwise(0))\n",
    "    .withColumn(\"is_offer_viewed\",   f.when(f.col(\"event\")==\"offer viewed\",   1).otherwise(0))\n",
    "    .withColumn(\"is_transaction\",    f.when(f.col(\"event\")==\"transaction\",    1).otherwise(0))\n",
    "    .select(\"ID\",\"cliente_id\",\"offer_id\",\"time_since_test_start\",\"event\",\n",
    "            \"is_offer_received\",\"is_offer_viewed\",\"is_transaction\")\n",
    ")\n",
    "\n",
    "conv_events = (conv_valid\n",
    "    .select(f.col(\"cliente_id\"),\n",
    "            f.col(\"t_conv_valid\").alias(\"time_since_test_start\"))\n",
    "    .withColumn(\"is_conv_valid\", f.lit(1)))\n",
    "\n",
    "timeline = (ev_flags\n",
    "    .join(conv_events, on=[\"cliente_id\",\"time_since_test_start\"], how=\"left\")\n",
    "    .na.fill({\"is_conv_valid\": 0})\n",
    ")\n",
    "\n",
    "# =========================\n",
    "# 3) Janelas\n",
    "# =========================\n",
    "w_hist = Window.partitionBy(\"cliente_id\").orderBy(\"time_since_test_start\") \\\n",
    "               .rowsBetween(Window.unboundedPreceding, -1)\n",
    "\n",
    "# janelas móveis (excluindo o instante atual)\n",
    "t_sec = (f.col(\"time_since_test_start\") * f.lit(86400)).cast(\"long\")\n",
    "\n",
    "w7  = Window.partitionBy(\"cliente_id\").orderBy(t_sec).rangeBetween(-7*86400, -1)\n",
    "w14 = Window.partitionBy(\"cliente_id\").orderBy(t_sec).rangeBetween(-14*86400, -1)\n",
    "\n",
    "# =========================\n",
    "# 4) Métricas\n",
    "# =========================\n",
    "timeline_fe = (timeline\n",
    "    .withColumn(\"last_tx_t\",   f.max(f.when(f.col(\"is_transaction\")==1,    f.col(\"time_since_test_start\"))).over(w_hist))\n",
    "    .withColumn(\"last_rcv_t\",  f.max(f.when(f.col(\"is_offer_received\")==1, f.col(\"time_since_test_start\"))).over(w_hist))\n",
    "    .withColumn(\"last_view_t\", f.max(f.when(f.col(\"is_offer_viewed\")==1,   f.col(\"time_since_test_start\"))).over(w_hist))\n",
    "    .withColumn(\"last_conv_t\", f.max(f.when(f.col(\"is_conv_valid\")==1,     f.col(\"time_since_test_start\"))).over(w_hist))\n",
    "    .withColumn(\"qtd_transacoes_7d\",              f.sum(f.col(\"is_transaction\")).over(w7))\n",
    "    .withColumn(\"qtd_transacoes_14d\",             f.sum(f.col(\"is_transaction\")).over(w14))\n",
    "    .withColumn(\"qtd_ofertas_recebidas_14d\",      f.sum(f.col(\"is_offer_received\")).over(w14))\n",
    "    .withColumn(\"qtd_ofertas_visualizadas_14d\",   f.sum(f.col(\"is_offer_viewed\")).over(w14))\n",
    "    .withColumn(\"qtd_conversoes_validas_14d\",     f.sum(f.col(\"is_conv_valid\")).over(w14))\n",
    ")\n",
    "\n",
    "# =========================\n",
    "# 5) Saída final no instante da oferta\n",
    "# =========================\n",
    "book_recencia_freq = (timeline_fe\n",
    "    .filter(f.col(\"event\")==\"offer received\")\n",
    "    .select(\n",
    "        \"ID\",\"cliente_id\",\"offer_id\",\"time_since_test_start\",\n",
    "        (f.col(\"time_since_test_start\") - f.col(\"last_tx_t\")).alias(\"dias_desde_ultima_transacao\"),\n",
    "        (f.col(\"time_since_test_start\") - f.col(\"last_rcv_t\")).alias(\"dias_desde_ultima_oferta_recebida\"),\n",
    "        (f.col(\"time_since_test_start\") - f.col(\"last_view_t\")).alias(\"dias_desde_ultima_oferta_visualizada\"),\n",
    "        (f.col(\"time_since_test_start\") - f.col(\"last_conv_t\")).alias(\"dias_desde_ultima_conversao_valida\"),\n",
    "        \"qtd_transacoes_7d\",\"qtd_transacoes_14d\",\"qtd_ofertas_recebidas_14d\",\n",
    "        \"qtd_ofertas_visualizadas_14d\",\"qtd_conversoes_validas_14d\"\n",
    "    )\n",
    ")\n",
    "\n",
    "book_recencia_freq = filtra_mais_recente(book_recencia_freq)"
   ]
  },
  {
   "cell_type": "code",
   "execution_count": 0,
   "metadata": {
    "application/vnd.databricks.v1+cell": {
     "cellMetadata": {
      "byteLimit": 2048000,
      "rowLimit": 10000
     },
     "inputWidgets": {},
     "nuid": "1333aac4-9c67-439e-8596-db12cb98f88c",
     "showTitle": false,
     "tableResultSettingsMap": {},
     "title": ""
    }
   },
   "outputs": [],
   "source": [
    "analisar_dataframe(filtra_mais_recente(book_recencia_freq),\"ID\")"
   ]
  },
  {
   "cell_type": "code",
   "execution_count": 0,
   "metadata": {
    "application/vnd.databricks.v1+cell": {
     "cellMetadata": {
      "byteLimit": 2048000,
      "rowLimit": 10000
     },
     "inputWidgets": {},
     "nuid": "3d8f46ff-5630-481d-9b8d-d4ade6eb15fd",
     "showTitle": false,
     "tableResultSettingsMap": {},
     "title": ""
    }
   },
   "outputs": [],
   "source": [
    "book_recencia_freq.limit(5).display()"
   ]
  },
  {
   "cell_type": "code",
   "execution_count": 0,
   "metadata": {
    "application/vnd.databricks.v1+cell": {
     "cellMetadata": {
      "byteLimit": 2048000,
      "rowLimit": 10000
     },
     "inputWidgets": {},
     "nuid": "6e067e75-9aa0-43b7-a368-c986693bd55e",
     "showTitle": false,
     "tableResultSettingsMap": {},
     "title": ""
    }
   },
   "outputs": [],
   "source": [
    "book_recencia_freq.toPandas().to_csv(\"../data/processed/book_recencia_freq.csv\", sep=\",\",header=True,index=False)"
   ]
  },
  {
   "cell_type": "markdown",
   "metadata": {
    "application/vnd.databricks.v1+cell": {
     "cellMetadata": {},
     "inputWidgets": {},
     "nuid": "b32f74ec-0bc0-4d99-8865-a617cf36d2e0",
     "showTitle": false,
     "tableResultSettingsMap": {},
     "title": ""
    }
   },
   "source": [
    "####3.6 - Book Comunicação"
   ]
  },
  {
   "cell_type": "code",
   "execution_count": 0,
   "metadata": {
    "application/vnd.databricks.v1+cell": {
     "cellMetadata": {},
     "inputWidgets": {},
     "nuid": "ccfb38a9-e23b-4520-858c-aec2f132a78c",
     "showTitle": false,
     "tableResultSettingsMap": {},
     "title": ""
    }
   },
   "outputs": [],
   "source": [
    "# canais_recebidos_total   -> Quantidade total de canais distintos pelos quais a oferta foi recebida (web, email, mobile, social); indica variedade de contato.\n",
    "# recebeu_web              -> Flag (0/1) indicando se a oferta foi enviada via canal web.\n",
    "# recebeu_email            -> Flag (0/1) indicando se a oferta foi enviada via canal email.\n",
    "# recebeu_mobile           -> Flag (0/1) indicando se a oferta foi enviada via canal mobile.\n",
    "# recebeu_social           -> Flag (0/1) indicando se a oferta foi enviada via canal social.\n",
    "# canais_preferidos        -> Quantidade de canais que o cliente já recebeu historicamente (antes da oferta atual); indica hábito de recepção.\n",
    "# web_ratio_historico      -> Proporção de ofertas anteriores enviadas via web.\n",
    "# email_ratio_historico    -> Proporção de ofertas anteriores enviadas via email.\n",
    "# mobile_ratio_historico   -> Proporção de ofertas anteriores enviadas via mobile.\n",
    "# social_ratio_historico   -> Proporção de ofertas anteriores enviadas via social."
   ]
  },
  {
   "cell_type": "code",
   "execution_count": 0,
   "metadata": {
    "application/vnd.databricks.v1+cell": {
     "cellMetadata": {
      "byteLimit": 2048000,
      "rowLimit": 10000
     },
     "inputWidgets": {},
     "nuid": "25810f39-bc7d-4c93-9e98-da249d541fe4",
     "showTitle": false,
     "tableResultSettingsMap": {},
     "title": ""
    }
   },
   "outputs": [],
   "source": [
    "from pyspark.sql import functions as f, Window\n",
    "\n",
    "# Normalização inicial\n",
    "events = (transactions_enriquecida\n",
    "    .withColumnRenamed(\"profile_id\", \"cliente_id\")\n",
    "    .withColumn(\"time_since_test_start\", f.col(\"time_since_test_start\").cast(\"double\"))\n",
    ")\n",
    "\n",
    "# Janela acumulada por cliente antes do evento atual\n",
    "w_cli_time = (Window.partitionBy(\"cliente_id\")\n",
    "              .orderBy(f.col(\"time_since_test_start\"))\n",
    "              .rowsBetween(Window.unboundedPreceding, -1))\n",
    "\n",
    "# Adiciona cumulativos de canais recebidos historicamente\n",
    "events_cum = (events\n",
    "    .withColumn(\"hist_web\", f.sum(f.col(\"web\")).over(w_cli_time))\n",
    "    .withColumn(\"hist_email\", f.sum(f.col(\"email\")).over(w_cli_time))\n",
    "    .withColumn(\"hist_mobile\", f.sum(f.col(\"mobile\")).over(w_cli_time))\n",
    "    .withColumn(\"hist_social\", f.sum(f.col(\"social\")).over(w_cli_time))\n",
    ")\n",
    "\n",
    "# Seleciona apenas a oferta recebida (âncora para as variáveis)\n",
    "ofertas_base = (events_cum\n",
    "    .filter(f.col(\"event\")==\"offer received\")\n",
    "    .select(\n",
    "        \"ID\", \"cliente_id\", \"offer_id\", \"time_since_test_start\",\n",
    "        \"web\", \"email\", \"mobile\", \"social\",\n",
    "        (f.col(\"hist_web\") - f.col(\"web\")).alias(\"hist_web_prev\"),\n",
    "        (f.col(\"hist_email\") - f.col(\"email\")).alias(\"hist_email_prev\"),\n",
    "        (f.col(\"hist_mobile\") - f.col(\"mobile\")).alias(\"hist_mobile_prev\"),\n",
    "        (f.col(\"hist_social\") - f.col(\"social\")).alias(\"hist_social_prev\")\n",
    "    )\n",
    ")\n",
    "\n",
    "# Monta book de comunicação\n",
    "book_comunicacao = (ofertas_base\n",
    "    # Flags do envio atual\n",
    "    .withColumn(\"recebeu_web\", f.col(\"web\"))\n",
    "    .withColumn(\"recebeu_email\", f.col(\"email\"))\n",
    "    .withColumn(\"recebeu_mobile\", f.col(\"mobile\"))\n",
    "    .withColumn(\"recebeu_social\", f.col(\"social\"))\n",
    "    .withColumn(\"canais_recebidos_total\", f.expr(\"web + email + mobile + social\"))\n",
    "    # Histórico antes da oferta atual\n",
    "    .withColumn(\"canais_preferidos\", \n",
    "                (f.col(\"hist_web_prev\")>0).cast(\"int\") +\n",
    "                (f.col(\"hist_email_prev\")>0).cast(\"int\") +\n",
    "                (f.col(\"hist_mobile_prev\")>0).cast(\"int\") +\n",
    "                (f.col(\"hist_social_prev\")>0).cast(\"int\"))\n",
    "    .withColumn(\"web_ratio_historico\", \n",
    "                f.when((f.col(\"hist_web_prev\")+f.col(\"hist_email_prev\")+f.col(\"hist_mobile_prev\")+f.col(\"hist_social_prev\"))>0,\n",
    "                       f.col(\"hist_web_prev\") / (f.col(\"hist_web_prev\")+f.col(\"hist_email_prev\")+f.col(\"hist_mobile_prev\")+f.col(\"hist_social_prev\")))\n",
    "                 .otherwise(f.lit(0.0)))\n",
    "    .withColumn(\"email_ratio_historico\", \n",
    "                f.when((f.col(\"hist_web_prev\")+f.col(\"hist_email_prev\")+f.col(\"hist_mobile_prev\")+f.col(\"hist_social_prev\"))>0,\n",
    "                       f.col(\"hist_email_prev\") / (f.col(\"hist_web_prev\")+f.col(\"hist_email_prev\")+f.col(\"hist_mobile_prev\")+f.col(\"hist_social_prev\")))\n",
    "                 .otherwise(f.lit(0.0)))\n",
    "    .withColumn(\"mobile_ratio_historico\", \n",
    "                f.when((f.col(\"hist_web_prev\")+f.col(\"hist_email_prev\")+f.col(\"hist_mobile_prev\")+f.col(\"hist_social_prev\"))>0,\n",
    "                       f.col(\"hist_mobile_prev\") / (f.col(\"hist_web_prev\")+f.col(\"hist_email_prev\")+f.col(\"hist_mobile_prev\")+f.col(\"hist_social_prev\")))\n",
    "                 .otherwise(f.lit(0.0)))\n",
    "    .withColumn(\"social_ratio_historico\", \n",
    "                f.when((f.col(\"hist_web_prev\")+f.col(\"hist_email_prev\")+f.col(\"hist_mobile_prev\")+f.col(\"hist_social_prev\"))>0,\n",
    "                       f.col(\"hist_social_prev\") / (f.col(\"hist_web_prev\")+f.col(\"hist_email_prev\")+f.col(\"hist_mobile_prev\")+f.col(\"hist_social_prev\")))\n",
    "                 .otherwise(f.lit(0.0)))\n",
    "    .select(\n",
    "        \"ID\",\"cliente_id\",\"offer_id\",\"time_since_test_start\",\n",
    "        \"canais_recebidos_total\",\"recebeu_web\",\"recebeu_email\",\"recebeu_mobile\",\"recebeu_social\",\n",
    "        \"canais_preferidos\",\"web_ratio_historico\",\"email_ratio_historico\",\"mobile_ratio_historico\",\"social_ratio_historico\"\n",
    "    )\n",
    ")\n",
    "\n",
    "book_comunicacao = filtra_mais_recente(book_comunicacao)\n"
   ]
  },
  {
   "cell_type": "code",
   "execution_count": 0,
   "metadata": {
    "application/vnd.databricks.v1+cell": {
     "cellMetadata": {
      "byteLimit": 2048000,
      "rowLimit": 10000
     },
     "inputWidgets": {},
     "nuid": "9e8b353e-1827-4118-a3c6-3508c0b5b586",
     "showTitle": false,
     "tableResultSettingsMap": {},
     "title": ""
    }
   },
   "outputs": [],
   "source": [
    "analisar_dataframe(filtra_mais_recente(book_comunicacao),\"ID\")"
   ]
  },
  {
   "cell_type": "code",
   "execution_count": 0,
   "metadata": {
    "application/vnd.databricks.v1+cell": {
     "cellMetadata": {
      "byteLimit": 2048000,
      "rowLimit": 10000
     },
     "inputWidgets": {},
     "nuid": "e4558321-2098-4e23-a4ca-883a51d60973",
     "showTitle": false,
     "tableResultSettingsMap": {},
     "title": ""
    }
   },
   "outputs": [],
   "source": [
    "book_comunicacao.toPandas().to_csv(\"../data/processed/book_comunicacao.csv\", sep=\",\",header=True,index=False)"
   ]
  },
  {
   "cell_type": "markdown",
   "metadata": {
    "application/vnd.databricks.v1+cell": {
     "cellMetadata": {
      "byteLimit": 2048000,
      "rowLimit": 10000
     },
     "inputWidgets": {},
     "nuid": "6e31dab1-3629-4295-baed-557601db37e7",
     "showTitle": false,
     "tableResultSettingsMap": {},
     "title": ""
    }
   },
   "source": [
    "####3.7 - Book Cliente-Oferta"
   ]
  },
  {
   "cell_type": "code",
   "execution_count": 0,
   "metadata": {
    "application/vnd.databricks.v1+cell": {
     "cellMetadata": {
      "byteLimit": 2048000,
      "rowLimit": 10000
     },
     "inputWidgets": {},
     "nuid": "6ca673d9-cacb-462d-877e-433ff71a08ac",
     "showTitle": false,
     "tableResultSettingsMap": {},
     "title": ""
    }
   },
   "outputs": [],
   "source": [
    "# taxa_visualizacao_historica_tipo       -> % de ofertas do MESMO tipo (bogo/discount/...) visualizadas pelo cliente ANTES desta oferta.\n",
    "# taxa_conversao_historica_tipo         -> % de ofertas do MESMO tipo convertidas (válidas) pelo cliente ANTES desta oferta.\n",
    "# taxa_visualizacao_historica_oferta    -> % de instâncias anteriores desta MESMA offer_id visualizadas pelo cliente.\n",
    "# taxa_conversao_historica_oferta       -> % de instâncias anteriores desta MESMA offer_id convertidas (válidas) pelo cliente.\n",
    "# taxa_conversao_historica_canal_web    -> % de ofertas anteriores com canal web que o cliente converteu (válidas).\n",
    "# taxa_conversao_historica_canal_email  -> % de ofertas anteriores com canal email que o cliente converteu (válidas).\n",
    "# taxa_conversao_historica_canal_mobile -> % de ofertas anteriores com canal mobile que o cliente converteu (válidas).\n",
    "# taxa_conversao_historica_canal_social -> % de ofertas anteriores com canal social que o cliente converteu (válidas).\n",
    "# afinidade_canais_conv                 -> Média das taxas de conversão históricas dos CANAIS ATIVOS desta oferta (ex.: média entre web/email se ambos=1).\n",
    "# taxa_conversao_historica_bucket_duracao   -> % de ofertas anteriores no MESMO bucket de duração convertidas (válidas).\n",
    "# taxa_conversao_historica_bucket_desconto  -> % de ofertas anteriores no MESMO bucket de desconto convertidas (válidas).\n",
    "# taxa_conversao_historica_bucket_minimo    -> % de ofertas anteriores no MESMO bucket de valor mínimo convertidas (válidas).\n",
    "# n_instancias_anteriores_mesma_oferta      -> Nº de vezes que o cliente já recebeu esta MESMA offer_id antes.\n",
    "# n_conversoes_validas_anteriores_mesma     -> Nº de conversões válidas anteriores nesta MESMA offer_id.\n",
    "# dias_desde_ultima_oferta_mesma            -> Dias desde a última vez que recebeu esta MESMA offer_id.\n",
    "# dias_desde_ultima_conversao_valida_mesma  -> Dias desde a última conversão válida desta MESMA offer_id.\n"
   ]
  },
  {
   "cell_type": "code",
   "execution_count": 0,
   "metadata": {
    "application/vnd.databricks.v1+cell": {
     "cellMetadata": {
      "byteLimit": 2048000,
      "rowLimit": 10000
     },
     "inputWidgets": {},
     "nuid": "0e9c9d0c-6a5d-4939-b754-4914c8617a61",
     "showTitle": false,
     "tableResultSettingsMap": {},
     "title": ""
    }
   },
   "outputs": [],
   "source": [
    "from pyspark.sql import functions as f, Window\n",
    "\n",
    "# ============= 0) Normalização base =============\n",
    "ev = (transactions_enriquecida\n",
    "      .withColumnRenamed(\"profile_id\",\"cliente_id\")\n",
    "      .withColumn(\"time_since_test_start\", f.col(\"time_since_test_start\").cast(\"double\"))\n",
    "      .withColumn(\"event\", f.lower(f.col(\"event\"))))\n",
    "\n",
    "recv = (ev.filter(f.col(\"event\")==\"offer received\")\n",
    "          .select(\"ID\",\"cliente_id\",\"offer_id\",\"offer_type\",\"discount_value\",\"min_value\",\"duration\",\n",
    "                  \"web\",\"email\",\"mobile\",\"social\", f.col(\"time_since_test_start\").alias(\"start_t\"))\n",
    "          .withColumn(\"end_t\", f.col(\"start_t\") + f.col(\"duration\").cast(\"double\")))\n",
    "\n",
    "view = ev.filter(f.col(\"event\")==\"offer viewed\") \\\n",
    "         .select(\"ID\",\"cliente_id\",\"offer_id\", f.col(\"time_since_test_start\").alias(\"t_view\"))\n",
    "\n",
    "tx   = ev.filter(f.col(\"event\")==\"transaction\") \\\n",
    "         .select(\"cliente_id\", f.col(\"time_since_test_start\").alias(\"t_tx\"))\n",
    "\n",
    "cmpl = ev.filter(f.col(\"event\")==\"offer completed\") \\\n",
    "          .select(\"cliente_id\", f.col(\"time_since_test_start\").alias(\"t_cmplt\"))\n",
    "\n",
    "# ============= 1) Conversão VÁLIDA (mesma regra do target) =============\n",
    "# (transaction == completed no mesmo t) + oferta elegível + desempate por view e recência\n",
    "pairs = (cmpl.alias(\"c\")\n",
    "         .join(tx.alias(\"x\"),\n",
    "               on=[f.col(\"c.cliente_id\")==f.col(\"x.cliente_id\"),\n",
    "                   f.col(\"c.t_cmplt\")==f.col(\"x.t_tx\")],\n",
    "               how=\"inner\")\n",
    "         .select(f.col(\"c.cliente_id\").alias(\"cliente_id\"),\n",
    "                 f.col(\"c.t_cmplt\").alias(\"t\")))\n",
    "\n",
    "elig = (pairs.alias(\"p\")\n",
    "        .join(recv.alias(\"o\"),\n",
    "              on=[f.col(\"p.cliente_id\")==f.col(\"o.cliente_id\"),\n",
    "                  f.col(\"p.t\").between(f.col(\"o.start_t\"), f.col(\"o.end_t\"))],\n",
    "              how=\"inner\")\n",
    "        .select(\"p.cliente_id\", f.col(\"p.t\").alias(\"t\"),\n",
    "                f.col(\"o.ID\").alias(\"offer_instance_id\"),\n",
    "                \"o.offer_id\",\"o.start_t\"))\n",
    "\n",
    "elig_v = (elig.alias(\"e\")\n",
    "          .join(view.alias(\"v\"),\n",
    "                on=[f.col(\"e.cliente_id\")==f.col(\"v.cliente_id\"),\n",
    "                    f.col(\"e.offer_id\")==f.col(\"v.offer_id\"),\n",
    "                    f.col(\"v.t_view\") <= f.col(\"e.t\")],\n",
    "                how=\"left\")\n",
    "          .select(\n",
    "              f.col(\"e.cliente_id\").alias(\"cliente_id\"),\n",
    "              f.col(\"e.t\").alias(\"t\"),\n",
    "              f.col(\"e.offer_instance_id\").alias(\"offer_instance_id\"),\n",
    "              f.col(\"e.offer_id\").alias(\"offer_id\"),\n",
    "              f.col(\"e.start_t\").alias(\"start_t\"),\n",
    "              f.col(\"v.t_view\").alias(\"t_view\")\n",
    "          )\n",
    "          .withColumn(\"has_view\", f.when(f.col(\"t_view\").isNotNull(), 1).otherwise(0))\n",
    "          .withColumn(\"dview\", f.when(f.col(\"t_view\").isNotNull(), f.col(\"t\")-f.col(\"t_view\")).otherwise(f.lit(None))))\n",
    "\n",
    "w_rank = Window.partitionBy(\"cliente_id\",\"t\").orderBy(\n",
    "    f.col(\"has_view\").desc(),\n",
    "    f.col(\"dview\").asc_nulls_last(),\n",
    "    f.col(\"start_t\").desc(),\n",
    "    f.col(\"offer_id\").asc(),\n",
    "    f.col(\"offer_instance_id\").asc()\n",
    ")\n",
    "\n",
    "ranked = (elig_v\n",
    "          .withColumn(\"rank_elig\", f.row_number().over(w_rank))\n",
    "          .withColumn(\"score_tuple\", f.array(\n",
    "              f.col(\"has_view\").cast(\"double\"),\n",
    "              f.coalesce(f.col(\"dview\"), f.lit(1e9)).cast(\"double\"),\n",
    "              f.col(\"start_t\").cast(\"double\")\n",
    "          )))\n",
    "\n",
    "dups = (ranked.groupBy(\"cliente_id\",\"t\",\"score_tuple\")\n",
    "        .agg(f.count(\"*\").alias(\"n_same_score\")))\n",
    "\n",
    "conv_valid = (ranked.alias(\"l\")\n",
    "              .join(dups.alias(\"r\"),\n",
    "                    on=[f.col(\"l.cliente_id\")==f.col(\"r.cliente_id\"),\n",
    "                        f.col(\"l.t\")==f.col(\"r.t\"),\n",
    "                        f.col(\"l.score_tuple\")==f.col(\"r.score_tuple\")],\n",
    "                    how=\"left\")\n",
    "              .filter(f.col(\"l.rank_elig\")==1)\n",
    "              .filter((f.col(\"r.n_same_score\").isNull()) | (f.col(\"r.n_same_score\")==1))\n",
    "              .select(\"l.cliente_id\",\n",
    "                      f.col(\"l.offer_id\").alias(\"offer_id\"),\n",
    "                      f.col(\"l.offer_instance_id\").alias(\"offer_instance_id\"),\n",
    "                      f.col(\"l.t\").alias(\"t_conv_valid\"))\n",
    ")\n",
    "\n",
    "# ============= 2) Instâncias com flags de view/conv por instância =============\n",
    "# a) view por instância (se houve alguma view)\n",
    "view_by_instance = (view.groupBy(\"ID\").agg(f.min(\"t_view\").alias(\"first_t_view\")))\n",
    "# b) conversão válida por instância\n",
    "conv_by_instance = (conv_valid.groupBy(\"offer_instance_id\")\n",
    "                    .agg(f.min(\"t_conv_valid\").alias(\"first_t_conv_valid\"))\n",
    "                    .withColumnRenamed(\"offer_instance_id\",\"ID\"))\n",
    "\n",
    "instances = (recv\n",
    "    .select(\"ID\",\"cliente_id\",\"offer_id\",\"offer_type\",\"discount_value\",\"min_value\",\"duration\",\n",
    "            \"web\",\"email\",\"mobile\",\"social\",\"start_t\")\n",
    "    .join(view_by_instance, on=\"ID\", how=\"left\")\n",
    "    .join(conv_by_instance, on=\"ID\", how=\"left\")\n",
    "    .withColumn(\"view_flag\", f.when(f.col(\"first_t_view\").isNotNull(), 1).otherwise(0))\n",
    "    .withColumn(\"conv_flag\", f.when(f.col(\"first_t_conv_valid\").isNotNull(), 1).otherwise(0))\n",
    ")\n",
    "\n",
    "# Buckets (simples e estáveis para o mês)\n",
    "instances = (instances\n",
    "    .withColumn(\"bucket_duracao\",\n",
    "                f.when(f.col(\"duration\")<=5, f.lit(\"short\"))\n",
    "                 .when((f.col(\"duration\")>=6) & (f.col(\"duration\")<=7), f.lit(\"mid\"))\n",
    "                 .otherwise(f.lit(\"long\")))\n",
    "    .withColumn(\"bucket_desconto\",\n",
    "                f.when(f.col(\"discount_value\")<=5, f.lit(\"low\"))\n",
    "                 .when(f.col(\"discount_value\")<=10, f.lit(\"mid\"))\n",
    "                 .otherwise(f.lit(\"high\")))\n",
    "    .withColumn(\"bucket_minimo\",\n",
    "                f.when(f.col(\"min_value\")<=5, f.lit(\"low\"))\n",
    "                 .when(f.col(\"min_value\")<=10, f.lit(\"mid\"))\n",
    "                 .otherwise(f.lit(\"high\")))\n",
    ")\n",
    "\n",
    "# ============= 3) Cumulativos por cliente e chave (só HISTÓRICO anterior) =============\n",
    "# Janela por cliente ordenada por start_t, até a linha anterior\n",
    "w_prev = Window.partitionBy(\"cliente_id\").orderBy(\"start_t\").rowsBetween(Window.unboundedPreceding, -1)\n",
    "w_prev_type   = Window.partitionBy(\"cliente_id\",\"offer_type\").orderBy(\"start_t\").rowsBetween(Window.unboundedPreceding, -1)\n",
    "w_prev_offer  = Window.partitionBy(\"cliente_id\",\"offer_id\").orderBy(\"start_t\").rowsBetween(Window.unboundedPreceding, -1)\n",
    "w_prev_dur    = Window.partitionBy(\"cliente_id\",\"bucket_duracao\").orderBy(\"start_t\").rowsBetween(Window.unboundedPreceding, -1)\n",
    "w_prev_disc   = Window.partitionBy(\"cliente_id\",\"bucket_desconto\").orderBy(\"start_t\").rowsBetween(Window.unboundedPreceding, -1)\n",
    "w_prev_min    = Window.partitionBy(\"cliente_id\",\"bucket_minimo\").orderBy(\"start_t\").rowsBetween(Window.unboundedPreceding, -1)\n",
    "\n",
    "inst_hist = (instances\n",
    "    # por TIPO\n",
    "    .withColumn(\"rcv_tipo_prev\",   f.count(\"*\").over(w_prev_type))\n",
    "    .withColumn(\"view_tipo_prev\",  f.sum(\"view_flag\").over(w_prev_type))\n",
    "    .withColumn(\"conv_tipo_prev\",  f.sum(\"conv_flag\").over(w_prev_type))\n",
    "    # por OFFER_ID\n",
    "    .withColumn(\"rcv_offer_prev\",  f.count(\"*\").over(w_prev_offer))\n",
    "    .withColumn(\"view_offer_prev\", f.sum(\"view_flag\").over(w_prev_offer))\n",
    "    .withColumn(\"conv_offer_prev\", f.sum(\"conv_flag\").over(w_prev_offer))\n",
    "    # por CANAL (condicional ao canal ativo)\n",
    "    .withColumn(\"rcv_web_prev\",    f.sum(f.when(f.col(\"web\")==1, 1).otherwise(0)).over(w_prev))\n",
    "    .withColumn(\"conv_web_prev\",   f.sum(f.when((f.col(\"web\")==1) & (f.col(\"conv_flag\")==1), 1).otherwise(0)).over(w_prev))\n",
    "    .withColumn(\"rcv_email_prev\",  f.sum(f.when(f.col(\"email\")==1, 1).otherwise(0)).over(w_prev))\n",
    "    .withColumn(\"conv_email_prev\", f.sum(f.when((f.col(\"email\")==1) & (f.col(\"conv_flag\")==1), 1).otherwise(0)).over(w_prev))\n",
    "    .withColumn(\"rcv_mobile_prev\", f.sum(f.when(f.col(\"mobile\")==1, 1).otherwise(0)).over(w_prev))\n",
    "    .withColumn(\"conv_mobile_prev\",f.sum(f.when((f.col(\"mobile\")==1) & (f.col(\"conv_flag\")==1), 1).otherwise(0)).over(w_prev))\n",
    "    .withColumn(\"rcv_social_prev\", f.sum(f.when(f.col(\"social\")==1, 1).otherwise(0)).over(w_prev))\n",
    "    .withColumn(\"conv_social_prev\",f.sum(f.when((f.col(\"social\")==1) & (f.col(\"conv_flag\")==1), 1).otherwise(0)).over(w_prev))\n",
    "    # por BUCKETS\n",
    "    .withColumn(\"rcv_dur_prev\",    f.count(\"*\").over(w_prev_dur))\n",
    "    .withColumn(\"conv_dur_prev\",   f.sum(\"conv_flag\").over(w_prev_dur))\n",
    "    .withColumn(\"rcv_disc_prev\",   f.count(\"*\").over(w_prev_disc))\n",
    "    .withColumn(\"conv_disc_prev\",  f.sum(\"conv_flag\").over(w_prev_disc))\n",
    "    .withColumn(\"rcv_min_prev\",    f.count(\"*\").over(w_prev_min))\n",
    "    .withColumn(\"conv_min_prev\",   f.sum(\"conv_flag\").over(w_prev_min))\n",
    ")\n",
    "\n",
    "# ============= 4) Métricas finais na ÁNCORA (linha offer received atual) =============\n",
    "# Afinidade de canais: média das taxas de conversão por canal entre os canais ATIVOS desta oferta\n",
    "def safe_rate(num, den):\n",
    "    return f.when(den>0, num/den).otherwise(f.lit(0.0))\n",
    "\n",
    "book_cliente_oferta = (inst_hist\n",
    "    # taxas por tipo/offer/buckets (histórico anterior)\n",
    "    .withColumn(\"taxa_visualizacao_historica_tipo\",  safe_rate(f.col(\"view_tipo_prev\"),  f.col(\"rcv_tipo_prev\")))\n",
    "    .withColumn(\"taxa_conversao_historica_tipo\",     safe_rate(f.col(\"conv_tipo_prev\"),  f.col(\"rcv_tipo_prev\")))\n",
    "    .withColumn(\"taxa_visualizacao_historica_oferta\",safe_rate(f.col(\"view_offer_prev\"), f.col(\"rcv_offer_prev\")))\n",
    "    .withColumn(\"taxa_conversao_historica_oferta\",   safe_rate(f.col(\"conv_offer_prev\"), f.col(\"rcv_offer_prev\")))\n",
    "    .withColumn(\"taxa_conversao_historica_canal_web\",   safe_rate(f.col(\"conv_web_prev\"),   f.col(\"rcv_web_prev\")))\n",
    "    .withColumn(\"taxa_conversao_historica_canal_email\", safe_rate(f.col(\"conv_email_prev\"), f.col(\"rcv_email_prev\")))\n",
    "    .withColumn(\"taxa_conversao_historica_canal_mobile\",safe_rate(f.col(\"conv_mobile_prev\"),f.col(\"rcv_mobile_prev\")))\n",
    "    .withColumn(\"taxa_conversao_historica_canal_social\",safe_rate(f.col(\"conv_social_prev\"),f.col(\"rcv_social_prev\")))\n",
    "    .withColumn(\"taxa_conversao_historica_bucket_duracao\", safe_rate(f.col(\"conv_dur_prev\"),  f.col(\"rcv_dur_prev\")))\n",
    "    .withColumn(\"taxa_conversao_historica_bucket_desconto\",safe_rate(f.col(\"conv_disc_prev\"), f.col(\"rcv_disc_prev\")))\n",
    "    .withColumn(\"taxa_conversao_historica_bucket_minimo\",  safe_rate(f.col(\"conv_min_prev\"),  f.col(\"rcv_min_prev\")))\n",
    "    # afinidade canais da oferta atual (média das taxas dos canais ativos)\n",
    "    .withColumn(\"soma_taxas_canais\",\n",
    "                f.coalesce(f.when(f.col(\"web\")==1,    f.col(\"taxa_conversao_historica_canal_web\")), f.lit(0.0)) +\n",
    "                f.coalesce(f.when(f.col(\"email\")==1,  f.col(\"taxa_conversao_historica_canal_email\")), f.lit(0.0)) +\n",
    "                f.coalesce(f.when(f.col(\"mobile\")==1, f.col(\"taxa_conversao_historica_canal_mobile\")), f.lit(0.0)) +\n",
    "                f.coalesce(f.when(f.col(\"social\")==1, f.col(\"taxa_conversao_historica_canal_social\")), f.lit(0.0)))\n",
    "    .withColumn(\"qtd_canais_ativos\", f.col(\"web\")+f.col(\"email\")+f.col(\"mobile\")+f.col(\"social\"))\n",
    "    .withColumn(\"afinidade_canais_conv\",\n",
    "                f.when(f.col(\"qtd_canais_ativos\")>0, f.col(\"soma_taxas_canais\")/f.col(\"qtd_canais_ativos\")).otherwise(f.lit(0.0)))\n",
    "    # métricas de repetição da MESMA oferta_id\n",
    "    .withColumn(\"n_instancias_anteriores_mesma_oferta\", f.col(\"rcv_offer_prev\"))\n",
    "    .withColumn(\"n_conversoes_validas_anteriores_mesma\", f.col(\"conv_offer_prev\"))\n",
    "    # recências específicas da mesma offer_id\n",
    "    .withColumn(\"last_start_same_offer\",\n",
    "                f.max(\"start_t\").over(Window.partitionBy(\"cliente_id\",\"offer_id\").orderBy(\"start_t\").rowsBetween(Window.unboundedPreceding, -1)))\n",
    "    .withColumn(\"dias_desde_ultima_oferta_mesma\", f.col(\"start_t\") - f.col(\"last_start_same_offer\"))\n",
    "    # última conversão válida da mesma offer_id (via conv_valid)\n",
    "    .join(conv_valid.select(\"cliente_id\",\"offer_id\", f.col(\"t_conv_valid\")).alias(\"cv\"),\n",
    "          on=[\"cliente_id\",\"offer_id\"], how=\"left\")\n",
    "    .withColumn(\"last_t_conv_same_offer\",\n",
    "                f.max(\"t_conv_valid\").over(Window.partitionBy(\"cliente_id\",\"offer_id\",\"start_t\")\n",
    "                                           .orderBy(\"t_conv_valid\").rowsBetween(Window.unboundedPreceding, -1)))\n",
    "    .withColumn(\"dias_desde_ultima_conversao_valida_mesma\", f.col(\"start_t\") - f.col(\"last_t_conv_same_offer\"))\n",
    "    # saída final apenas na âncora (offer received atual)\n",
    "    .select(\n",
    "        \"ID\",\"cliente_id\",\"offer_id\",\n",
    "        f.col(\"start_t\").alias(\"time_since_test_start\"),\n",
    "        \"taxa_visualizacao_historica_tipo\",\"taxa_conversao_historica_tipo\",\n",
    "        \"taxa_visualizacao_historica_oferta\",\"taxa_conversao_historica_oferta\",\n",
    "        \"taxa_conversao_historica_canal_web\",\"taxa_conversao_historica_canal_email\",\n",
    "        \"taxa_conversao_historica_canal_mobile\",\"taxa_conversao_historica_canal_social\",\n",
    "        \"afinidade_canais_conv\",\n",
    "        \"taxa_conversao_historica_bucket_duracao\",\n",
    "        \"taxa_conversao_historica_bucket_desconto\",\n",
    "        \"taxa_conversao_historica_bucket_minimo\",\n",
    "        \"n_instancias_anteriores_mesma_oferta\",\n",
    "        \"n_conversoes_validas_anteriores_mesma\",\n",
    "        \"dias_desde_ultima_oferta_mesma\",\n",
    "        \"dias_desde_ultima_conversao_valida_mesma\"\n",
    "    )\n",
    ")\n",
    "book_cliente_oferta = filtra_mais_recente(book_cliente_oferta)\n"
   ]
  },
  {
   "cell_type": "code",
   "execution_count": 0,
   "metadata": {
    "application/vnd.databricks.v1+cell": {
     "cellMetadata": {
      "byteLimit": 2048000,
      "rowLimit": 10000
     },
     "inputWidgets": {},
     "nuid": "71cd3254-5857-4ee3-88ca-628066c59956",
     "showTitle": false,
     "tableResultSettingsMap": {},
     "title": ""
    }
   },
   "outputs": [],
   "source": [
    "analisar_dataframe(filtra_mais_recente(book_cliente_oferta),\"ID\")"
   ]
  },
  {
   "cell_type": "code",
   "execution_count": 0,
   "metadata": {
    "application/vnd.databricks.v1+cell": {
     "cellMetadata": {
      "byteLimit": 2048000,
      "rowLimit": 10000
     },
     "inputWidgets": {},
     "nuid": "af882e3a-7554-42b1-ac61-173b715fa71d",
     "showTitle": false,
     "tableResultSettingsMap": {},
     "title": ""
    }
   },
   "outputs": [],
   "source": [
    "book_cliente_oferta.limit(5).display()"
   ]
  },
  {
   "cell_type": "code",
   "execution_count": 0,
   "metadata": {
    "application/vnd.databricks.v1+cell": {
     "cellMetadata": {
      "byteLimit": 2048000,
      "rowLimit": 10000
     },
     "inputWidgets": {},
     "nuid": "42cc124e-a220-48b5-acb4-2183a76fa3e6",
     "showTitle": false,
     "tableResultSettingsMap": {},
     "title": ""
    }
   },
   "outputs": [],
   "source": [
    "book_cliente_oferta.toPandas().to_csv(\"../data/processed/book_cliente_oferta.csv\", sep=\",\",header=True,index=False)"
   ]
  },
  {
   "cell_type": "markdown",
   "metadata": {
    "application/vnd.databricks.v1+cell": {
     "cellMetadata": {},
     "inputWidgets": {},
     "nuid": "3767bf42-a617-4fce-a282-fc494cb07805",
     "showTitle": false,
     "tableResultSettingsMap": {},
     "title": ""
    }
   },
   "source": [
    "####3.8 - Book Full - Síntese"
   ]
  },
  {
   "cell_type": "code",
   "execution_count": 0,
   "metadata": {
    "application/vnd.databricks.v1+cell": {
     "cellMetadata": {
      "byteLimit": 2048000,
      "rowLimit": 10000
     },
     "inputWidgets": {},
     "nuid": "ad7e6ce1-1191-4f2b-8bb6-ff31a9bb98f8",
     "showTitle": false,
     "tableResultSettingsMap": {},
     "title": ""
    }
   },
   "outputs": [],
   "source": [
    "book_perfil = spark.createDataFrame(pd.read_csv(\"../data/processed/book_perfil.csv\", sep=\",\"))\n",
    "book_compra = spark.createDataFrame(pd.read_csv(\"../data/processed/book_compra.csv\", sep=\",\"))\n",
    "book_interacao = spark.createDataFrame(pd.read_csv(\"../data/processed/book_interacao.csv\", sep=\",\"))\n",
    "book_oferta = spark.createDataFrame(pd.read_csv(\"../data/processed/book_oferta.csv\", sep=\",\"))\n",
    "book_recencia_freq = spark.createDataFrame(pd.read_csv(\"../data/processed/book_recencia_freq.csv\", sep=\",\"))\n",
    "book_comunicacao = spark.createDataFrame(pd.read_csv(\"../data/processed/book_comunicacao.csv\", sep=\",\"))\n",
    "book_cliente_oferta = spark.createDataFrame(pd.read_csv(\"../data/processed/book_cliente_oferta.csv\", sep=\",\"))"
   ]
  },
  {
   "cell_type": "code",
   "execution_count": 0,
   "metadata": {
    "application/vnd.databricks.v1+cell": {
     "cellMetadata": {
      "byteLimit": 2048000,
      "rowLimit": 10000
     },
     "inputWidgets": {},
     "nuid": "e6ebedf6-fadc-42df-b9ec-188f356fb040",
     "showTitle": false,
     "tableResultSettingsMap": {},
     "title": ""
    }
   },
   "outputs": [],
   "source": [
    "\n",
    "book_full = book_perfil\\\n",
    "    .join(book_compra.drop(\"cliente_id\",\"offer_id\",\"time_since_test_start\"), \"ID\", \"left\")\\\n",
    "    .join(book_interacao.drop(\"cliente_id\",\"offer_id\",\"time_since_test_start\"), \"ID\", \"left\")\\\n",
    "    .join(book_oferta.drop(\"cliente_id\",\"offer_id\",\"time_since_test_start\"), \"ID\", \"left\")\\\n",
    "    .join(book_recencia_freq.drop(\"cliente_id\",\"offer_id\",\"time_since_test_start\"), \"ID\", \"left\")\\\n",
    "    .join(book_comunicacao.drop(\"cliente_id\",\"offer_id\",\"time_since_test_start\"), \"ID\", \"left\")\\\n",
    "    .join(book_cliente_oferta.drop(\"cliente_id\",\"offer_id\",\"time_since_test_start\"), \"ID\", \"left\")\n"
   ]
  },
  {
   "cell_type": "code",
   "execution_count": 0,
   "metadata": {
    "application/vnd.databricks.v1+cell": {
     "cellMetadata": {
      "byteLimit": 2048000,
      "rowLimit": 10000
     },
     "inputWidgets": {},
     "nuid": "46768461-effd-4d1b-a1c6-41b46136e59f",
     "showTitle": false,
     "tableResultSettingsMap": {},
     "title": ""
    }
   },
   "outputs": [],
   "source": [
    "#3 IDs ID,cliente_id e offer_id\n",
    "#time_since_test_start - representa a linha do tempo\n",
    "#59 variáveis explicativas\n",
    "analisar_dataframe(filtra_mais_recente(book_full),\"ID\")"
   ]
  },
  {
   "cell_type": "code",
   "execution_count": 0,
   "metadata": {
    "application/vnd.databricks.v1+cell": {
     "cellMetadata": {
      "byteLimit": 2048000,
      "rowLimit": 10000
     },
     "inputWidgets": {},
     "nuid": "9b616f01-4afd-4562-b212-efb7d3c45ed7",
     "showTitle": false,
     "tableResultSettingsMap": {},
     "title": ""
    }
   },
   "outputs": [],
   "source": [
    "book_full.limit(5).display()"
   ]
  },
  {
   "cell_type": "code",
   "execution_count": 0,
   "metadata": {
    "application/vnd.databricks.v1+cell": {
     "cellMetadata": {
      "byteLimit": 2048000,
      "rowLimit": 10000
     },
     "inputWidgets": {},
     "nuid": "f97f7971-202a-4e3f-b4bb-5dece5650878",
     "showTitle": false,
     "tableResultSettingsMap": {},
     "title": ""
    }
   },
   "outputs": [],
   "source": [
    "book_full.toPandas().to_csv(\"../data/processed/book_full.csv\", sep=\",\",header=True,index=False)"
   ]
  },
  {
   "cell_type": "markdown",
   "metadata": {
    "application/vnd.databricks.v1+cell": {
     "cellMetadata": {},
     "inputWidgets": {},
     "nuid": "4fb07c4a-f9cd-4544-a049-5befdd256c09",
     "showTitle": false,
     "tableResultSettingsMap": {},
     "title": ""
    }
   },
   "source": [
    "###4 - Modeling Dataset"
   ]
  },
  {
   "cell_type": "code",
   "execution_count": 0,
   "metadata": {
    "application/vnd.databricks.v1+cell": {
     "cellMetadata": {
      "byteLimit": 2048000,
      "rowLimit": 10000
     },
     "inputWidgets": {},
     "nuid": "0c838042-06e4-4113-bfe5-bcdac2f34ea0",
     "showTitle": false,
     "tableResultSettingsMap": {},
     "title": ""
    }
   },
   "outputs": [],
   "source": [
    "#Vamos juntar nosso publico + Book + target"
   ]
  },
  {
   "cell_type": "code",
   "execution_count": 0,
   "metadata": {
    "application/vnd.databricks.v1+cell": {
     "cellMetadata": {
      "byteLimit": 2048000,
      "rowLimit": 10000
     },
     "inputWidgets": {},
     "nuid": "5eb9af29-1a8c-49b3-9da6-99612a5d703e",
     "showTitle": false,
     "tableResultSettingsMap": {},
     "title": ""
    }
   },
   "outputs": [],
   "source": [
    "publico_com_target = spark.createDataFrame(pd.read_csv(\"../data/processed/publico_com_target.csv\", sep=\",\")).drop(\"cliente_id\",\"offer_id\")\n",
    "book_full = spark.createDataFrame(pd.read_csv(\"../data/processed/book_full.csv\", sep=\",\"))\n",
    "\n",
    "#Base de modelagem\n",
    "base_modelagem = publico_com_target.join(book_full, \"ID\", \"left\")\n"
   ]
  },
  {
   "cell_type": "code",
   "execution_count": 0,
   "metadata": {
    "application/vnd.databricks.v1+cell": {
     "cellMetadata": {
      "byteLimit": 2048000,
      "rowLimit": 10000
     },
     "inputWidgets": {},
     "nuid": "4f70bbf1-20ad-4303-9d38-b73d37c2b025",
     "showTitle": false,
     "tableResultSettingsMap": {},
     "title": ""
    }
   },
   "outputs": [],
   "source": [
    "analisar_dataframe(publico_com_target,\"ID\")"
   ]
  },
  {
   "cell_type": "code",
   "execution_count": 0,
   "metadata": {
    "application/vnd.databricks.v1+cell": {
     "cellMetadata": {
      "byteLimit": 2048000,
      "rowLimit": 10000
     },
     "inputWidgets": {},
     "nuid": "bab45105-d9b8-4090-960c-f5912b9944cf",
     "showTitle": false,
     "tableResultSettingsMap": {},
     "title": ""
    }
   },
   "outputs": [],
   "source": [
    "analisar_dataframe(book_full,\"ID\")"
   ]
  },
  {
   "cell_type": "code",
   "execution_count": 0,
   "metadata": {
    "application/vnd.databricks.v1+cell": {
     "cellMetadata": {
      "byteLimit": 2048000,
      "rowLimit": 10000
     },
     "inputWidgets": {},
     "nuid": "9880c9b3-605b-4369-ac9b-d7fbe01ae897",
     "showTitle": false,
     "tableResultSettingsMap": {},
     "title": ""
    }
   },
   "outputs": [],
   "source": [
    "analisar_dataframe(base_modelagem,\"ID\")"
   ]
  },
  {
   "cell_type": "code",
   "execution_count": 0,
   "metadata": {
    "application/vnd.databricks.v1+cell": {
     "cellMetadata": {
      "byteLimit": 2048000,
      "rowLimit": 10000
     },
     "inputWidgets": {},
     "nuid": "86e2a551-97f1-4a69-91c0-d14f85be5bee",
     "showTitle": false,
     "tableResultSettingsMap": {},
     "title": ""
    }
   },
   "outputs": [],
   "source": [
    "base_modelagem.toPandas().to_csv(\"../data/processed/base_modelagem.csv\", sep=\",\",header=True,index=False)"
   ]
  },
  {
   "cell_type": "markdown",
   "metadata": {
    "application/vnd.databricks.v1+cell": {
     "cellMetadata": {
      "byteLimit": 2048000,
      "rowLimit": 10000
     },
     "inputWidgets": {},
     "nuid": "b57e7bca-9b7c-431d-b9d3-110266e429b9",
     "showTitle": false,
     "tableResultSettingsMap": {},
     "title": ""
    }
   },
   "source": []
  }
 ],
 "metadata": {
  "application/vnd.databricks.v1+notebook": {
   "computePreferences": {
    "hardware": {
     "accelerator": null,
     "gpuPoolId": null,
     "memory": null
    }
   },
   "dashboards": [],
   "environmentMetadata": {
    "base_environment": "",
    "environment_version": "2"
   },
   "inputWidgetPreferences": null,
   "language": "python",
   "notebookMetadata": {
    "pythonIndentUnit": 4
   },
   "notebookName": "1_data_processing.ipynb",
   "widgets": {}
  },
  "language_info": {
   "name": "python"
  }
 },
 "nbformat": 4,
 "nbformat_minor": 0
}
