{
 "cells": [
  {
   "cell_type": "code",
   "execution_count": 0,
   "metadata": {
    "application/vnd.databricks.v1+cell": {
     "cellMetadata": {
      "byteLimit": 2048000,
      "rowLimit": 10000
     },
     "inputWidgets": {},
     "nuid": "079132b7-92d9-4552-83c0-0a8d970a22ad",
     "showTitle": false,
     "tableResultSettingsMap": {},
     "title": ""
    }
   },
   "outputs": [],
   "source": [
    "%load_ext autoreload\n",
    "%autoreload 2"
   ]
  },
  {
   "cell_type": "code",
   "execution_count": 0,
   "metadata": {
    "application/vnd.databricks.v1+cell": {
     "cellMetadata": {
      "byteLimit": 2048000,
      "rowLimit": 10000
     },
     "inputWidgets": {},
     "nuid": "a9f3e4c8-0ad5-4add-9118-a73422e15ab7",
     "showTitle": false,
     "tableResultSettingsMap": {},
     "title": ""
    }
   },
   "outputs": [],
   "source": [
    "import pandas as pd\n",
    "import sys\n",
    "import json\n",
    "#%pip install --disable-pip-version-check pycaret\n",
    "sys.path.append(\"../src\")\n",
    "from funcoes import *\n",
    "import seaborn as sns\n",
    "from funcoes_ import perfil_base_conversao,plot_safra_conversion_rate,detectar_tipos,target_balance,resumo_missing,resumo_numericas,correlacao_numericas,chi2_categoricas,woe_iv_todas,matriz_correlacao,build_missing_plan,fit_missing_prep,apply_missing_prep,aplicar_dtypes,eliminacao_progressiva_por_importancia,grid_search_inteligente_lgbm_gini,_detectar_categoricas,_padronizar_categorias_para_fit,_alinhar_colunas_para_predict,_aplicar_categorias_salvas,avaliar_modelo_roc,plot_ks_prob_side_by_side,avaliar_por_limiar,plot_confusion_from_metrics,treinar_e_salvar_modelo_lgbm,aplicar_modelo_pkl,plot_ks_prob_side_by_side\n",
    "import matplotlib.pyplot as plt\n",
    "from sklearn.model_selection import train_test_split"
   ]
  },
  {
   "cell_type": "code",
   "execution_count": 0,
   "metadata": {
    "application/vnd.databricks.v1+cell": {
     "cellMetadata": {
      "byteLimit": 2048000,
      "rowLimit": 10000
     },
     "inputWidgets": {},
     "nuid": "08952522-46b1-4df7-aa41-29e999969f88",
     "showTitle": false,
     "tableResultSettingsMap": {},
     "title": ""
    }
   },
   "outputs": [],
   "source": [
    "!pip freeze > requirements.txt"
   ]
  },
  {
   "cell_type": "markdown",
   "metadata": {
    "application/vnd.databricks.v1+cell": {
     "cellMetadata": {
      "byteLimit": 2048000,
      "rowLimit": 10000
     },
     "inputWidgets": {},
     "nuid": "eef17580-93a2-477a-8f64-b3df22e321e9",
     "showTitle": false,
     "tableResultSettingsMap": {},
     "title": ""
    }
   },
   "source": [
    "###1- Train & Test"
   ]
  },
  {
   "cell_type": "markdown",
   "metadata": {
    "application/vnd.databricks.v1+cell": {
     "cellMetadata": {
      "byteLimit": 2048000,
      "rowLimit": 10000
     },
     "inputWidgets": {},
     "nuid": "574d1cb9-3295-4e73-bbfa-4cbd9cc0118d",
     "showTitle": false,
     "tableResultSettingsMap": {},
     "title": ""
    }
   },
   "source": [
    "####1.1 - General Checks"
   ]
  },
  {
   "cell_type": "code",
   "execution_count": 0,
   "metadata": {
    "application/vnd.databricks.v1+cell": {
     "cellMetadata": {
      "byteLimit": 2048000,
      "rowLimit": 10000
     },
     "inputWidgets": {},
     "nuid": "5a9dd806-3ee1-46c2-abcb-6714521ff335",
     "showTitle": false,
     "tableResultSettingsMap": {},
     "title": ""
    }
   },
   "outputs": [],
   "source": [
    "#Após recebermos uma base enriquecida precisamos dividir entre Treino e Teste, para evitar Data Leakage.\n",
    "#Data Leakage é uma falha que acontece durante os testes de um modelo de machine learning,\n",
    "#no qual informações são compartilhadas entre um conjunto de dados usado no treinamento\n",
    "#e outro conjunto de dados que é usado para validar essa modelagem, também chamado de dataset de testes.\n",
    "#"
   ]
  },
  {
   "cell_type": "code",
   "execution_count": 0,
   "metadata": {
    "application/vnd.databricks.v1+cell": {
     "cellMetadata": {
      "byteLimit": 2048000,
      "rowLimit": 10000
     },
     "inputWidgets": {},
     "nuid": "68469ce6-9128-40bb-b399-db062336330e",
     "showTitle": false,
     "tableResultSettingsMap": {},
     "title": ""
    }
   },
   "outputs": [],
   "source": [
    "base_modelagem = pd.read_csv(\"../data/processed/base_modelagem.csv\", sep=\",\")"
   ]
  },
  {
   "cell_type": "code",
   "execution_count": 0,
   "metadata": {
    "application/vnd.databricks.v1+cell": {
     "cellMetadata": {
      "byteLimit": 2048000,
      "rowLimit": 10000
     },
     "inputWidgets": {},
     "nuid": "24c73377-00fc-4779-a456-a5e9e66e6bc3",
     "showTitle": false,
     "tableResultSettingsMap": {},
     "title": ""
    }
   },
   "outputs": [],
   "source": [
    "base_modelagem.head()"
   ]
  },
  {
   "cell_type": "code",
   "execution_count": 0,
   "metadata": {
    "application/vnd.databricks.v1+cell": {
     "cellMetadata": {
      "byteLimit": 2048000,
      "rowLimit": 10000
     },
     "inputWidgets": {},
     "nuid": "fe95b71f-1f00-453f-b230-0faa5bfb81da",
     "showTitle": false,
     "tableResultSettingsMap": {},
     "title": ""
    }
   },
   "outputs": [],
   "source": [
    "#A função perfil_base auxilia na verificação de métricas básicas da base de dados\n",
    "resultado = perfil_base_conversao(base_modelagem, id_col='ID', target_col='target_sucesso', safra_col='time_since_test_start')"
   ]
  },
  {
   "cell_type": "code",
   "execution_count": 0,
   "metadata": {
    "application/vnd.databricks.v1+cell": {
     "cellMetadata": {
      "byteLimit": 2048000,
      "rowLimit": 10000
     },
     "inputWidgets": {},
     "nuid": "64b8b136-6527-41b6-bc9b-9c10f60eef4f",
     "showTitle": false,
     "tableResultSettingsMap": {},
     "title": ""
    }
   },
   "outputs": [],
   "source": [
    "base_modelagem[\"time_since_test_start\"] = base_modelagem[\"time_since_test_start\"].astype(float).astype(\"int\")\n",
    "safra_br = plot_safra_conversion_rate(base_modelagem, safra_col=\"time_since_test_start\", conversao_col=\"target_sucesso\", conv_rate_min=0, conv_rate_max=0.8)"
   ]
  },
  {
   "cell_type": "code",
   "execution_count": 0,
   "metadata": {
    "application/vnd.databricks.v1+cell": {
     "cellMetadata": {
      "byteLimit": 2048000,
      "rowLimit": 10000
     },
     "inputWidgets": {},
     "nuid": "50a4eeb0-304e-463a-95b8-160ab28c57ee",
     "showTitle": false,
     "tableResultSettingsMap": {},
     "title": ""
    }
   },
   "outputs": [],
   "source": [
    "safra_br"
   ]
  },
  {
   "cell_type": "code",
   "execution_count": 0,
   "metadata": {
    "application/vnd.databricks.v1+cell": {
     "cellMetadata": {
      "byteLimit": 2048000,
      "rowLimit": 10000
     },
     "inputWidgets": {},
     "nuid": "2110172b-f428-41af-b147-d8d2021fb20b",
     "showTitle": false,
     "tableResultSettingsMap": {},
     "title": ""
    }
   },
   "outputs": [],
   "source": [
    "#verificando a tipagem das variáveis\n",
    "base_modelagem.dtypes.to_frame().value_counts(0)"
   ]
  },
  {
   "cell_type": "code",
   "execution_count": 0,
   "metadata": {
    "application/vnd.databricks.v1+cell": {
     "cellMetadata": {
      "byteLimit": 2048000,
      "rowLimit": 10000
     },
     "inputWidgets": {},
     "nuid": "c70a0e69-8968-46ec-bd5f-fcb4890c219f",
     "showTitle": false,
     "tableResultSettingsMap": {},
     "title": ""
    }
   },
   "outputs": [],
   "source": [
    "#verificando a quantidade de safras e ofertas\n",
    "base_modelagem[['time_since_test_start','offer_id']].value_counts().to_frame().reset_index().sort_values('time_since_test_start')\n"
   ]
  },
  {
   "cell_type": "markdown",
   "metadata": {
    "application/vnd.databricks.v1+cell": {
     "cellMetadata": {
      "byteLimit": 2048000,
      "rowLimit": 10000
     },
     "inputWidgets": {},
     "nuid": "a3fa353f-b86f-48b8-b420-3d1b331c76f2",
     "showTitle": false,
     "tableResultSettingsMap": {},
     "title": ""
    }
   },
   "source": [
    "####1.2 - Train Test Division"
   ]
  },
  {
   "cell_type": "code",
   "execution_count": 0,
   "metadata": {
    "application/vnd.databricks.v1+cell": {
     "cellMetadata": {
      "byteLimit": 2048000,
      "rowLimit": 10000
     },
     "inputWidgets": {},
     "nuid": "d964bba8-0ce4-4904-93c5-ebe7907b2cb2",
     "showTitle": false,
     "tableResultSettingsMap": {},
     "title": ""
    }
   },
   "outputs": [],
   "source": [
    "#Apesar da visão de \"safras\" vamos resolver esse problema apenas comm Treino e Teste OOS\n",
    "#Isso porque estamos falando de apenas um mes de campanha com novos disparos consecutivos\n",
    "#As variáveis nao devem perder poder preditivo em um período de tempo tão curto."
   ]
  },
  {
   "cell_type": "code",
   "execution_count": 0,
   "metadata": {
    "application/vnd.databricks.v1+cell": {
     "cellMetadata": {
      "byteLimit": 2048000,
      "rowLimit": 10000
     },
     "inputWidgets": {},
     "nuid": "8490c43a-8254-4902-8620-7307f1be7059",
     "showTitle": false,
     "tableResultSettingsMap": {},
     "title": ""
    }
   },
   "outputs": [],
   "source": [
    "base_modelagem.shape"
   ]
  },
  {
   "cell_type": "code",
   "execution_count": 0,
   "metadata": {
    "application/vnd.databricks.v1+cell": {
     "cellMetadata": {
      "byteLimit": 2048000,
      "rowLimit": 10000
     },
     "inputWidgets": {},
     "nuid": "cff1fe47-451b-4f29-9b80-bbc85194d30b",
     "showTitle": false,
     "tableResultSettingsMap": {},
     "title": ""
    }
   },
   "outputs": [],
   "source": [
    "#A base de treino deve ser dividida em Desenvolvimento e validação (train test)\n",
    "#Para que possamos avaliar os modelos dentro do mesmo contexto temporal do treinamento OOS\n",
    "# A base -> treino precisa ser dividida em train, test oos (testar a performance nas safras conhecidas)\n",
    "# 30% da base é o teste oos.\n",
    "train, test_oos = train_test_split(base_modelagem, test_size=0.3, stratify=base_modelagem['target_sucesso'], random_state=42)\n",
    "train.shape, test_oos.shape"
   ]
  },
  {
   "cell_type": "code",
   "execution_count": 0,
   "metadata": {
    "application/vnd.databricks.v1+cell": {
     "cellMetadata": {
      "byteLimit": 2048000,
      "rowLimit": 10000
     },
     "inputWidgets": {},
     "nuid": "cb983596-4d59-4599-b617-6da6b136cef0",
     "showTitle": false,
     "tableResultSettingsMap": {},
     "title": ""
    }
   },
   "outputs": [],
   "source": [
    "#verificando as taxas de conversao\n",
    "train['target_sucesso'].value_counts()/len(train)*100"
   ]
  },
  {
   "cell_type": "code",
   "execution_count": 0,
   "metadata": {
    "application/vnd.databricks.v1+cell": {
     "cellMetadata": {
      "byteLimit": 2048000,
      "rowLimit": 10000
     },
     "inputWidgets": {},
     "nuid": "47c6cdfe-d17f-495d-b76e-1166e7d9260a",
     "showTitle": false,
     "tableResultSettingsMap": {},
     "title": ""
    }
   },
   "outputs": [],
   "source": [
    "test_oos['target_sucesso'].value_counts()/len(test_oos)*100"
   ]
  },
  {
   "cell_type": "code",
   "execution_count": 0,
   "metadata": {
    "application/vnd.databricks.v1+cell": {
     "cellMetadata": {
      "byteLimit": 2048000,
      "rowLimit": 10000
     },
     "inputWidgets": {},
     "nuid": "a86a7b39-e509-44b6-86a4-a1d7bcd25f65",
     "showTitle": false,
     "tableResultSettingsMap": {},
     "title": ""
    }
   },
   "outputs": [],
   "source": [
    "#Salvando as bases. A partir daqui todas as análises e transformacoes serao realizadas no conjunto de treino\n",
    "#E aplicada quando necessário no conjunto de testes\n",
    "train.to_csv(\"../data/processed/train.csv\",sep=\",\",index=False,header=True)\n",
    "test_oos.to_csv(\"../data/processed/test_oos.csv\",sep=\",\",index=False,header=True)"
   ]
  },
  {
   "cell_type": "markdown",
   "metadata": {
    "application/vnd.databricks.v1+cell": {
     "cellMetadata": {
      "byteLimit": 2048000,
      "rowLimit": 10000
     },
     "inputWidgets": {},
     "nuid": "837cc89a-d0df-4e19-a486-ea524528de7b",
     "showTitle": false,
     "tableResultSettingsMap": {},
     "title": ""
    }
   },
   "source": [
    "### 2 - Exploratory Data Analysis (EDA)"
   ]
  },
  {
   "cell_type": "code",
   "execution_count": 0,
   "metadata": {
    "application/vnd.databricks.v1+cell": {
     "cellMetadata": {
      "byteLimit": 2048000,
      "rowLimit": 10000
     },
     "inputWidgets": {},
     "nuid": "95399d0d-a101-48c1-97bc-2a86e993c1e4",
     "showTitle": false,
     "tableResultSettingsMap": {},
     "title": ""
    }
   },
   "outputs": [],
   "source": [
    "train= pd.read_csv(\"../data/processed/train.csv\",sep=\",\")"
   ]
  },
  {
   "cell_type": "code",
   "execution_count": 0,
   "metadata": {
    "application/vnd.databricks.v1+cell": {
     "cellMetadata": {
      "byteLimit": 2048000,
      "rowLimit": 10000
     },
     "inputWidgets": {},
     "nuid": "56cfe702-d08b-495b-bde3-a5313808a809",
     "showTitle": false,
     "tableResultSettingsMap": {},
     "title": ""
    }
   },
   "outputs": [],
   "source": [
    "train.head()"
   ]
  },
  {
   "cell_type": "code",
   "execution_count": 0,
   "metadata": {
    "application/vnd.databricks.v1+cell": {
     "cellMetadata": {
      "byteLimit": 2048000,
      "rowLimit": 10000
     },
     "inputWidgets": {},
     "nuid": "047c94fe-462c-4903-8ea3-91b441509ded",
     "showTitle": false,
     "tableResultSettingsMap": {},
     "title": ""
    }
   },
   "outputs": [],
   "source": [
    "#Analisar os dados!! Quais variáveis vamos manter? descartar? transformar ou criar? Quais os Insights?\n",
    "target = \"target_sucesso\""
   ]
  },
  {
   "cell_type": "markdown",
   "metadata": {
    "application/vnd.databricks.v1+cell": {
     "cellMetadata": {
      "byteLimit": 2048000,
      "rowLimit": 10000
     },
     "inputWidgets": {},
     "nuid": "7367f62c-ad51-4ff1-a6b3-50b1485f1858",
     "showTitle": false,
     "tableResultSettingsMap": {},
     "title": ""
    }
   },
   "source": [
    "####2.1 - Types"
   ]
  },
  {
   "cell_type": "code",
   "execution_count": 0,
   "metadata": {
    "application/vnd.databricks.v1+cell": {
     "cellMetadata": {
      "byteLimit": 2048000,
      "rowLimit": 10000
     },
     "inputWidgets": {},
     "nuid": "caf5f2b0-9321-428a-99f9-5cbfbfc7b798",
     "showTitle": false,
     "tableResultSettingsMap": {},
     "title": ""
    }
   },
   "outputs": [],
   "source": [
    "target = \"target_sucesso\"\n",
    "\n",
    "num_cols, cat_cols = detectar_tipos(\n",
    "    train,\n",
    "    target=target,\n",
    "    exclude_cols=[\"ID\",\"cliente_id\",\"offer_id\",\"time_since_test_start\"],  # não classificar esses\n",
    "    force_cat=[\"genero\",\"offer_type\",\"safra_registro\",\"recebeu_email\",\"recebeu_mobile\",\"recebeu_social\",\"recebeu_web\",\n",
    "        \"social\",\"web\",\"mobile\",\"email\"],                   # garantir que fiquem categóricas\n",
    "    force_num=[\n",
    "        \"canais_recebidos_total\",\"discount_value\",\"duration\",\"min_value\",\n",
    "        \"n_instancias_anteriores_mesma_oferta\",\"qtd_ofertas_completas_validas\",\n",
    "        \n",
    "    ],\n",
    "    int_low_card_as_cat=False  # não transformar ints de baixa cardinalidade em categorias\n",
    ")\n",
    "\n",
    "print(\"Categóricas:\", cat_cols)\n",
    "print(\"Numéricas (amostra):\", num_cols[:10], \" ... total:\", len(num_cols))\n"
   ]
  },
  {
   "cell_type": "code",
   "execution_count": 0,
   "metadata": {
    "application/vnd.databricks.v1+cell": {
     "cellMetadata": {
      "byteLimit": 2048000,
      "rowLimit": 10000
     },
     "inputWidgets": {},
     "nuid": "a0c6aa64-44aa-4be5-aac3-ff9a214775d0",
     "showTitle": false,
     "tableResultSettingsMap": {},
     "title": ""
    }
   },
   "outputs": [],
   "source": [
    "num_cols"
   ]
  },
  {
   "cell_type": "code",
   "execution_count": 0,
   "metadata": {
    "application/vnd.databricks.v1+cell": {
     "cellMetadata": {
      "byteLimit": 2048000,
      "rowLimit": 10000
     },
     "inputWidgets": {},
     "nuid": "75f251d4-00d9-4dce-ad0c-03a46ad4d013",
     "showTitle": false,
     "tableResultSettingsMap": {},
     "title": ""
    }
   },
   "outputs": [],
   "source": [
    "cat_cols"
   ]
  },
  {
   "cell_type": "code",
   "execution_count": 0,
   "metadata": {
    "application/vnd.databricks.v1+cell": {
     "cellMetadata": {
      "byteLimit": 2048000,
      "rowLimit": 10000
     },
     "inputWidgets": {},
     "nuid": "2fecc61a-d5b3-42a4-af0c-5c94f67f8cfa",
     "showTitle": false,
     "tableResultSettingsMap": {},
     "title": ""
    }
   },
   "outputs": [],
   "source": [
    "for col in cat_cols:\n",
    "    if col in train.columns:\n",
    "        train[col] = train[col].astype('category')"
   ]
  },
  {
   "cell_type": "code",
   "execution_count": 0,
   "metadata": {
    "application/vnd.databricks.v1+cell": {
     "cellMetadata": {
      "byteLimit": 2048000,
      "rowLimit": 10000
     },
     "inputWidgets": {},
     "nuid": "ab2cf213-69aa-4b8c-baf9-84fac6b8baa6",
     "showTitle": false,
     "tableResultSettingsMap": {},
     "title": ""
    }
   },
   "outputs": [],
   "source": [
    "train.dtypes"
   ]
  },
  {
   "cell_type": "code",
   "execution_count": 0,
   "metadata": {
    "application/vnd.databricks.v1+cell": {
     "cellMetadata": {
      "byteLimit": 2048000,
      "rowLimit": 10000
     },
     "inputWidgets": {},
     "nuid": "d107a351-0b13-4255-ba68-c4e1c68417cc",
     "showTitle": false,
     "tableResultSettingsMap": {},
     "title": ""
    }
   },
   "outputs": [],
   "source": [
    "tipagem = train.dtypes.reset_index()\n",
    "dicionario_tipagem = dict(zip(tipagem[\"index\"], tipagem[0]))"
   ]
  },
  {
   "cell_type": "code",
   "execution_count": 0,
   "metadata": {
    "application/vnd.databricks.v1+cell": {
     "cellMetadata": {
      "byteLimit": 2048000,
      "rowLimit": 10000
     },
     "inputWidgets": {},
     "nuid": "c18edb6c-9d5d-42e9-ba27-2709eb8508c6",
     "showTitle": false,
     "tableResultSettingsMap": {},
     "title": ""
    }
   },
   "outputs": [],
   "source": [
    "dicionario_tipagem"
   ]
  },
  {
   "cell_type": "markdown",
   "metadata": {
    "application/vnd.databricks.v1+cell": {
     "cellMetadata": {
      "byteLimit": 2048000,
      "rowLimit": 10000
     },
     "inputWidgets": {},
     "nuid": "5a8a99b5-368e-4732-8c07-9741b6fb2aa9",
     "showTitle": false,
     "tableResultSettingsMap": {},
     "title": ""
    }
   },
   "source": [
    "####2.2 - Target"
   ]
  },
  {
   "cell_type": "code",
   "execution_count": 0,
   "metadata": {
    "application/vnd.databricks.v1+cell": {
     "cellMetadata": {
      "byteLimit": 2048000,
      "rowLimit": 10000
     },
     "inputWidgets": {},
     "nuid": "07ae0b9e-bca2-4ec4-bba4-c99d2bb1283c",
     "showTitle": false,
     "tableResultSettingsMap": {},
     "title": ""
    }
   },
   "outputs": [],
   "source": [
    "target_balance(train, target)"
   ]
  },
  {
   "cell_type": "markdown",
   "metadata": {
    "application/vnd.databricks.v1+cell": {
     "cellMetadata": {
      "byteLimit": 2048000,
      "rowLimit": 10000
     },
     "inputWidgets": {},
     "nuid": "bb9f1737-3be9-4e54-abbb-00252d53524b",
     "showTitle": false,
     "tableResultSettingsMap": {},
     "title": ""
    }
   },
   "source": [
    "####2.3 - Missing"
   ]
  },
  {
   "cell_type": "code",
   "execution_count": 0,
   "metadata": {
    "application/vnd.databricks.v1+cell": {
     "cellMetadata": {
      "byteLimit": 2048000,
      "rowLimit": 10000
     },
     "inputWidgets": {},
     "nuid": "20e9a869-1722-48af-8a38-b5da7c65189c",
     "showTitle": false,
     "tableResultSettingsMap": {},
     "title": ""
    }
   },
   "outputs": [],
   "source": [
    "#avaliacao rapida de missings na base, posteriormente vamos filtrar os campos com mais de 40% de missing\n",
    "drop_missing = [\"dias_desde_ultima_conversao_valida_mesma\",\n",
    "\"dias_desde_ultima_oferta_mesma\",\n",
    "\"n_conversoes_validas_anteriores_mesma\",\n",
    "\"tempo_medio_conversao\",\n",
    "\"dias_desde_ultima_conversao_valida\",\n",
    "\"tempo_medio_visualizacao\"]\n",
    "\n",
    "resumo_missing(train).head(20)"
   ]
  },
  {
   "cell_type": "markdown",
   "metadata": {
    "application/vnd.databricks.v1+cell": {
     "cellMetadata": {
      "byteLimit": 2048000,
      "rowLimit": 10000
     },
     "inputWidgets": {},
     "nuid": "14b1142c-cde2-4d92-9d43-d2e2b21d583f",
     "showTitle": false,
     "tableResultSettingsMap": {},
     "title": ""
    }
   },
   "source": [
    "####2.4 - Variables"
   ]
  },
  {
   "cell_type": "code",
   "execution_count": 0,
   "metadata": {
    "application/vnd.databricks.v1+cell": {
     "cellMetadata": {
      "byteLimit": 2048000,
      "rowLimit": 10000
     },
     "inputWidgets": {},
     "nuid": "2064a570-add5-4853-a3b5-5bcf2b5f1adc",
     "showTitle": false,
     "tableResultSettingsMap": {},
     "title": ""
    }
   },
   "outputs": [],
   "source": [
    "num_cols"
   ]
  },
  {
   "cell_type": "code",
   "execution_count": 0,
   "metadata": {
    "application/vnd.databricks.v1+cell": {
     "cellMetadata": {
      "byteLimit": 2048000,
      "rowLimit": 10000
     },
     "inputWidgets": {},
     "nuid": "f9ed25a4-00ce-4615-b70c-53db3352a66c",
     "showTitle": false,
     "tableResultSettingsMap": {},
     "title": ""
    }
   },
   "outputs": [],
   "source": [
    "#Essas variáveis possuem problemas de inconsistencia devemos rever o conceito no book\n",
    "drop_inconsistencia = [\"mobile_ratio_historico\",\"social_ratio_historico\",\"dias_desde_ultima_conversao_valida_mesma\",\"mobile_ratio_historico\",\"social_ratio_historico\",\"tempo_medio_conversao\",\"web_ratio_historico\",\"dias_desde_ultima_transacao.1\"]\n",
    "\n",
    "resumo_numericas(train, num_cols)"
   ]
  },
  {
   "cell_type": "code",
   "execution_count": 0,
   "metadata": {
    "application/vnd.databricks.v1+cell": {
     "cellMetadata": {
      "byteLimit": 2048000,
      "rowLimit": 10000
     },
     "inputWidgets": {},
     "nuid": "eb045507-1111-4680-874c-d7a918d81b48",
     "showTitle": false,
     "tableResultSettingsMap": {},
     "title": ""
    }
   },
   "outputs": [],
   "source": [
    "#p_valor baixo, vamos manter todas\n",
    "chi2_categoricas(train, cat_cols, target)"
   ]
  },
  {
   "cell_type": "code",
   "execution_count": 0,
   "metadata": {
    "application/vnd.databricks.v1+cell": {
     "cellMetadata": {
      "byteLimit": 2048000,
      "rowLimit": 10000
     },
     "inputWidgets": {},
     "nuid": "0195efa5-bc50-4c74-9c35-1bf759f0e00e",
     "showTitle": false,
     "tableResultSettingsMap": {},
     "title": ""
    }
   },
   "outputs": [],
   "source": [
    "# 5) Correlação + pares fortes\n",
    "corr, pares_fortes = correlacao_numericas(train, num_cols)\n",
    "display(pares_fortes)"
   ]
  },
  {
   "cell_type": "code",
   "execution_count": 0,
   "metadata": {
    "application/vnd.databricks.v1+cell": {
     "cellMetadata": {
      "byteLimit": 2048000,
      "rowLimit": 10000
     },
     "inputWidgets": {},
     "nuid": "c43c3f73-67ea-4f2c-950d-c984ee5804aa",
     "showTitle": false,
     "tableResultSettingsMap": {},
     "title": ""
    }
   },
   "outputs": [],
   "source": [
    "#remover variaveis com alto colinearidade\n",
    "drop_alta_colinearidade = pares_fortes[\"var2\"].tolist()"
   ]
  },
  {
   "cell_type": "code",
   "execution_count": 0,
   "metadata": {
    "application/vnd.databricks.v1+cell": {
     "cellMetadata": {
      "byteLimit": 2048000,
      "rowLimit": 10000
     },
     "inputWidgets": {},
     "nuid": "2ddd1f89-76ca-4009-8dfd-5edbbe55c208",
     "showTitle": false,
     "tableResultSettingsMap": {},
     "title": ""
    }
   },
   "outputs": [],
   "source": [
    "drop_alta_colinearidade"
   ]
  },
  {
   "cell_type": "code",
   "execution_count": 0,
   "metadata": {
    "application/vnd.databricks.v1+cell": {
     "cellMetadata": {
      "byteLimit": 2048000,
      "rowLimit": 10000
     },
     "inputWidgets": {},
     "nuid": "2fc5a9c2-c207-4945-bf3c-a96bcd253b55",
     "showTitle": false,
     "tableResultSettingsMap": {},
     "title": ""
    }
   },
   "outputs": [],
   "source": [
    "# 7) WoE/IV (ranking)\n",
    "#IV/WOE → mede capacidade de discriminação da variável para um problema binário.\n",
    "#A variável [\"n_conversoes_validas_anteriores_mesma\"] tem um IV absurdo provavelmente algum problema na construcao da variavel (leakeage)\n",
    "#Devemos remover ou consertar o conceito\n",
    "#Vale lembrar que estamos falando de correlacoes lineares, portanto nao vamos nos livrar \n",
    "#de variaveis que apenas tem iv baixo.\n",
    "drop_iv_absurdo = [\"n_conversoes_validas_anteriores_mesma\"]\n",
    "display(woe_iv_todas(train, num_cols + cat_cols, target, n_bins=10, metodo=\"quantile\"))"
   ]
  },
  {
   "cell_type": "code",
   "execution_count": 0,
   "metadata": {
    "application/vnd.databricks.v1+cell": {
     "cellMetadata": {
      "byteLimit": 2048000,
      "rowLimit": 10000
     },
     "inputWidgets": {},
     "nuid": "c84f6980-24de-43ae-a54f-32053aac0511",
     "showTitle": false,
     "tableResultSettingsMap": {},
     "title": ""
    }
   },
   "outputs": [],
   "source": [
    "drop_missing"
   ]
  },
  {
   "cell_type": "code",
   "execution_count": 0,
   "metadata": {
    "application/vnd.databricks.v1+cell": {
     "cellMetadata": {
      "byteLimit": 2048000,
      "rowLimit": 10000
     },
     "inputWidgets": {},
     "nuid": "f5574b88-7713-42c6-87a8-64b697a17716",
     "showTitle": false,
     "tableResultSettingsMap": {},
     "title": ""
    }
   },
   "outputs": [],
   "source": [
    "remover_vars = list(set(drop_inconsistencia+drop_missing+drop_alta_colinearidade+drop_iv_absurdo))"
   ]
  },
  {
   "cell_type": "code",
   "execution_count": 0,
   "metadata": {
    "application/vnd.databricks.v1+cell": {
     "cellMetadata": {
      "byteLimit": 2048000,
      "rowLimit": 10000
     },
     "inputWidgets": {},
     "nuid": "d3dbb23e-4190-40f3-92f1-5e7819685ceb",
     "showTitle": false,
     "tableResultSettingsMap": {},
     "title": ""
    }
   },
   "outputs": [],
   "source": [
    "resumo_missing(train)"
   ]
  },
  {
   "cell_type": "code",
   "execution_count": 0,
   "metadata": {
    "application/vnd.databricks.v1+cell": {
     "cellMetadata": {
      "byteLimit": 2048000,
      "rowLimit": 10000
     },
     "inputWidgets": {},
     "nuid": "dfe677b1-eda3-4085-8c8e-375aba370122",
     "showTitle": false,
     "tableResultSettingsMap": {},
     "title": ""
    }
   },
   "outputs": [],
   "source": [
    "train.columns"
   ]
  },
  {
   "cell_type": "code",
   "execution_count": 0,
   "metadata": {
    "application/vnd.databricks.v1+cell": {
     "cellMetadata": {
      "byteLimit": 2048000,
      "rowLimit": 10000
     },
     "inputWidgets": {},
     "nuid": "f9256c5b-2eff-4f0c-b2d1-0c42337b8ba3",
     "showTitle": false,
     "tableResultSettingsMap": {},
     "title": ""
    }
   },
   "outputs": [],
   "source": [
    "train.dtypes"
   ]
  },
  {
   "cell_type": "code",
   "execution_count": 0,
   "metadata": {
    "application/vnd.databricks.v1+cell": {
     "cellMetadata": {
      "byteLimit": 2048000,
      "rowLimit": 10000
     },
     "inputWidgets": {},
     "nuid": "25e72af1-0d15-4978-a150-b5e81826f9c8",
     "showTitle": false,
     "tableResultSettingsMap": {},
     "title": ""
    }
   },
   "outputs": [],
   "source": [
    "remover_vars"
   ]
  },
  {
   "cell_type": "code",
   "execution_count": 0,
   "metadata": {
    "application/vnd.databricks.v1+cell": {
     "cellMetadata": {
      "byteLimit": 2048000,
      "rowLimit": 10000
     },
     "inputWidgets": {},
     "nuid": "e4d7db3d-8253-421a-9cf7-ce573ec33a4c",
     "showTitle": false,
     "tableResultSettingsMap": {},
     "title": ""
    }
   },
   "outputs": [],
   "source": [
    "vars_sobreviventes = [x for x in train if x not in remover_vars]"
   ]
  },
  {
   "cell_type": "code",
   "execution_count": 0,
   "metadata": {
    "application/vnd.databricks.v1+cell": {
     "cellMetadata": {
      "byteLimit": 2048000,
      "rowLimit": 10000
     },
     "inputWidgets": {},
     "nuid": "7b4d7587-d7c0-4a7c-a5b8-55a515812dc7",
     "showTitle": false,
     "tableResultSettingsMap": {},
     "title": ""
    }
   },
   "outputs": [],
   "source": [
    "vars_sobreviventes"
   ]
  },
  {
   "cell_type": "code",
   "execution_count": 0,
   "metadata": {
    "application/vnd.databricks.v1+cell": {
     "cellMetadata": {
      "byteLimit": 2048000,
      "rowLimit": 10000
     },
     "inputWidgets": {},
     "nuid": "2f98360c-51d2-48d8-8b3b-31450c2aa120",
     "showTitle": false,
     "tableResultSettingsMap": {},
     "title": ""
    }
   },
   "outputs": [],
   "source": [
    "#Sobraram 49 variáveis!!\n",
    "len(vars_sobreviventes)"
   ]
  },
  {
   "cell_type": "code",
   "execution_count": 0,
   "metadata": {
    "application/vnd.databricks.v1+cell": {
     "cellMetadata": {
      "byteLimit": 2048000,
      "rowLimit": 10000
     },
     "inputWidgets": {},
     "nuid": "360eea36-c29a-41b1-9c00-49b26ed2500d",
     "showTitle": false,
     "tableResultSettingsMap": {},
     "title": ""
    }
   },
   "outputs": [],
   "source": [
    "train_selecionado = train[vars_sobreviventes]"
   ]
  },
  {
   "cell_type": "code",
   "execution_count": 0,
   "metadata": {
    "application/vnd.databricks.v1+cell": {
     "cellMetadata": {
      "byteLimit": 2048000,
      "rowLimit": 10000
     },
     "inputWidgets": {},
     "nuid": "dcd9a251-fdd5-4e7b-93d6-53ae7104bb6f",
     "showTitle": false,
     "tableResultSettingsMap": {},
     "title": ""
    }
   },
   "outputs": [],
   "source": [
    "ids_ =[\"ID\",\"time_since_test_start\",\"offer_id\",\"cliente_id\"]\n",
    "target=\"target_sucesso\""
   ]
  },
  {
   "cell_type": "code",
   "execution_count": 0,
   "metadata": {
    "application/vnd.databricks.v1+cell": {
     "cellMetadata": {
      "byteLimit": 2048000,
      "rowLimit": 10000
     },
     "inputWidgets": {},
     "nuid": "d6d36418-22a0-48b6-9345-cb7c3efbae84",
     "showTitle": false,
     "tableResultSettingsMap": {},
     "title": ""
    }
   },
   "outputs": [],
   "source": [
    "#correlacao maxima de 0.8\n",
    "matriz_correlacao(train_selecionado.drop(ids_,axis=1).iloc[:, 1:15])"
   ]
  },
  {
   "cell_type": "markdown",
   "metadata": {
    "application/vnd.databricks.v1+cell": {
     "cellMetadata": {
      "byteLimit": 2048000,
      "rowLimit": 10000
     },
     "inputWidgets": {},
     "nuid": "dd3c4395-cf21-47a9-9cca-67da6e021b09",
     "showTitle": false,
     "tableResultSettingsMap": {},
     "title": ""
    }
   },
   "source": [
    "###3 - Data Prep"
   ]
  },
  {
   "cell_type": "code",
   "execution_count": 0,
   "metadata": {
    "application/vnd.databricks.v1+cell": {
     "cellMetadata": {
      "byteLimit": 2048000,
      "rowLimit": 10000
     },
     "inputWidgets": {},
     "nuid": "b898904b-2100-4df2-8db3-0ff99e545cf9",
     "showTitle": false,
     "tableResultSettingsMap": {},
     "title": ""
    }
   },
   "outputs": [],
   "source": [
    "#Nesta fase seguimos garantindo a qualidade dos dados que serao utilizados para treinar nosso modelo\n",
    "#Nesta fase seguimos garantindo a qualidade dos dados que serao utilizados para treinar nosso modelo"
   ]
  },
  {
   "cell_type": "code",
   "execution_count": 0,
   "metadata": {
    "application/vnd.databricks.v1+cell": {
     "cellMetadata": {
      "byteLimit": 2048000,
      "rowLimit": 10000
     },
     "inputWidgets": {},
     "nuid": "99aa6296-fd7f-4402-90e1-87ba54ff2640",
     "showTitle": false,
     "tableResultSettingsMap": {},
     "title": ""
    }
   },
   "outputs": [],
   "source": [
    "#Nesta fase seguimos garantindo a qualidade dos dados que serao utilizados para treinar nosso modelo"
   ]
  },
  {
   "cell_type": "markdown",
   "metadata": {
    "application/vnd.databricks.v1+cell": {
     "cellMetadata": {
      "byteLimit": 2048000,
      "rowLimit": 10000
     },
     "inputWidgets": {},
     "nuid": "f330a41d-0f45-459b-a920-5b034f140bf6",
     "showTitle": false,
     "tableResultSettingsMap": {},
     "title": ""
    }
   },
   "source": [
    "####3.1 - Handling Missing Values"
   ]
  },
  {
   "cell_type": "code",
   "execution_count": 0,
   "metadata": {
    "application/vnd.databricks.v1+cell": {
     "cellMetadata": {
      "byteLimit": 2048000,
      "rowLimit": 10000
     },
     "inputWidgets": {},
     "nuid": "0d3587c4-06c6-46a3-90e1-b267445aee0d",
     "showTitle": false,
     "tableResultSettingsMap": {},
     "title": ""
    }
   },
   "outputs": [],
   "source": [
    "# Nesta etapa importante vamos verificar nossas variáveis e propor um tratamento adequado para os valores faltantes:"
   ]
  },
  {
   "cell_type": "code",
   "execution_count": 0,
   "metadata": {
    "application/vnd.databricks.v1+cell": {
     "cellMetadata": {
      "byteLimit": 2048000,
      "rowLimit": 10000
     },
     "inputWidgets": {},
     "nuid": "c2d5e066-2709-4d19-b16b-4fd3a50ad0b5",
     "showTitle": false,
     "tableResultSettingsMap": {},
     "title": ""
    }
   },
   "outputs": [],
   "source": [
    "train_selecionado.head()"
   ]
  },
  {
   "cell_type": "code",
   "execution_count": 0,
   "metadata": {
    "application/vnd.databricks.v1+cell": {
     "cellMetadata": {
      "byteLimit": 2048000,
      "rowLimit": 10000
     },
     "inputWidgets": {},
     "nuid": "69a5396a-7086-4524-af0f-c973ca5deb2d",
     "showTitle": false,
     "tableResultSettingsMap": {},
     "title": ""
    }
   },
   "outputs": [],
   "source": [
    "train_selecionado.dtypes"
   ]
  },
  {
   "cell_type": "code",
   "execution_count": 0,
   "metadata": {
    "application/vnd.databricks.v1+cell": {
     "cellMetadata": {
      "byteLimit": 2048000,
      "rowLimit": 10000
     },
     "inputWidgets": {},
     "nuid": "e267553a-9146-4c7e-bdfc-0f391fbcf71d",
     "showTitle": false,
     "tableResultSettingsMap": {},
     "title": ""
    }
   },
   "outputs": [],
   "source": [
    "missing_plan_df = build_missing_plan()\n",
    "missing_plan_df"
   ]
  },
  {
   "cell_type": "code",
   "execution_count": 0,
   "metadata": {
    "application/vnd.databricks.v1+cell": {
     "cellMetadata": {
      "byteLimit": 2048000,
      "rowLimit": 10000
     },
     "inputWidgets": {},
     "nuid": "c5ea4d98-15df-4fb6-a49e-11dd3421b5f6",
     "showTitle": false,
     "tableResultSettingsMap": {},
     "title": ""
    }
   },
   "outputs": [],
   "source": [
    "train_selecionado"
   ]
  },
  {
   "cell_type": "code",
   "execution_count": 0,
   "metadata": {
    "application/vnd.databricks.v1+cell": {
     "cellMetadata": {
      "byteLimit": 2048000,
      "rowLimit": 10000
     },
     "inputWidgets": {},
     "nuid": "d1841555-9c4e-45c9-80e6-e6ccd8d8f0bf",
     "showTitle": false,
     "tableResultSettingsMap": {},
     "title": ""
    }
   },
   "outputs": [],
   "source": [
    "#A variável idade é um tanto complicada, nao sabemos o real motivo dela estar faltando mas vamos \n",
    "#partir da premissa que se trata de um missing aleatório.\n",
    "#Para tentar capturar quando o missing ocorreu vamos criar uma flag_missing, para que o modelo tenha chance de\n",
    "#aprender quando o missing ocorreu.\n",
    "train_selecionado[\"idade_missing\"] = train_selecionado[\"idade\"].isna().astype(int)"
   ]
  },
  {
   "cell_type": "code",
   "execution_count": 0,
   "metadata": {
    "application/vnd.databricks.v1+cell": {
     "cellMetadata": {
      "byteLimit": 2048000,
      "rowLimit": 10000
     },
     "inputWidgets": {},
     "nuid": "b3fbe976-9087-49f4-857d-56187b567ee0",
     "showTitle": false,
     "tableResultSettingsMap": {},
     "title": ""
    }
   },
   "outputs": [],
   "source": [
    "train_selecionado[\"idade\"].count()"
   ]
  },
  {
   "cell_type": "code",
   "execution_count": 0,
   "metadata": {
    "application/vnd.databricks.v1+cell": {
     "cellMetadata": {
      "byteLimit": 2048000,
      "rowLimit": 10000
     },
     "inputWidgets": {},
     "nuid": "9ff7b9e6-bb22-4c8e-871c-1ddaebac4e63",
     "showTitle": false,
     "tableResultSettingsMap": {},
     "title": ""
    }
   },
   "outputs": [],
   "source": [
    "train_selecionado[\"idade_missing\"].value_counts()"
   ]
  },
  {
   "cell_type": "code",
   "execution_count": 0,
   "metadata": {
    "application/vnd.databricks.v1+cell": {
     "cellMetadata": {
      "byteLimit": 2048000,
      "rowLimit": 10000
     },
     "inputWidgets": {},
     "nuid": "173167a1-6228-4301-a8ab-fa20c56f9581",
     "showTitle": false,
     "tableResultSettingsMap": {},
     "title": ""
    }
   },
   "outputs": [],
   "source": [
    "#Definindo o plano de imputação\n",
    "plan = build_missing_plan()\n",
    "\n",
    "prep = fit_missing_prep(train_selecionado, plan)\n",
    "\n",
    "#salvar e dar load no prep\n",
    "with open(\"../model_artefacts/missing_plan.json\", \"w\", encoding=\"utf-8\") as f:\n",
    "    json.dump(prep, f, ensure_ascii=False, indent=4)\n",
    "\n",
    "#ler arquivo\n",
    "with open(\"../model_artefacts/missing_plan.json\", \"r\", encoding=\"utf-8\") as f:\n",
    "    prep = json.load(f)\n",
    "\n",
    "\n",
    "train_tratado = apply_missing_prep(train_selecionado, prep, copy=True)\n",
    "\n",
    "# Para o teste:\n",
    "# test_tratado = apply_missing_prep(test, prep, copy=True)\n"
   ]
  },
  {
   "cell_type": "code",
   "execution_count": 0,
   "metadata": {
    "application/vnd.databricks.v1+cell": {
     "cellMetadata": {
      "byteLimit": 2048000,
      "rowLimit": 10000
     },
     "inputWidgets": {},
     "nuid": "f197cf01-f8e4-4a12-8c8f-c9aa9a0603a4",
     "showTitle": false,
     "tableResultSettingsMap": {},
     "title": ""
    }
   },
   "outputs": [],
   "source": [
    "train_tratado.head()"
   ]
  },
  {
   "cell_type": "code",
   "execution_count": 0,
   "metadata": {
    "application/vnd.databricks.v1+cell": {
     "cellMetadata": {
      "byteLimit": 2048000,
      "rowLimit": 10000
     },
     "inputWidgets": {},
     "nuid": "02ca5cf4-67e9-488d-bc28-3dd415aaa579",
     "showTitle": false,
     "tableResultSettingsMap": {},
     "title": ""
    }
   },
   "outputs": [],
   "source": [
    "#As variáveis de oferta permaneceram, muito bom para a nossa estratégia de escoragem\n",
    "#variar as ofertas para o cliente e verificar maior probabilidade de conversao!\n",
    "variaveis_de_oferta = [\"offer_id\",\"offer_type\",\"discount_value\",\"min_value\",\"duration\",\"web\",\"email\",\"mobile\",\"social\"]\n",
    "resumo_missing(train_tratado).head(20)"
   ]
  },
  {
   "cell_type": "code",
   "execution_count": 0,
   "metadata": {
    "application/vnd.databricks.v1+cell": {
     "cellMetadata": {
      "byteLimit": 2048000,
      "rowLimit": 10000
     },
     "inputWidgets": {},
     "nuid": "52bab290-2d48-4067-9fca-40c04e58bf25",
     "showTitle": false,
     "tableResultSettingsMap": {},
     "title": ""
    }
   },
   "outputs": [],
   "source": [
    "# Dicionário de tipos\n",
    "dtypes_dict = {\n",
    "    \"ID\": \"object\",\n",
    "    \"target_sucesso\": \"int64\",\n",
    "    \"cliente_id\": \"object\",\n",
    "    \"offer_id\": \"object\",\n",
    "    \"time_since_test_start\": \"int64\",\n",
    "    \"idade\": \"float64\",\n",
    "    \"genero\": \"category\",\n",
    "    \"limite_credito\": \"float64\",\n",
    "    \"safra_registro\": \"category\",\n",
    "    \"historico_conversao\": \"float64\",\n",
    "    \"dias_desde_ultima_transacao\": \"float64\",\n",
    "    \"media_tempo_entre_transacoes\": \"float64\",\n",
    "    \"transacoes_distintas_dias\": \"float64\",\n",
    "    \"qtd_ofertas_anteriores\": \"float64\",\n",
    "    \"qtd_ofertas_visualizadas\": \"float64\",\n",
    "    \"qtd_ofertas_completas_validas\": \"int64\",\n",
    "    \"taxa_visualizacao\": \"float64\",\n",
    "    \"taxa_conversao\": \"float64\",\n",
    "    \"offer_type\": \"category\",\n",
    "    \"discount_value\": \"int64\",\n",
    "    \"min_value\": \"int64\",\n",
    "    \"duration\": \"int64\",\n",
    "    \"web\": \"category\",\n",
    "    \"email\": \"category\",\n",
    "    \"mobile\": \"category\",\n",
    "    \"social\": \"category\",\n",
    "    \"dias_desde_ultima_oferta_recebida\": \"float64\",\n",
    "    \"dias_desde_ultima_oferta_visualizada\": \"float64\",\n",
    "    \"qtd_transacoes_7d\": \"float64\",\n",
    "    \"qtd_transacoes_14d\": \"float64\",\n",
    "    \"qtd_ofertas_recebidas_14d\": \"float64\",\n",
    "    \"qtd_ofertas_visualizadas_14d\": \"float64\",\n",
    "    \"qtd_conversoes_validas_14d\": \"float64\",\n",
    "    \"canais_recebidos_total\": \"int64\",\n",
    "    \"recebeu_web\": \"category\",\n",
    "    \"recebeu_email\": \"category\",\n",
    "    \"recebeu_mobile\": \"category\",\n",
    "    \"recebeu_social\": \"category\",\n",
    "    \"canais_preferidos\": \"float64\",\n",
    "    \"email_ratio_historico\": \"float64\",\n",
    "    \"taxa_visualizacao_historica_tipo\": \"float64\",\n",
    "    \"taxa_conversao_historica_tipo\": \"float64\",\n",
    "    \"taxa_visualizacao_historica_oferta\": \"float64\",\n",
    "    \"taxa_conversao_historica_canal_social\": \"float64\",\n",
    "    \"afinidade_canais_conv\": \"float64\",\n",
    "    \"taxa_conversao_historica_bucket_duracao\": \"float64\",\n",
    "    \"taxa_conversao_historica_bucket_desconto\": \"float64\",\n",
    "    \"taxa_conversao_historica_bucket_minimo\": \"float64\",\n",
    "    \"n_instancias_anteriores_mesma_oferta\": \"int64\",\n",
    "    \"idade_missing\": \"int64\"\n",
    "}\n"
   ]
  },
  {
   "cell_type": "code",
   "execution_count": 0,
   "metadata": {
    "application/vnd.databricks.v1+cell": {
     "cellMetadata": {
      "byteLimit": 2048000,
      "rowLimit": 10000
     },
     "inputWidgets": {},
     "nuid": "227213ad-6765-4d52-96a2-d83c2352ceb5",
     "showTitle": false,
     "tableResultSettingsMap": {},
     "title": ""
    }
   },
   "outputs": [],
   "source": [
    "#Salvando o dicionario de tipos para usarmos posteriormente\n",
    "import json\n",
    "# Salvar\n",
    "with open(\"../model_artefacts/train_dtypes.json\", \"w\", encoding=\"utf-8\") as f:\n",
    "    json.dump(dtypes_dict, f, ensure_ascii=False, indent=4)"
   ]
  },
  {
   "cell_type": "code",
   "execution_count": 0,
   "metadata": {
    "application/vnd.databricks.v1+cell": {
     "cellMetadata": {
      "byteLimit": 2048000,
      "rowLimit": 10000
     },
     "inputWidgets": {},
     "nuid": "61e7a664-728a-4cb0-ad4c-093c3f2ca874",
     "showTitle": false,
     "tableResultSettingsMap": {},
     "title": ""
    }
   },
   "outputs": [],
   "source": [
    "# Carregar dicionario de tipos\n",
    "with open(\"../model_artefacts/train_dtypes.json\", \"r\", encoding=\"utf-8\") as f:\n",
    "    dtypes_dict = json.load(f)\n",
    "\n",
    "df = aplicar_dtypes(train_tratado, dtypes_dict)\n",
    "print(df.dtypes)"
   ]
  },
  {
   "cell_type": "markdown",
   "metadata": {
    "application/vnd.databricks.v1+cell": {
     "cellMetadata": {
      "byteLimit": 2048000,
      "rowLimit": 10000
     },
     "inputWidgets": {},
     "nuid": "e546c9ed-d38c-4455-b81b-8a7466f3f03d",
     "showTitle": false,
     "tableResultSettingsMap": {},
     "title": ""
    }
   },
   "source": [
    "####3.2 - Other treatments"
   ]
  },
  {
   "cell_type": "markdown",
   "metadata": {
    "application/vnd.databricks.v1+cell": {
     "cellMetadata": {
      "byteLimit": 2048000,
      "rowLimit": 10000
     },
     "inputWidgets": {},
     "nuid": "7ed65cd5-b999-4a27-85b7-f7befdd028ba",
     "showTitle": false,
     "tableResultSettingsMap": {},
     "title": ""
    }
   },
   "source": [
    "**Normalização**:<br>\n",
    "Alguns modelos são sensíveis a magnitude, das variáveis, <br>\n",
    "mas não é o caso do modelo de lightGBM que vamos treinar.<br>\n",
    "Deixar de normalizar mantém as variáveis, sendo mais fácil de interpretar.<br>\n",
    "\n",
    "**Outliers**:<br>\n",
    "O modelo também nao é sensível a outliers.<br>\n",
    "Os outliers proveniente de erros, foram observados em etapoas anteriores.<br>\n",
    "\n",
    "**One Hot Enconding**:<br>\n",
    "Sem necessidade, cria um monte de coluna desnecessária.<br>\n",
    "Nosso modelo agrupa estatisticamente as categorias (ordena pelo target e busca splits).<br> \n",
    "\n",
    "Agora podemos seguir em paz"
   ]
  },
  {
   "cell_type": "code",
   "execution_count": 0,
   "metadata": {
    "application/vnd.databricks.v1+cell": {
     "cellMetadata": {
      "byteLimit": 2048000,
      "rowLimit": 10000
     },
     "inputWidgets": {},
     "nuid": "b0269d69-ce04-4819-8843-3c153b67b09c",
     "showTitle": false,
     "tableResultSettingsMap": {},
     "title": ""
    }
   },
   "outputs": [],
   "source": [
    "#Salvando base treino_tratada\n",
    "#train_tratado.to_csv(\"../data/processed/train_tratado.csv\", sep=\",\",header=True,index=False)"
   ]
  },
  {
   "cell_type": "markdown",
   "metadata": {
    "application/vnd.databricks.v1+cell": {
     "cellMetadata": {
      "byteLimit": 2048000,
      "rowLimit": 10000
     },
     "inputWidgets": {},
     "nuid": "3ca5ca53-96fe-4724-83d1-232562f8a9c3",
     "showTitle": false,
     "tableResultSettingsMap": {},
     "title": ""
    }
   },
   "source": [
    "###4 - Variable Selection"
   ]
  },
  {
   "cell_type": "markdown",
   "metadata": {
    "application/vnd.databricks.v1+cell": {
     "cellMetadata": {},
     "inputWidgets": {},
     "nuid": "4d2dc1b0-7729-42b7-8a7d-7f141d08d874",
     "showTitle": false,
     "tableResultSettingsMap": {},
     "title": ""
    }
   },
   "source": [
    "Na verdade estamos selecionando variáveis desde nosso passo de EDA.<br>\n",
    "Mas aqui o foco é de fato nas variáveis que podem nos ajudar a prever o comportamento do cliente ao receber uma oferta."
   ]
  },
  {
   "cell_type": "markdown",
   "metadata": {
    "application/vnd.databricks.v1+cell": {
     "cellMetadata": {
      "byteLimit": 2048000,
      "rowLimit": 10000
     },
     "inputWidgets": {},
     "nuid": "dff0d048-1114-4e50-b540-ac901ff5c9b2",
     "showTitle": false,
     "tableResultSettingsMap": {},
     "title": ""
    }
   },
   "source": [
    "####4.1 - Recursive Feature Elimination (RFE)"
   ]
  },
  {
   "cell_type": "code",
   "execution_count": 0,
   "metadata": {
    "application/vnd.databricks.v1+cell": {
     "cellMetadata": {
      "byteLimit": 2048000,
      "rowLimit": 10000
     },
     "inputWidgets": {},
     "nuid": "3fc0632e-db2e-41cf-8e5b-cff08da63a73",
     "showTitle": false,
     "tableResultSettingsMap": {},
     "title": ""
    }
   },
   "outputs": [],
   "source": [
    "\n",
    "#Carregando base treino_tratada\n",
    "#Inferindo o schema\n",
    "train_tratado = pd.read_csv(\"../data/processed/train_tratado.csv\", sep=\",\")\n",
    "train_tratado = aplicar_dtypes(train_tratado, dtypes_dict)"
   ]
  },
  {
   "cell_type": "code",
   "execution_count": 0,
   "metadata": {
    "application/vnd.databricks.v1+cell": {
     "cellMetadata": {
      "byteLimit": 2048000,
      "rowLimit": 10000
     },
     "inputWidgets": {},
     "nuid": "bcafece4-7c58-463d-88a9-1c35eaef952f",
     "showTitle": false,
     "tableResultSettingsMap": {},
     "title": ""
    }
   },
   "outputs": [],
   "source": [
    "train_tratado.dtypes"
   ]
  },
  {
   "cell_type": "code",
   "execution_count": 0,
   "metadata": {
    "application/vnd.databricks.v1+cell": {
     "cellMetadata": {
      "byteLimit": 2048000,
      "rowLimit": 10000
     },
     "inputWidgets": {},
     "nuid": "363d8a12-0618-4775-aa27-f5fad9038580",
     "showTitle": false,
     "tableResultSettingsMap": {},
     "title": ""
    }
   },
   "outputs": [],
   "source": [
    "colunas_id = ['ID', 'cliente_id', 'offer_id', 'time_since_test_start']\n",
    "target = 'target_sucesso'\n",
    "\n",
    "resultados_df, figs = eliminacao_progressiva_por_importancia(\n",
    "    df, colunas_id, target,\n",
    "    min_features=5,   # pare quando restarem 5 variáveis\n",
    "    max_steps=None,   # ou limite por número de etapas, ex: 20\n",
    "    plot=True\n",
    ")\n"
   ]
  },
  {
   "cell_type": "code",
   "execution_count": 0,
   "metadata": {
    "application/vnd.databricks.v1+cell": {
     "cellMetadata": {
      "byteLimit": 2048000,
      "rowLimit": 10000
     },
     "inputWidgets": {},
     "nuid": "99eb3bb4-c6b5-457b-b8e1-32edf6a22a17",
     "showTitle": false,
     "tableResultSettingsMap": {},
     "title": ""
    }
   },
   "outputs": [],
   "source": [
    "#A Etapa número 9 é uma boa opçao para seguirmos,\n",
    "#Mantém a performance e diminui o tempo de treinamento\n",
    "pd.set_option('display.max_colwidth', 50)\n",
    "resultados_df"
   ]
  },
  {
   "cell_type": "code",
   "execution_count": 0,
   "metadata": {
    "application/vnd.databricks.v1+cell": {
     "cellMetadata": {
      "byteLimit": 2048000,
      "rowLimit": 10000
     },
     "inputWidgets": {},
     "nuid": "4ca2064d-3115-4b6b-86ff-fee5defed80f",
     "showTitle": false,
     "tableResultSettingsMap": {},
     "title": ""
    }
   },
   "outputs": [],
   "source": [
    "figs['gini']"
   ]
  },
  {
   "cell_type": "code",
   "execution_count": 0,
   "metadata": {
    "application/vnd.databricks.v1+cell": {
     "cellMetadata": {
      "byteLimit": 2048000,
      "rowLimit": 10000
     },
     "inputWidgets": {},
     "nuid": "54c6e2ae-32e8-461b-a262-d88e9d5d2d40",
     "showTitle": false,
     "tableResultSettingsMap": {},
     "title": ""
    }
   },
   "outputs": [],
   "source": [
    "figs['ks']"
   ]
  },
  {
   "cell_type": "markdown",
   "metadata": {
    "application/vnd.databricks.v1+cell": {
     "cellMetadata": {},
     "inputWidgets": {},
     "nuid": "b3ecc773-5e97-474a-a50a-07fcdbb1905b",
     "showTitle": false,
     "tableResultSettingsMap": {},
     "title": ""
    }
   },
   "source": [
    "###5 - Model Train"
   ]
  },
  {
   "cell_type": "markdown",
   "metadata": {
    "application/vnd.databricks.v1+cell": {
     "cellMetadata": {},
     "inputWidgets": {},
     "nuid": "92d0b055-84a1-46d0-9707-ec7d7489bafa",
     "showTitle": false,
     "tableResultSettingsMap": {},
     "title": ""
    }
   },
   "source": [
    "####5.1 - Grid Search"
   ]
  },
  {
   "cell_type": "code",
   "execution_count": 0,
   "metadata": {
    "application/vnd.databricks.v1+cell": {
     "cellMetadata": {
      "byteLimit": 2048000,
      "rowLimit": 10000
     },
     "inputWidgets": {},
     "nuid": "b9b5c8ad-0960-4884-8b47-2db1fb61b08a",
     "showTitle": false,
     "tableResultSettingsMap": {},
     "title": ""
    }
   },
   "outputs": [],
   "source": [
    "#Agora que já tratamos o dado e selecionamos as variáveis, vamos fazer uma modelagem mais robusta,\n",
    "#GridSearch para procurar os melhores hiperparâmetros para nosso modelo\n",
    "#Vamos procurar recursivamente para diversos experimentos possíveis:\n",
    "param_grid = {\n",
    "        # taxa de aprendizado: menor -> mais árvores, maior estabilidade; maior -> converge rápido, risco overfit\n",
    "        'learning_rate': [0.01, 0.05, 0.1],\n",
    "        # controle do tamanho das folhas: mais folhas capturam interações complexas, mas podem overfit\n",
    "        'num_leaves': [30, 63, 127],\n",
    "        # profundidade máxima: -1 = ilimitado; valores moderados ajudam a regularizar\n",
    "        'max_depth': [3, 6, 8, 10],\n",
    "        # amostra mínima por folha: maior -> mais suave/regularizado\n",
    "        'min_child_samples': [20, 50, 100],\n",
    "        # amostragem de linhas por árvore (bagging): <1 ajuda a reduzir variância\n",
    "        'subsample': [0.7, 0.9, 1.0],\n",
    "        # amostragem de colunas por árvore: <1 ajuda a reduzir correlação entre árvores\n",
    "        'colsample_bytree': [0.7, 0.9, 1.0],\n",
    "        # L1 e L2, penalizações que ajudam a controlar complexidade\n",
    "        'reg_alpha': [0.0, 0.1, 0.5],\n",
    "        'reg_lambda': [0.0, 0.1, 0.5],\n",
    "        # ganho mínimo para dividir (split) — aumenta a exigência para criar novas folhas\n",
    "        'min_split_gain': [0.0, 0.1]\n",
    "    }"
   ]
  },
  {
   "cell_type": "code",
   "execution_count": 0,
   "metadata": {
    "application/vnd.databricks.v1+cell": {
     "cellMetadata": {
      "byteLimit": 2048000,
      "rowLimit": 10000
     },
     "inputWidgets": {},
     "nuid": "f273b2ad-3202-4dbd-99d6-f84fc9ce4d9c",
     "showTitle": false,
     "tableResultSettingsMap": {},
     "title": ""
    }
   },
   "outputs": [],
   "source": [
    "#Vamos carregar nossa base de dados novamente, para nao dependermos de rodar o notebook todo.\n",
    "# Carregar dicionario de tipos\n",
    "with open(\"../model_artefacts/train_dtypes.json\", \"r\", encoding=\"utf-8\") as f:\n",
    "    dtypes_dict = json.load(f)\n",
    "\n",
    "train_tratado = pd.read_csv(\"../data/processed/train_tratado.csv\", sep=\",\")\n",
    "train_tratado = aplicar_dtypes(train_tratado, dtypes_dict)"
   ]
  },
  {
   "cell_type": "code",
   "execution_count": 0,
   "metadata": {
    "application/vnd.databricks.v1+cell": {
     "cellMetadata": {
      "byteLimit": 2048000,
      "rowLimit": 10000
     },
     "inputWidgets": {},
     "nuid": "c329f726-0293-4db4-9157-2ab902ae1e79",
     "showTitle": false,
     "tableResultSettingsMap": {},
     "title": ""
    }
   },
   "outputs": [],
   "source": [
    "explicativas_selecionadas = resultados_df.iloc[9].tolist()[4]\n",
    "explicativas_selecionadas"
   ]
  },
  {
   "cell_type": "code",
   "execution_count": 0,
   "metadata": {
    "application/vnd.databricks.v1+cell": {
     "cellMetadata": {
      "byteLimit": 2048000,
      "rowLimit": 10000
     },
     "inputWidgets": {},
     "nuid": "6d8c71cf-6aa8-452a-8736-77a93fd55e37",
     "showTitle": false,
     "tableResultSettingsMap": {},
     "title": ""
    }
   },
   "outputs": [],
   "source": [
    "explicativas_selecionadas = ['idade',\n",
    " 'genero',\n",
    " 'limite_credito',\n",
    " 'safra_registro',\n",
    " 'historico_conversao',\n",
    " 'dias_desde_ultima_transacao',\n",
    " 'media_tempo_entre_transacoes',\n",
    " 'transacoes_distintas_dias',\n",
    " 'qtd_ofertas_anteriores',\n",
    " 'qtd_ofertas_visualizadas',\n",
    " 'qtd_ofertas_completas_validas',\n",
    " 'taxa_visualizacao',\n",
    " 'taxa_conversao',\n",
    " 'offer_type',\n",
    " 'discount_value',\n",
    " 'min_value',\n",
    " 'duration',\n",
    " 'social',\n",
    " 'dias_desde_ultima_oferta_recebida',\n",
    " 'dias_desde_ultima_oferta_visualizada',\n",
    " 'qtd_transacoes_7d',\n",
    " 'qtd_transacoes_14d',\n",
    " 'qtd_ofertas_recebidas_14d',\n",
    " 'qtd_ofertas_visualizadas_14d',\n",
    " 'qtd_conversoes_validas_14d',\n",
    " 'canais_recebidos_total',\n",
    " 'email_ratio_historico',\n",
    " 'taxa_visualizacao_historica_tipo',\n",
    " 'taxa_conversao_historica_tipo',\n",
    " 'taxa_visualizacao_historica_oferta',\n",
    " 'taxa_conversao_historica_canal_social',\n",
    " 'afinidade_canais_conv',\n",
    " 'taxa_conversao_historica_bucket_duracao',\n",
    " 'taxa_conversao_historica_bucket_desconto',\n",
    " 'taxa_conversao_historica_bucket_minimo',\n",
    " 'n_instancias_anteriores_mesma_oferta']"
   ]
  },
  {
   "cell_type": "code",
   "execution_count": 0,
   "metadata": {
    "application/vnd.databricks.v1+cell": {
     "cellMetadata": {
      "byteLimit": 2048000,
      "rowLimit": 10000
     },
     "inputWidgets": {},
     "nuid": "8841ea95-2e24-47bb-99b6-0ab2ed5e50de",
     "showTitle": false,
     "tableResultSettingsMap": {},
     "title": ""
    }
   },
   "outputs": [],
   "source": [
    "train_tratado = train_tratado[['ID', 'offer_id', 'cliente_id','time_since_test_start']+[target]+explicativas_selecionadas]"
   ]
  },
  {
   "cell_type": "code",
   "execution_count": 0,
   "metadata": {
    "application/vnd.databricks.v1+cell": {
     "cellMetadata": {
      "byteLimit": 2048000,
      "rowLimit": 10000
     },
     "inputWidgets": {},
     "nuid": "0318b201-1487-4995-80af-f861590eceb3",
     "showTitle": false,
     "tableResultSettingsMap": {},
     "title": ""
    }
   },
   "outputs": [],
   "source": [
    "train_tratado.head()"
   ]
  },
  {
   "cell_type": "code",
   "execution_count": 0,
   "metadata": {
    "application/vnd.databricks.v1+cell": {
     "cellMetadata": {
      "byteLimit": 2048000,
      "rowLimit": 10000
     },
     "inputWidgets": {},
     "nuid": "9fa2b884-d612-4f45-b8f5-681fdcf11bc1",
     "showTitle": false,
     "tableResultSettingsMap": {},
     "title": ""
    }
   },
   "outputs": [],
   "source": [
    "variaveis_de_oferta = [\"offer_id\",\"offer_type\",\"discount_value\",\"min_value\",\"duration\",\"web\",\"email\",\"mobile\",\"social\"]"
   ]
  },
  {
   "cell_type": "code",
   "execution_count": 0,
   "metadata": {
    "application/vnd.databricks.v1+cell": {
     "cellMetadata": {
      "byteLimit": 2048000,
      "rowLimit": 10000
     },
     "inputWidgets": {},
     "nuid": "bca34c1d-3fe0-4229-8436-175f8e57f543",
     "showTitle": false,
     "tableResultSettingsMap": {},
     "title": ""
    }
   },
   "outputs": [],
   "source": [
    "#verificando se todas as variáveis de ofertas sobreviveram\n",
    "[x for x in variaveis_de_oferta if x not in train_tratado.columns]"
   ]
  },
  {
   "cell_type": "code",
   "execution_count": 0,
   "metadata": {
    "application/vnd.databricks.v1+cell": {
     "cellMetadata": {
      "byteLimit": 2048000,
      "rowLimit": 10000
     },
     "inputWidgets": {},
     "nuid": "50b38dfa-1b54-4e8f-90bb-8532b7581c2b",
     "showTitle": false,
     "tableResultSettingsMap": {},
     "title": ""
    }
   },
   "outputs": [],
   "source": [
    "best_params, historico = grid_search_inteligente_lgbm_gini(\n",
    "    df=train_tratado.drop([\"ID\",\"offer_id\",\"cliente_id\",\"time_since_test_start\"], axis=1),\n",
    "    target='target_sucesso',   # troque pelo nome do seu alvo\n",
    "    categorical_cols=None,     # ou passe a lista, ex.: ['genero','offer_type',...]\n",
    "    cv_splits=5,\n",
    "    early_stopping_rounds=100,\n",
    "    max_combinations=60,\n",
    "    random_state=42,\n",
    "    verbose=1\n",
    ")\n"
   ]
  },
  {
   "cell_type": "code",
   "execution_count": 0,
   "metadata": {
    "application/vnd.databricks.v1+cell": {
     "cellMetadata": {
      "byteLimit": 2048000,
      "rowLimit": 10000
     },
     "inputWidgets": {},
     "nuid": "762ef9d8-496d-4341-9680-613f74396adc",
     "showTitle": false,
     "tableResultSettingsMap": {},
     "title": ""
    }
   },
   "outputs": [],
   "source": [
    "print(historico.head(10))\n",
    "print(\"\\nBest params:\\n\", best_params)"
   ]
  },
  {
   "cell_type": "code",
   "execution_count": 0,
   "metadata": {
    "application/vnd.databricks.v1+cell": {
     "cellMetadata": {
      "byteLimit": 2048000,
      "rowLimit": 10000
     },
     "inputWidgets": {},
     "nuid": "10ae7068-6a70-4474-82b1-528ff6dcb9db",
     "showTitle": false,
     "tableResultSettingsMap": {},
     "title": ""
    }
   },
   "outputs": [],
   "source": [
    "parametros_escolhidos = {'objective': 'binary', 'boosting_type': 'gbdt', 'random_state': 42, 'n_jobs': -1, 'learning_rate': 0.01, 'num_leaves': 63, 'max_depth': 5, 'min_child_samples': 20, 'subsample': 1.0, 'colsample_bytree': 0.9, 'reg_alpha': 0.5, 'reg_lambda': 0.1, 'min_split_gain': 0.0, 'n_estimators': 1340}"
   ]
  },
  {
   "cell_type": "code",
   "execution_count": 0,
   "metadata": {
    "application/vnd.databricks.v1+cell": {
     "cellMetadata": {
      "byteLimit": 2048000,
      "rowLimit": 10000
     },
     "inputWidgets": {},
     "nuid": "c0e9aef6-d370-482f-942a-29ec55fc63f4",
     "showTitle": false,
     "tableResultSettingsMap": {},
     "title": ""
    }
   },
   "outputs": [],
   "source": [
    "parametros_escolhidos"
   ]
  },
  {
   "cell_type": "markdown",
   "metadata": {
    "application/vnd.databricks.v1+cell": {
     "cellMetadata": {},
     "inputWidgets": {},
     "nuid": "d4ead349-e77a-4b29-b8e8-872d9b2efc2f",
     "showTitle": false,
     "tableResultSettingsMap": {},
     "title": ""
    }
   },
   "source": [
    "####5.2 - Final Model"
   ]
  },
  {
   "cell_type": "code",
   "execution_count": 0,
   "metadata": {
    "application/vnd.databricks.v1+cell": {
     "cellMetadata": {
      "byteLimit": 2048000,
      "rowLimit": 10000
     },
     "inputWidgets": {},
     "nuid": "0509ea84-abf8-4aa9-bfbb-ebc1947a7737",
     "showTitle": false,
     "tableResultSettingsMap": {},
     "title": ""
    }
   },
   "outputs": [],
   "source": [
    "id_cols = [\"ID\",\"offer_id\",\"cliente_id\",\"time_since_test_start\"]\n",
    "\n",
    "importance_df, train_escorado, modelo_pkl = treinar_e_salvar_modelo_lgbm(\n",
    "    parametros_escolhidos=parametros_escolhidos,\n",
    "    train_tratado=train_tratado,     # base ORIGINAL sem dropar\n",
    "    target='target_sucesso',\n",
    "    path='../model_artefacts/',\n",
    "    score_col='score_modelo',\n",
    "    id_cols=id_cols                  # <--- agora aqui!\n",
    ")"
   ]
  },
  {
   "cell_type": "code",
   "execution_count": 0,
   "metadata": {
    "application/vnd.databricks.v1+cell": {
     "cellMetadata": {
      "byteLimit": 2048000,
      "rowLimit": 10000
     },
     "inputWidgets": {},
     "nuid": "699071ca-9561-4790-8c6b-af8e3b39a07a",
     "showTitle": false,
     "tableResultSettingsMap": {},
     "title": ""
    }
   },
   "outputs": [],
   "source": [
    "train_escorado.head()"
   ]
  },
  {
   "cell_type": "code",
   "execution_count": 0,
   "metadata": {
    "application/vnd.databricks.v1+cell": {
     "cellMetadata": {
      "byteLimit": 2048000,
      "rowLimit": 10000
     },
     "inputWidgets": {},
     "nuid": "ab8b5067-5fc2-4874-b4da-823051d45836",
     "showTitle": false,
     "tableResultSettingsMap": {},
     "title": ""
    }
   },
   "outputs": [],
   "source": [
    "importance_df.head()"
   ]
  },
  {
   "cell_type": "code",
   "execution_count": 0,
   "metadata": {
    "application/vnd.databricks.v1+cell": {
     "cellMetadata": {
      "byteLimit": 2048000,
      "rowLimit": 10000
     },
     "inputWidgets": {},
     "nuid": "ff3dfdbf-7a65-44c5-8e9f-c1589de7eb6e",
     "showTitle": false,
     "tableResultSettingsMap": {},
     "title": ""
    }
   },
   "outputs": [],
   "source": [
    "train_escorado.head()"
   ]
  },
  {
   "cell_type": "code",
   "execution_count": 0,
   "metadata": {
    "application/vnd.databricks.v1+cell": {
     "cellMetadata": {
      "byteLimit": 2048000,
      "rowLimit": 10000
     },
     "inputWidgets": {},
     "nuid": "06a416ff-3201-40f3-990d-b4ccaf4963a7",
     "showTitle": false,
     "tableResultSettingsMap": {},
     "title": ""
    }
   },
   "outputs": [],
   "source": [
    "importance_df"
   ]
  },
  {
   "cell_type": "markdown",
   "metadata": {
    "application/vnd.databricks.v1+cell": {
     "cellMetadata": {},
     "inputWidgets": {},
     "nuid": "03e59d8b-5e12-4357-b222-0be65b20904b",
     "showTitle": false,
     "tableResultSettingsMap": {},
     "title": ""
    }
   },
   "source": [
    "###6 - Model Testing"
   ]
  },
  {
   "cell_type": "code",
   "execution_count": 0,
   "metadata": {
    "application/vnd.databricks.v1+cell": {
     "cellMetadata": {
      "byteLimit": 2048000,
      "rowLimit": 10000
     },
     "inputWidgets": {},
     "nuid": "40a75f1c-faf4-4f9a-ba2d-2d8ba10a52c4",
     "showTitle": false,
     "tableResultSettingsMap": {},
     "title": ""
    }
   },
   "outputs": [],
   "source": [
    "#Agora que já treinamos nosso modelo vamos escorar no dataset de Testes\n",
    "#Precisamos aplicar todas as transformaçoes feitas no treino"
   ]
  },
  {
   "cell_type": "code",
   "execution_count": 0,
   "metadata": {
    "application/vnd.databricks.v1+cell": {
     "cellMetadata": {
      "byteLimit": 2048000,
      "rowLimit": 10000
     },
     "inputWidgets": {},
     "nuid": "b44b5ac0-3c9c-485f-a954-edb9112b77a9",
     "showTitle": false,
     "tableResultSettingsMap": {},
     "title": ""
    }
   },
   "outputs": [],
   "source": [
    "#Ler base de testes\n",
    "teste_oos = pd.read_csv(\"../data/processed/test_oos.csv\", sep=\",\")\n",
    "teste_oos.shape\n",
    "\n",
    "#Adicionar a coluna idade_missing\n",
    "teste_oos[\"idade_missing\"] = teste_oos[\"idade\"].isna().astype(int)\n",
    "\n",
    "#resgatando colunas necessarias\n",
    "colunas = pd.read_csv(\"../data/processed/train_tratado.csv\", sep=\",\", nrows=0).columns\n",
    "teste_oos = teste_oos[colunas]\n",
    "\n",
    "#Resgatando os dtypes e Tipando a base de testes\n",
    "with open(\"../model_artefacts/train_dtypes.json\", \"r\", encoding=\"utf-8\") as f:\n",
    "    dtypes_dict = json.load(f)\n",
    "\n",
    "teste_oos_tratado = aplicar_dtypes(teste_oos, dtypes_dict)\n",
    "\n",
    "#Imputar os Missings\n",
    "#ler arquivo\n",
    "with open(\"../model_artefacts/missing_plan.json\", \"r\", encoding=\"utf-8\") as f:\n",
    "    prep = json.load(f)\n",
    "\n",
    "teste_oos_tratado = apply_missing_prep(teste_oos_tratado, prep, copy=True)\n"
   ]
  },
  {
   "cell_type": "code",
   "execution_count": 0,
   "metadata": {
    "application/vnd.databricks.v1+cell": {
     "cellMetadata": {
      "byteLimit": 2048000,
      "rowLimit": 10000
     },
     "inputWidgets": {},
     "nuid": "bbe4b421-f4f2-43d4-93a4-a6f43d52947f",
     "showTitle": false,
     "tableResultSettingsMap": {},
     "title": ""
    }
   },
   "outputs": [],
   "source": [
    "#Agora podemos escorar o conjunto de testes\n",
    "teste_escorado = aplicar_modelo_pkl(\n",
    "    df_teste=teste_oos_tratado,              # df apenas com explicativas\n",
    "    path='../model_artefacts/',\n",
    "    score_col='score_modelo'\n",
    ")"
   ]
  },
  {
   "cell_type": "code",
   "execution_count": 0,
   "metadata": {
    "application/vnd.databricks.v1+cell": {
     "cellMetadata": {
      "byteLimit": 2048000,
      "rowLimit": 10000
     },
     "inputWidgets": {},
     "nuid": "5ff0c8d5-0f4c-4fa5-b9b3-9adcb241be2b",
     "showTitle": false,
     "tableResultSettingsMap": {},
     "title": ""
    }
   },
   "outputs": [],
   "source": [
    "teste_escorado.head()"
   ]
  },
  {
   "cell_type": "code",
   "execution_count": 0,
   "metadata": {
    "application/vnd.databricks.v1+cell": {
     "cellMetadata": {
      "byteLimit": 2048000,
      "rowLimit": 10000
     },
     "inputWidgets": {},
     "nuid": "ff608482-e9ed-43e8-8edc-5f4029a54e1f",
     "showTitle": false,
     "tableResultSettingsMap": {},
     "title": ""
    }
   },
   "outputs": [],
   "source": [
    "teste_escorado.to_csv(\"../model_artefacts/teste_escorado.csv\",sep=\",\",index=False)"
   ]
  },
  {
   "cell_type": "markdown",
   "metadata": {
    "application/vnd.databricks.v1+cell": {
     "cellMetadata": {},
     "inputWidgets": {},
     "nuid": "00a9e2ce-e4e2-4f9e-b267-8e548c53723a",
     "showTitle": false,
     "tableResultSettingsMap": {},
     "title": ""
    }
   },
   "source": [
    "###7 - Model Evaluation"
   ]
  },
  {
   "cell_type": "markdown",
   "metadata": {
    "application/vnd.databricks.v1+cell": {
     "cellMetadata": {
      "byteLimit": 2048000,
      "rowLimit": 10000
     },
     "inputWidgets": {},
     "nuid": "228b1c40-8672-438b-bc0f-65fa04b21bb1",
     "showTitle": false,
     "tableResultSettingsMap": {},
     "title": ""
    }
   },
   "source": [
    "Vamos avaliar o modelo com algumas métricas para verificar se ele está performando bem:<br>\n",
    "\n",
    "**Acurácia**: “% que acertei no geral”<br>\n",
    "**Precisão**: “Quando digo que é positivo, acerto quantas vezes?”<br>\n",
    "**Recall**: “Entre todos os positivos, quantos consegui pegar?”<br>\n",
    "**F1**: “Equilíbrio entre precisão e recall”<br>\n",
    "**AUC / Gini**: “Quão bem separo as classes no geral”<br>\n",
    "**KS**:“Distância máxima entre as curvas de acerto e erro”"
   ]
  },
  {
   "cell_type": "code",
   "execution_count": 0,
   "metadata": {
    "application/vnd.databricks.v1+cell": {
     "cellMetadata": {
      "byteLimit": 2048000,
      "rowLimit": 10000
     },
     "inputWidgets": {},
     "nuid": "8debb40b-f650-4dff-854c-7676687792d3",
     "showTitle": false,
     "tableResultSettingsMap": {},
     "title": ""
    }
   },
   "outputs": [],
   "source": [
    "train_escorado.head()"
   ]
  },
  {
   "cell_type": "code",
   "execution_count": 0,
   "metadata": {
    "application/vnd.databricks.v1+cell": {
     "cellMetadata": {
      "byteLimit": 2048000,
      "rowLimit": 10000
     },
     "inputWidgets": {},
     "nuid": "c1b336e6-8874-450d-bfd0-e63bc572ab57",
     "showTitle": false,
     "tableResultSettingsMap": {},
     "title": ""
    }
   },
   "outputs": [],
   "source": [
    "#Ler as bases escoradas para iniciarmos a avaliaçao\n",
    "train_escorado = pd.read_csv(\"../model_artefacts/train_escorado.csv\",sep=\",\")\n",
    "teste_escorado = pd.read_csv(\"../model_artefacts/teste_escorado.csv\",sep=\",\")\n",
    "ids_ = [\"ID\",\"cliente_id\",\"offer_id\",\"time_since_test_start\"]\n",
    "target = \"target_sucesso\""
   ]
  },
  {
   "cell_type": "code",
   "execution_count": 0,
   "metadata": {
    "application/vnd.databricks.v1+cell": {
     "cellMetadata": {
      "byteLimit": 2048000,
      "rowLimit": 10000
     },
     "inputWidgets": {},
     "nuid": "fbcdae69-5526-4640-ba4f-1be5dd22e0c7",
     "showTitle": false,
     "tableResultSettingsMap": {},
     "title": ""
    }
   },
   "outputs": [],
   "source": [
    "metrics = avaliar_modelo_roc(\n",
    "    df_train=train_escorado,  # df com colunas score & target\n",
    "    df_test=teste_escorado,\n",
    "    score_col=\"score_modelo\",\n",
    "    target_col=\"target_sucesso\",\n",
    "    title=\"ROC - LGBM\"\n",
    ")"
   ]
  },
  {
   "cell_type": "code",
   "execution_count": 0,
   "metadata": {
    "application/vnd.databricks.v1+cell": {
     "cellMetadata": {
      "byteLimit": 2048000,
      "rowLimit": 10000
     },
     "inputWidgets": {},
     "nuid": "6be65e8e-4e69-4907-b31b-0daa701ea332",
     "showTitle": false,
     "tableResultSettingsMap": {},
     "title": ""
    }
   },
   "outputs": [],
   "source": [
    "info = plot_ks_prob_side_by_side(\n",
    "    df_train=train_escorado,\n",
    "    df_test=teste_escorado,\n",
    "    score_col=\"score_modelo\",\n",
    "    target_col=\"target_sucesso\",\n",
    "    title=\"KS por Probabilidade — LGBM\"\n",
    ")"
   ]
  },
  {
   "cell_type": "code",
   "execution_count": 0,
   "metadata": {
    "application/vnd.databricks.v1+cell": {
     "cellMetadata": {
      "byteLimit": 2048000,
      "rowLimit": 10000
     },
     "inputWidgets": {},
     "nuid": "d9575da8-1ab2-4517-a471-ac51ee2341e9",
     "showTitle": false,
     "tableResultSettingsMap": {},
     "title": ""
    }
   },
   "outputs": [],
   "source": [
    "# o KS é máximo quando a prob de conversao é 0.44\n",
    "#Entao vou utilizar esse corte para avaliar\n",
    "metricas = avaliar_por_limiar(\n",
    "    df_train=train_escorado,\n",
    "    df_test=teste_escorado,\n",
    "    score_col=\"score_modelo\",\n",
    "    target_col=\"target_sucesso\",\n",
    "    limiar=0.44\n",
    ")\n"
   ]
  },
  {
   "cell_type": "code",
   "execution_count": 0,
   "metadata": {
    "application/vnd.databricks.v1+cell": {
     "cellMetadata": {
      "byteLimit": 2048000,
      "rowLimit": 10000
     },
     "inputWidgets": {},
     "nuid": "88202b63-8531-4fab-8266-0b247eecbb00",
     "showTitle": false,
     "tableResultSettingsMap": {},
     "title": ""
    }
   },
   "outputs": [],
   "source": [
    "#Quando o modelo diz que é uma conversao, ele acerta 78%.\n",
    "#Entre todas as conversoes quantas o modelo acertou? 85%\n",
    "metricas"
   ]
  },
  {
   "cell_type": "code",
   "execution_count": 0,
   "metadata": {
    "application/vnd.databricks.v1+cell": {
     "cellMetadata": {
      "byteLimit": 2048000,
      "rowLimit": 10000
     },
     "inputWidgets": {},
     "nuid": "f2793ff3-25e9-4462-86cf-1a74b610a985",
     "showTitle": false,
     "tableResultSettingsMap": {},
     "title": ""
    }
   },
   "outputs": [],
   "source": [
    "plot_confusion_from_metrics(metricas)"
   ]
  },
  {
   "cell_type": "code",
   "execution_count": 0,
   "metadata": {
    "application/vnd.databricks.v1+cell": {
     "cellMetadata": {
      "byteLimit": 2048000,
      "rowLimit": 10000
     },
     "inputWidgets": {},
     "nuid": "55deded1-7d54-401b-9256-eca960c20d6f",
     "showTitle": false,
     "tableResultSettingsMap": {},
     "title": ""
    }
   },
   "outputs": [],
   "source": [
    "#O modelo generaliza bem, pois as métricas de treino e teste são próximas.\n",
    "#Alta AUC e KS indicam ótima separação entre positivos e negativos.\n",
    "#O recall alto é importante para capturar o maior número de conversoes.\n",
    "#Precisão também está boa, evitando muitas predições erradas positivas.\n",
    "#Overfitting praticamente inexistente pois a performance caiu pouco de treino para teste.\n",
    "#Pode ser usado em produção com segurança."
   ]
  },
  {
   "cell_type": "code",
   "execution_count": 0,
   "metadata": {
    "application/vnd.databricks.v1+cell": {
     "cellMetadata": {},
     "inputWidgets": {},
     "nuid": "d5b4eb36-79d2-4f4a-9712-552312a588c6",
     "showTitle": false,
     "tableResultSettingsMap": {},
     "title": ""
    }
   },
   "outputs": [],
   "source": []
  },
  {
   "cell_type": "markdown",
   "metadata": {
    "application/vnd.databricks.v1+cell": {
     "cellMetadata": {},
     "inputWidgets": {},
     "nuid": "10f68fc9-01c2-4209-bf33-851d6a649b5f",
     "showTitle": false,
     "tableResultSettingsMap": {},
     "title": ""
    }
   },
   "source": [
    "###8 - Model Inference"
   ]
  },
  {
   "cell_type": "markdown",
   "metadata": {
    "application/vnd.databricks.v1+cell": {
     "cellMetadata": {},
     "inputWidgets": {},
     "nuid": "9d7533c7-ce35-4f14-b931-3ac1d45fe90f",
     "showTitle": false,
     "tableResultSettingsMap": {},
     "title": ""
    }
   },
   "source": [
    "####8.1 - Offer Recomendation"
   ]
  },
  {
   "cell_type": "markdown",
   "metadata": {
    "application/vnd.databricks.v1+cell": {
     "cellMetadata": {},
     "inputWidgets": {},
     "nuid": "a6faab27-56bb-4cc0-a931-6fb2db35702a",
     "showTitle": false,
     "tableResultSettingsMap": {},
     "title": ""
    }
   },
   "source": [
    "Vamos transformar o modelo (treinado na granularidade cliente‑oferta) em um motor de recomendação que,<br>\n",
    "na hora da escoragem, testa todas as opções de oferta para cada cliente e devolve uma tabela de **melhor oferta por cliente**<br>"
   ]
  },
  {
   "cell_type": "code",
   "execution_count": 0,
   "metadata": {
    "application/vnd.databricks.v1+cell": {
     "cellMetadata": {
      "byteLimit": 2048000,
      "rowLimit": 10000
     },
     "inputWidgets": {},
     "nuid": "cede8114-81f8-49c1-96ec-80fb7226f45a",
     "showTitle": false,
     "tableResultSettingsMap": {},
     "title": ""
    }
   },
   "outputs": [],
   "source": [
    "#Essas sao as informações que variam conforme a ofera\n",
    "variaveis_de_oferta = [\"offer_id\",\"offer_type\",\"discount_value\",\"min_value\",\"duration\",\"web\",\"email\",\"mobile\",\"social\"]"
   ]
  },
  {
   "cell_type": "code",
   "execution_count": 0,
   "metadata": {
    "application/vnd.databricks.v1+cell": {
     "cellMetadata": {
      "byteLimit": 2048000,
      "rowLimit": 10000
     },
     "inputWidgets": {},
     "nuid": "5ec7f1e4-227c-4015-9679-30f2653d9209",
     "showTitle": false,
     "tableResultSettingsMap": {},
     "title": ""
    }
   },
   "outputs": [],
   "source": [
    "offers = pd.read_csv(\"../data/processed/processed_offers.csv\",sep=',') "
   ]
  },
  {
   "cell_type": "code",
   "execution_count": 0,
   "metadata": {
    "application/vnd.databricks.v1+cell": {
     "cellMetadata": {
      "byteLimit": 2048000,
      "rowLimit": 10000
     },
     "inputWidgets": {},
     "nuid": "b3b2e95a-86ae-430f-831d-1ad1c8932be5",
     "showTitle": false,
     "tableResultSettingsMap": {},
     "title": ""
    }
   },
   "outputs": [],
   "source": [
    "#Essas sao as ofertas disponíveis\n",
    "offers"
   ]
  },
  {
   "cell_type": "code",
   "execution_count": 0,
   "metadata": {
    "application/vnd.databricks.v1+cell": {
     "cellMetadata": {
      "byteLimit": 2048000,
      "rowLimit": 10000
     },
     "inputWidgets": {},
     "nuid": "312b13f1-ed65-491e-86b8-9e5456a63d5e",
     "showTitle": false,
     "tableResultSettingsMap": {},
     "title": ""
    }
   },
   "outputs": [],
   "source": [
    "#Tratando a base de testes"
   ]
  },
  {
   "cell_type": "code",
   "execution_count": 0,
   "metadata": {
    "application/vnd.databricks.v1+cell": {
     "cellMetadata": {
      "byteLimit": 2048000,
      "rowLimit": 10000
     },
     "inputWidgets": {},
     "nuid": "8b312885-b2bf-47cd-9fe2-455f3b332656",
     "showTitle": false,
     "tableResultSettingsMap": {},
     "title": ""
    }
   },
   "outputs": [],
   "source": [
    "#Ler base de testes\n",
    "teste_oos = pd.read_csv(\"../data/processed/test_oos.csv\", sep=\",\")\n",
    "teste_oos.shape\n",
    "\n",
    "#Adicionar a coluna idade_missing\n",
    "teste_oos[\"idade_missing\"] = teste_oos[\"idade\"].isna().astype(int)\n",
    "\n",
    "#resgatando colunas necessarias\n",
    "colunas = pd.read_csv(\"../data/processed/train_tratado.csv\", sep=\",\", nrows=0).columns\n",
    "teste_oos = teste_oos[colunas]\n",
    "\n",
    "#Resgatando os dtypes e Tipando a base de testes\n",
    "with open(\"../model_artefacts/train_dtypes.json\", \"r\", encoding=\"utf-8\") as f:\n",
    "    dtypes_dict = json.load(f)\n",
    "\n",
    "teste_oos_tratado = aplicar_dtypes(teste_oos, dtypes_dict)\n",
    "\n",
    "#Imputar os Missings\n",
    "#ler arquivo\n",
    "with open(\"../model_artefacts/missing_plan.json\", \"r\", encoding=\"utf-8\") as f:\n",
    "    prep = json.load(f)\n",
    "\n",
    "teste_oos_tratado = apply_missing_prep(teste_oos_tratado, prep, copy=True)"
   ]
  },
  {
   "cell_type": "code",
   "execution_count": 0,
   "metadata": {
    "application/vnd.databricks.v1+cell": {
     "cellMetadata": {
      "byteLimit": 2048000,
      "rowLimit": 10000
     },
     "inputWidgets": {},
     "nuid": "eddba188-bbdd-4d95-a95f-6ef8c49a656e",
     "showTitle": false,
     "tableResultSettingsMap": {},
     "title": ""
    }
   },
   "outputs": [],
   "source": [
    "teste_oos_tratado.shape"
   ]
  },
  {
   "cell_type": "code",
   "execution_count": 0,
   "metadata": {
    "application/vnd.databricks.v1+cell": {
     "cellMetadata": {
      "byteLimit": 2048000,
      "rowLimit": 10000
     },
     "inputWidgets": {},
     "nuid": "2660ebe4-5406-4f54-9bf5-d84871038248",
     "showTitle": false,
     "tableResultSettingsMap": {},
     "title": ""
    }
   },
   "outputs": [],
   "source": [
    "teste_oos_tratado.head()"
   ]
  },
  {
   "cell_type": "code",
   "execution_count": 0,
   "metadata": {
    "application/vnd.databricks.v1+cell": {
     "cellMetadata": {
      "byteLimit": 2048000,
      "rowLimit": 10000
     },
     "inputWidgets": {},
     "nuid": "b05b53fb-886a-47bc-ad9d-d35eb8f70139",
     "showTitle": false,
     "tableResultSettingsMap": {},
     "title": ""
    }
   },
   "outputs": [],
   "source": [
    "import pandas as pd\n",
    "\n",
    "VARIAVEIS_DE_OFERTA = [\n",
    "    \"offer_id\",\"offer_type\",\"discount_value\",\"min_value\",\"duration\",\n",
    "    \"web\",\"email\",\"mobile\",\"social\"\n",
    "]\n",
    "\n",
    "def expandir_cenarios_ofertas(teste_oos_tratado: pd.DataFrame,\n",
    "                              df_ofertas: pd.DataFrame,\n",
    "                              variaveis_de_oferta=VARIAVEIS_DE_OFERTA,\n",
    "                              add_id_cenario: bool = True) -> pd.DataFrame:\n",
    "    \"\"\"\n",
    "    Para cada linha do teste, cria uma linha para cada oferta,\n",
    "    substituindo SOMENTE as variáveis de oferta.\n",
    "    Retorna um DF ~9x maior (cliente × oferta).\n",
    "    \"\"\"\n",
    "    base = teste_oos_tratado.copy()\n",
    "    ofertas = df_ofertas.copy()\n",
    "\n",
    "    # checagens\n",
    "    faltantes = [c for c in variaveis_de_oferta if c not in ofertas.columns]\n",
    "    if faltantes:\n",
    "        raise ValueError(f\"df_ofertas está sem colunas: {faltantes}\")\n",
    "\n",
    "    # ---- cross join seguro ----\n",
    "    try:\n",
    "        # pandas >= 1.2\n",
    "        cross = base.merge(ofertas, how=\"cross\", suffixes=(\"\", \"_of\"))\n",
    "    except TypeError:\n",
    "        # fallback: chave artificial __k SEM sufixar\n",
    "        base[\"__k\"] = 1\n",
    "        ofertas[\"__k\"] = 1\n",
    "        cross = base.merge(ofertas, on=\"__k\", how=\"inner\", suffixes=(\"\", \"_of\"))\n",
    "        cross.drop(columns=\"__k\", inplace=True)\n",
    "\n",
    "    # ---- substituir apenas variáveis de oferta pelas versões _of ----\n",
    "    # após o merge, as colunas que existem nos dois lados recebem sufixo \"_of\" no lado das ofertas\n",
    "    for c in variaveis_de_oferta:\n",
    "        c_of = f\"{c}_of\"\n",
    "        if c_of in cross.columns:\n",
    "            cross[c] = cross[c_of]\n",
    "            cross.drop(columns=[c_of], inplace=True)\n",
    "        # se não existe c_of, é porque não havia essa coluna no base e ela veio só do catálogo (ok)\n",
    "\n",
    "    # ---- ordem de colunas: manter as do teste primeiro ----\n",
    "    cols_orig = list(teste_oos_tratado.columns)\n",
    "    cols_final = [c for c in cols_orig if c in cross.columns] + [c for c in cross.columns if c not in cols_orig]\n",
    "\n",
    "    # ---- ID de cenário opcional ----\n",
    "    if add_id_cenario and (\"cliente_id\" in cross.columns) and (\"offer_id\" in cross.columns):\n",
    "        cross[\"ID_cenario\"] = cross[\"cliente_id\"].astype(str) + \"_\" + cross[\"offer_id\"].astype(str)\n",
    "        if \"ID_cenario\" not in cols_final:\n",
    "            cols_final.append(\"ID_cenario\")\n",
    "\n",
    "    cross = cross[cols_final].reset_index(drop=True)\n",
    "    return cross\n",
    "\n"
   ]
  },
  {
   "cell_type": "code",
   "execution_count": 0,
   "metadata": {
    "application/vnd.databricks.v1+cell": {
     "cellMetadata": {
      "byteLimit": 2048000,
      "rowLimit": 10000
     },
     "inputWidgets": {},
     "nuid": "4756a9aa-e613-4244-ae14-65ceca0a7ad1",
     "showTitle": false,
     "tableResultSettingsMap": {},
     "title": ""
    }
   },
   "outputs": [],
   "source": [
    "expanded_oos = expandir_cenarios_ofertas(\n",
    "    teste_oos_tratado=teste_oos_tratado,\n",
    "    df_ofertas=offers,\n",
    "    variaveis_de_oferta=VARIAVEIS_DE_OFERTA,\n",
    "    add_id_cenario=True\n",
    ")\n"
   ]
  },
  {
   "cell_type": "code",
   "execution_count": 0,
   "metadata": {
    "application/vnd.databricks.v1+cell": {
     "cellMetadata": {
      "byteLimit": 2048000,
      "rowLimit": 10000
     },
     "inputWidgets": {},
     "nuid": "a6699bc7-0628-4e78-8be6-524c136b14d3",
     "showTitle": false,
     "tableResultSettingsMap": {},
     "title": ""
    }
   },
   "outputs": [],
   "source": [
    "expanded_oos.head(10)"
   ]
  },
  {
   "cell_type": "code",
   "execution_count": 0,
   "metadata": {
    "application/vnd.databricks.v1+cell": {
     "cellMetadata": {
      "byteLimit": 2048000,
      "rowLimit": 10000
     },
     "inputWidgets": {},
     "nuid": "3a8c4367-e660-4a49-85eb-31f6414a86d1",
     "showTitle": false,
     "tableResultSettingsMap": {},
     "title": ""
    }
   },
   "outputs": [],
   "source": [
    "expanded_oos.shape"
   ]
  },
  {
   "cell_type": "code",
   "execution_count": 0,
   "metadata": {
    "application/vnd.databricks.v1+cell": {
     "cellMetadata": {
      "byteLimit": 2048000,
      "rowLimit": 10000
     },
     "inputWidgets": {},
     "nuid": "677c3d08-53da-4a9b-908e-f517308f2d20",
     "showTitle": false,
     "tableResultSettingsMap": {},
     "title": ""
    }
   },
   "outputs": [],
   "source": [
    "#Agora podemos escorar o conjunto de testes\n",
    "expanded_oos_ = aplicar_modelo_pkl(\n",
    "    df_teste=expanded_oos[teste_oos_tratado.columns],              # df apenas com explicativas\n",
    "    path='../model_artefacts/',\n",
    "    score_col='score_modelo'\n",
    ")"
   ]
  },
  {
   "cell_type": "code",
   "execution_count": 0,
   "metadata": {
    "application/vnd.databricks.v1+cell": {
     "cellMetadata": {
      "byteLimit": 2048000,
      "rowLimit": 10000
     },
     "inputWidgets": {},
     "nuid": "1d9d4bfb-e10d-423f-87eb-4a4528e0e1eb",
     "showTitle": false,
     "tableResultSettingsMap": {},
     "title": ""
    }
   },
   "outputs": [],
   "source": [
    "expanded_oos_[[\"ID\",\"cliente_id\",\"offer_id\",\"score_modelo\",\"time_since_test_start\"]].head(10)"
   ]
  },
  {
   "cell_type": "code",
   "execution_count": 0,
   "metadata": {
    "application/vnd.databricks.v1+cell": {
     "cellMetadata": {},
     "inputWidgets": {},
     "nuid": "28c7f0c8-57bd-4b35-b839-6d319d1c1ead",
     "showTitle": false,
     "tableResultSettingsMap": {},
     "title": ""
    }
   },
   "outputs": [],
   "source": []
  },
  {
   "cell_type": "code",
   "execution_count": 0,
   "metadata": {
    "application/vnd.databricks.v1+cell": {
     "cellMetadata": {
      "byteLimit": 2048000,
      "rowLimit": 10000
     },
     "inputWidgets": {},
     "nuid": "6f73c967-757a-4384-943f-5081ad6c2170",
     "showTitle": false,
     "tableResultSettingsMap": {},
     "title": ""
    }
   },
   "outputs": [],
   "source": [
    "expanded_oos_.columns"
   ]
  },
  {
   "cell_type": "code",
   "execution_count": 0,
   "metadata": {
    "application/vnd.databricks.v1+cell": {
     "cellMetadata": {
      "byteLimit": 2048000,
      "rowLimit": 10000
     },
     "inputWidgets": {},
     "nuid": "d70dcd6c-51a1-4e56-89e6-d76588bd3639",
     "showTitle": false,
     "tableResultSettingsMap": {},
     "title": ""
    }
   },
   "outputs": [],
   "source": [
    "melhor_offer_por_cliente_time = expanded_oos_[['cliente_id', 'offer_id','score_modelo',\"time_since_test_start\"]].sort_values([\"cliente_id\",\"time_since_test_start\",\"score_modelo\"],ascending=[True,True,False])"
   ]
  },
  {
   "cell_type": "code",
   "execution_count": 0,
   "metadata": {
    "application/vnd.databricks.v1+cell": {
     "cellMetadata": {
      "byteLimit": 2048000,
      "rowLimit": 10000
     },
     "inputWidgets": {},
     "nuid": "7d49aaa1-4cb2-43a3-a736-9d78cf72c78a",
     "showTitle": false,
     "tableResultSettingsMap": {},
     "title": ""
    }
   },
   "outputs": [],
   "source": [
    "melhor_offer_por_cliente_time.head(10)\n"
   ]
  },
  {
   "cell_type": "code",
   "execution_count": 0,
   "metadata": {
    "application/vnd.databricks.v1+cell": {
     "cellMetadata": {
      "byteLimit": 2048000,
      "rowLimit": 10000
     },
     "inputWidgets": {},
     "nuid": "cbd85184-a9e0-4b28-9b15-a2ce555797cd",
     "showTitle": false,
     "tableResultSettingsMap": {},
     "title": ""
    }
   },
   "outputs": [],
   "source": [
    "melhor_offer_por_cliente_time_ = melhor_offer_por_cliente_time.loc[\n",
    "    melhor_offer_por_cliente_time.groupby(['cliente_id', 'time_since_test_start'])['score_modelo'].idxmax()\n",
    "]\n"
   ]
  },
  {
   "cell_type": "code",
   "execution_count": 0,
   "metadata": {
    "application/vnd.databricks.v1+cell": {
     "cellMetadata": {
      "byteLimit": 2048000,
      "rowLimit": 10000
     },
     "inputWidgets": {},
     "nuid": "7e531c7c-9e7d-47c9-9d9a-455afb3632f8",
     "showTitle": false,
     "tableResultSettingsMap": {},
     "title": ""
    }
   },
   "outputs": [],
   "source": [
    "melhor_offer_por_cliente_time_.head()"
   ]
  },
  {
   "cell_type": "code",
   "execution_count": 0,
   "metadata": {
    "application/vnd.databricks.v1+cell": {
     "cellMetadata": {
      "byteLimit": 2048000,
      "rowLimit": 10000
     },
     "inputWidgets": {},
     "nuid": "cc79d39e-35a1-430f-b1a8-db6921d53a88",
     "showTitle": false,
     "tableResultSettingsMap": {},
     "title": ""
    }
   },
   "outputs": [],
   "source": [
    "#Ranking das ofertas que mais sao consideradas \"melhores\"\n",
    "#A oferta aaa5 ficou em último, se parece muito com a c2a4 que é a mais votada, \n",
    "# isso faz com que o algoritmo priorize a oferta com maior duracao e com mais canais de midia!!\n",
    "melhor_offer_por_cliente_time_.value_counts(['offer_id']).reset_index(name='qtd').merge(offers,on=\"offer_id\",how=\"left\").sort_values(\"qtd\",ascending=False).head(10)\n"
   ]
  },
  {
   "cell_type": "code",
   "execution_count": 0,
   "metadata": {
    "application/vnd.databricks.v1+cell": {
     "cellMetadata": {
      "byteLimit": 2048000,
      "rowLimit": 10000
     },
     "inputWidgets": {},
     "nuid": "d549961f-da83-40ab-b3b6-fd3e79f93892",
     "showTitle": false,
     "tableResultSettingsMap": {},
     "title": ""
    }
   },
   "outputs": [],
   "source": [
    "melhor_offer_por_cliente_time.shape"
   ]
  },
  {
   "cell_type": "code",
   "execution_count": 0,
   "metadata": {
    "application/vnd.databricks.v1+cell": {
     "cellMetadata": {
      "byteLimit": 2048000,
      "rowLimit": 10000
     },
     "inputWidgets": {},
     "nuid": "284eee36-8e78-4f43-ae93-239954740fc4",
     "showTitle": false,
     "tableResultSettingsMap": {},
     "title": ""
    }
   },
   "outputs": [],
   "source": [
    "#Se tivéssemos escorado o cliente a77  no dia 7, a melhor oferta seria a 0b1e1539f2cc45b7b9fa7c272da2e1d7 com 75% de probabilidade de conversao\n",
    "#E assim por diante!\n",
    "#Note que conforme o tempo passa, a probabilidade diminui, mas a melhor oferta ainda se mantém\n",
    "melhor_offer_por_cliente_time_.head(10)"
   ]
  },
  {
   "cell_type": "code",
   "execution_count": 0,
   "metadata": {
    "application/vnd.databricks.v1+cell": {
     "cellMetadata": {
      "byteLimit": 2048000,
      "rowLimit": 10000
     },
     "inputWidgets": {},
     "nuid": "d26b00b2-7f83-40c3-82dc-51533e759c66",
     "showTitle": false,
     "tableResultSettingsMap": {},
     "title": ""
    }
   },
   "outputs": [],
   "source": [
    "#Note que neste cenário o cliente pode mudar de \"melhor oferta\" ao longo do tempo\n",
    "#O cliente 26d tem 4 ofertas diferentes possiveis dependendo do momento da campanha!\n",
    "melhor_offer_por_cliente_time_.groupby(\"cliente_id\")[\"offer_id\"].nunique().reset_index().sort_values(\"offer_id\",ascending=False).head(5)\n"
   ]
  },
  {
   "cell_type": "code",
   "execution_count": 0,
   "metadata": {
    "application/vnd.databricks.v1+cell": {
     "cellMetadata": {
      "byteLimit": 2048000,
      "rowLimit": 10000
     },
     "inputWidgets": {},
     "nuid": "5f2f799d-84e2-4ffd-b9bb-2a18869fda0f",
     "showTitle": false,
     "tableResultSettingsMap": {},
     "title": ""
    }
   },
   "outputs": [],
   "source": [
    "#Olhando amis de perto podemos ver que a oferta muda de acordo com o comportamento histórico do cliente ao longo do tempo\n",
    "#Quanto mais o tempo passa mais conhecemos o comportamento do cliente!!\n",
    "melhor_offer_por_cliente_time_[melhor_offer_por_cliente_time_[\"cliente_id\"]==\"f025969500b04e45803332ad0937a26d\"]"
   ]
  },
  {
   "cell_type": "code",
   "execution_count": 0,
   "metadata": {
    "application/vnd.databricks.v1+cell": {
     "cellMetadata": {
      "byteLimit": 2048000,
      "rowLimit": 10000
     },
     "inputWidgets": {},
     "nuid": "57ccd2b8-8b06-4dec-9b5b-67d17b20c66a",
     "showTitle": false,
     "tableResultSettingsMap": {},
     "title": ""
    }
   },
   "outputs": [],
   "source": [
    "#Agora vamos comparar a base com as ofertas originais, com as ofertas propostas em cada\n",
    "teste_escorado = pd.read_csv(\"../model_artefacts/teste_escorado.csv\",sep=\",\")\n"
   ]
  },
  {
   "cell_type": "code",
   "execution_count": 0,
   "metadata": {
    "application/vnd.databricks.v1+cell": {
     "cellMetadata": {
      "byteLimit": 2048000,
      "rowLimit": 10000
     },
     "inputWidgets": {},
     "nuid": "598f154a-6021-48f7-8234-1c6f07fc52a2",
     "showTitle": false,
     "tableResultSettingsMap": {},
     "title": ""
    }
   },
   "outputs": [],
   "source": [
    "teste_escorado.head()"
   ]
  },
  {
   "cell_type": "code",
   "execution_count": 0,
   "metadata": {
    "application/vnd.databricks.v1+cell": {
     "cellMetadata": {
      "byteLimit": 2048000,
      "rowLimit": 10000
     },
     "inputWidgets": {},
     "nuid": "b0eb9e02-be42-497c-ad71-762a7a626099",
     "showTitle": false,
     "tableResultSettingsMap": {},
     "title": ""
    }
   },
   "outputs": [],
   "source": [
    "#Se tivéssemos escorado o cliente a77 no dia 7, a melhor oferta seria a 0b1e1539f2cc45b7b9fa7c272da2e1d7\n",
    "melhor_offer_por_cliente_time_.head()"
   ]
  },
  {
   "cell_type": "code",
   "execution_count": 0,
   "metadata": {
    "application/vnd.databricks.v1+cell": {
     "cellMetadata": {
      "byteLimit": 2048000,
      "rowLimit": 10000
     },
     "inputWidgets": {},
     "nuid": "c26ba733-6bcd-4dfc-aef4-873f33399df3",
     "showTitle": false,
     "tableResultSettingsMap": {},
     "title": ""
    }
   },
   "outputs": [],
   "source": [
    "\n",
    "comparar_ofertas = teste_escorado.merge(\n",
    "    melhor_offer_por_cliente_time_,\n",
    "    on=[\"cliente_id\", \"time_since_test_start\"],\n",
    "    how=\"left\"\n",
    ")"
   ]
  },
  {
   "cell_type": "code",
   "execution_count": 0,
   "metadata": {
    "application/vnd.databricks.v1+cell": {
     "cellMetadata": {
      "byteLimit": 2048000,
      "rowLimit": 10000
     },
     "inputWidgets": {},
     "nuid": "a8aff1e4-e883-428b-bc59-f572e9b784b9",
     "showTitle": false,
     "tableResultSettingsMap": {},
     "title": ""
    }
   },
   "outputs": [],
   "source": [
    "comparar_ofertas.shape"
   ]
  },
  {
   "cell_type": "code",
   "execution_count": 0,
   "metadata": {
    "application/vnd.databricks.v1+cell": {
     "cellMetadata": {
      "byteLimit": 2048000,
      "rowLimit": 10000
     },
     "inputWidgets": {},
     "nuid": "eee1a226-054f-4e7e-ae4d-d0bb2b49ff5d",
     "showTitle": false,
     "tableResultSettingsMap": {},
     "title": ""
    }
   },
   "outputs": [],
   "source": [
    "comparar_ofertas.head()"
   ]
  },
  {
   "cell_type": "code",
   "execution_count": 0,
   "metadata": {
    "application/vnd.databricks.v1+cell": {
     "cellMetadata": {
      "byteLimit": 2048000,
      "rowLimit": 10000
     },
     "inputWidgets": {},
     "nuid": "290b61bb-818f-403f-b008-1607bd03917a",
     "showTitle": false,
     "tableResultSettingsMap": {},
     "title": ""
    }
   },
   "outputs": [],
   "source": [
    "comparar_ofertas_ = comparar_ofertas[[\"offer_id_x\",\"score_modelo_x\",\"offer_id_y\",\"score_modelo_y\",\"target_sucesso\",\"time_since_test_start\"]]\n",
    "comparar_ofertas_ = comparar_ofertas_.rename(columns={\"offer_id_x\":\"offer_id_original\",\"score_modelo_x\":\"score_modelo_original\",\"offer_id_y\":\"offer_id_proposta\",\"score_modelo_y\":\"score_modelo_proposta\",\"target_sucesso\":\"target_sucesso_real\"})\n",
    "\n"
   ]
  },
  {
   "cell_type": "code",
   "execution_count": 0,
   "metadata": {
    "application/vnd.databricks.v1+cell": {
     "cellMetadata": {
      "byteLimit": 2048000,
      "rowLimit": 10000
     },
     "inputWidgets": {},
     "nuid": "f71cc5b6-6763-4553-bdf2-fed245b87333",
     "showTitle": false,
     "tableResultSettingsMap": {},
     "title": ""
    }
   },
   "outputs": [],
   "source": [
    "#Agora vamos tentar medir o impacto do modelo, caso outras decisoes fossem tomadas no momento da oferta\n",
    "comparar_ofertas_"
   ]
  },
  {
   "cell_type": "code",
   "execution_count": 0,
   "metadata": {
    "application/vnd.databricks.v1+cell": {
     "cellMetadata": {
      "byteLimit": 2048000,
      "rowLimit": 10000
     },
     "inputWidgets": {},
     "nuid": "65cccc95-be59-41b3-ade3-7f8cf7098c0a",
     "showTitle": false,
     "tableResultSettingsMap": {},
     "title": ""
    }
   },
   "outputs": [],
   "source": [
    "#nao sabemos se a oferta proposta n seria aceita, devemos focar nos casos onde\n",
    "#a oferta X nao foi aceita porem o modelo teria ofertado a Y (com maior probabilidade)\n",
    "propostas_nao_convertidas = comparar_ofertas_[(comparar_ofertas_[\"target_sucesso_real\"] == 0) &\n",
    "                (comparar_ofertas_[\"offer_id_proposta\"] != comparar_ofertas_[\"offer_id_original\"])]"
   ]
  },
  {
   "cell_type": "code",
   "execution_count": 0,
   "metadata": {
    "application/vnd.databricks.v1+cell": {
     "cellMetadata": {
      "byteLimit": 2048000,
      "rowLimit": 10000
     },
     "inputWidgets": {},
     "nuid": "62136134-ef2b-4bdc-8a4d-fbf515f706f2",
     "showTitle": false,
     "tableResultSettingsMap": {},
     "title": ""
    }
   },
   "outputs": [],
   "source": [
    "#verificando propostas nao convertidas\n",
    "propostas_nao_convertidas.head()"
   ]
  },
  {
   "cell_type": "code",
   "execution_count": 0,
   "metadata": {
    "application/vnd.databricks.v1+cell": {
     "cellMetadata": {
      "byteLimit": 2048000,
      "rowLimit": 10000
     },
     "inputWidgets": {},
     "nuid": "2d9e331e-0ad6-4ea9-8e48-bc3c02b4c959",
     "showTitle": false,
     "tableResultSettingsMap": {},
     "title": ""
    }
   },
   "outputs": [],
   "source": [
    "#Alem disso precisamos definir o limiar de corte do score, \n",
    "#Consideramos o corte no KS max.Quando for acima de 0.44 consideramos uma possivel conversao!\n",
    "#Lembrando que a precisäo do modelo é 78% (quando ele diz que é uma conversao acerta 78% das vezes)\\\n",
    "\n",
    "propostas_nao_convertidas[\"target_sucesso_modelo\"] = [1 if x >= 0.44 else 0 for x in propostas_nao_convertidas[\"score_modelo_proposta\"]]\n"
   ]
  },
  {
   "cell_type": "code",
   "execution_count": 0,
   "metadata": {
    "application/vnd.databricks.v1+cell": {
     "cellMetadata": {
      "byteLimit": 2048000,
      "rowLimit": 10000
     },
     "inputWidgets": {},
     "nuid": "36dffe7d-0d0e-47f4-b3bf-1f75b3a02e61",
     "showTitle": false,
     "tableResultSettingsMap": {},
     "title": ""
    }
   },
   "outputs": [],
   "source": [
    "#A lógica aí vira uma estimativa potencial de recuperação de conversões perdidas.\n",
    "propostas_nao_convertidas.head()"
   ]
  },
  {
   "cell_type": "markdown",
   "metadata": {
    "application/vnd.databricks.v1+cell": {
     "cellMetadata": {},
     "inputWidgets": {},
     "nuid": "e591b928-7608-4b47-b590-013c8e2ac1fb",
     "showTitle": false,
     "tableResultSettingsMap": {},
     "title": ""
    }
   },
   "source": [
    "####8.2 - Final Results"
   ]
  },
  {
   "cell_type": "markdown",
   "metadata": {
    "application/vnd.databricks.v1+cell": {
     "cellMetadata": {},
     "inputWidgets": {},
     "nuid": "22f18ed9-2c7e-4147-a0bf-7e6746a51ea4",
     "showTitle": false,
     "tableResultSettingsMap": {},
     "title": ""
    }
   },
   "source": [
    "**Recapitulando**:\n",
    "\n",
    "1 - Escoramos o modelo para todo público de testes.<br>\n",
    "2 - Simulamos o cenário onde as 10 ofertas foram oferecidas para todos os clientes do teste em todas as campanhas.<br>\n",
    "3 - Selecionamos as ofertas simuladas com maior score.<br>\n",
    "4 - Tomamos todos os casos onde nâo obtivemos sucesso na conversão.<br>\n",
    "5 - Comparamos a oferta original com a oferta proposta.<br>\n",
    "6 - Agora vamos avaliar o ganho potencial da solução."
   ]
  },
  {
   "cell_type": "code",
   "execution_count": 0,
   "metadata": {
    "application/vnd.databricks.v1+cell": {
     "cellMetadata": {
      "byteLimit": 2048000,
      "rowLimit": 10000
     },
     "inputWidgets": {},
     "nuid": "25bc3ec4-796d-46b4-816b-77305247be97",
     "showTitle": false,
     "tableResultSettingsMap": {},
     "title": ""
    }
   },
   "outputs": [],
   "source": [
    "#Estamos avaliando 18987 ofertas no total\n",
    "comparar_ofertas_.shape"
   ]
  },
  {
   "cell_type": "code",
   "execution_count": 0,
   "metadata": {
    "application/vnd.databricks.v1+cell": {
     "cellMetadata": {
      "byteLimit": 2048000,
      "rowLimit": 10000
     },
     "inputWidgets": {},
     "nuid": "0caf57b8-ced3-4f23-af74-23e7caa4d35a",
     "showTitle": false,
     "tableResultSettingsMap": {},
     "title": ""
    }
   },
   "outputs": [],
   "source": [
    "comparar_ofertas_[\"target_sucesso_real\"].value_counts().reset_index()[\"count\"][0]"
   ]
  },
  {
   "cell_type": "code",
   "execution_count": 0,
   "metadata": {
    "application/vnd.databricks.v1+cell": {
     "cellMetadata": {
      "byteLimit": 2048000,
      "rowLimit": 10000
     },
     "inputWidgets": {},
     "nuid": "b21859c9-84b6-444a-98e8-eeec0e90cae0",
     "showTitle": false,
     "tableResultSettingsMap": {},
     "title": ""
    }
   },
   "outputs": [],
   "source": [
    "#Propostas não convertidas onde oferta proposta é diferente da proposta original\n",
    "analise_ganho = propostas_nao_convertidas[\"target_sucesso_modelo\"].value_counts().reset_index()"
   ]
  },
  {
   "cell_type": "code",
   "execution_count": 0,
   "metadata": {
    "application/vnd.databricks.v1+cell": {
     "cellMetadata": {
      "byteLimit": 2048000,
      "rowLimit": 10000
     },
     "inputWidgets": {},
     "nuid": "48928872-de78-4de6-b01d-9b7886ddb559",
     "showTitle": false,
     "tableResultSettingsMap": {},
     "title": ""
    }
   },
   "outputs": [],
   "source": [
    "#\n",
    "analise_ganho"
   ]
  },
  {
   "cell_type": "code",
   "execution_count": 0,
   "metadata": {
    "application/vnd.databricks.v1+cell": {
     "cellMetadata": {
      "byteLimit": 2048000,
      "rowLimit": 10000
     },
     "inputWidgets": {},
     "nuid": "768fd368-c8ce-4ae9-8926-d241b1a7f326",
     "showTitle": false,
     "tableResultSettingsMap": {},
     "title": ""
    }
   },
   "outputs": [],
   "source": [
    "total_casos_sem_conversao = comparar_ofertas_[\"target_sucesso_real\"].value_counts().reset_index()[\"count\"][0]\n",
    "total_casos_avaliados = analise_ganho['count'].sum()\n",
    "print(f\"Casos sem conversão: {total_casos_sem_conversao}\")\n",
    "print(f\"Casos avaliados: {total_casos_avaliados}\")\n",
    "print(f\"Casos convertidos_simulados: {analise_ganho['count'][1]}\")\n",
    "print(f\"Considerando a Precisao de 78%:\")\n",
    "casos_convertidos = int(round(analise_ganho['count'][1]*0.78,0))\n",
    "print(f\"Casos convertidos: {casos_convertidos}\")\n",
    "print(f\"Gerando uma 'Taxa de repescagem' de :{round(100*casos_convertidos/total_casos_sem_conversao,1)}% \")"
   ]
  },
  {
   "cell_type": "markdown",
   "metadata": {
    "application/vnd.databricks.v1+cell": {
     "cellMetadata": {},
     "inputWidgets": {},
     "nuid": "81553f97-d3f1-4f64-b9f0-3df78796d2a8",
     "showTitle": false,
     "tableResultSettingsMap": {},
     "title": ""
    }
   },
   "source": [
    "**Considerações Finais**\n",
    "\n",
    "**Premissas adotadas na simulação**:<br>\n",
    "O modelo foi treinado na granularidade cliente–oferta, prevendo a probabilidade de aceitação da oferta.<br>\n",
    "O ganho estimado (“taxa de repescagem” de 29,4%) considera casos sem conversão<br>\n",
    "onde o modelo indicaria outra oferta com maior probabilidade de aceitação.<br>\n",
    "\n",
    "Consideramos que clientes que receberam oferta “X” poderiam aceitar “Y” caso fosse recomendada.<br>\n",
    "Não avaliamos conversões sem oferta associada.<br>\n",
    "\n",
    "Assumimos que conversão = aceitação da oferta enviada.<br>\n",
    "\n",
    "**Limitações**:<br>\n",
    "O cliente pode ter realizado uma transação sem utilizar a oferta, mas isso não é capturado no target_sucesso.<br>\n",
    "Não medimos impacto direto no faturamento, apenas aumento potencial na aceitação de ofertas.<br>\n",
    "\n",
    "**O que seria necessário para medir impacto real**:<br>\n",
    "Taxa histórica de conversão espontânea (compras sem oferta).<br>\n",
    "Receita média por transação com e sem oferta.<br>\n",
    "Margem de contribuição por tipo de oferta.<br>\n",
    "Capacidade de simular cenários considerando baseline e efeito incremental da oferta.\n",
    "\n"
   ]
  },
  {
   "cell_type": "markdown",
   "metadata": {
    "application/vnd.databricks.v1+cell": {
     "cellMetadata": {},
     "inputWidgets": {},
     "nuid": "a1155ebf-78a4-41a9-8361-7900f2f1dc5c",
     "showTitle": false,
     "tableResultSettingsMap": {},
     "title": ""
    }
   },
   "source": []
  },
  {
   "cell_type": "code",
   "execution_count": 0,
   "metadata": {
    "application/vnd.databricks.v1+cell": {
     "cellMetadata": {},
     "inputWidgets": {},
     "nuid": "c7cd5d97-0e34-46e8-8e4f-ab9f6ebbada6",
     "showTitle": false,
     "tableResultSettingsMap": {},
     "title": ""
    }
   },
   "outputs": [],
   "source": []
  }
 ],
 "metadata": {
  "application/vnd.databricks.v1+notebook": {
   "computePreferences": {
    "hardware": {
     "accelerator": null,
     "gpuPoolId": null,
     "memory": null
    }
   },
   "dashboards": [],
   "environmentMetadata": {
    "base_environment": "",
    "environment_version": "2"
   },
   "inputWidgetPreferences": null,
   "language": "python",
   "notebookMetadata": {
    "pythonIndentUnit": 4
   },
   "notebookName": "2_modeling.ipynb",
   "widgets": {}
  },
  "language_info": {
   "name": "python"
  }
 },
 "nbformat": 4,
 "nbformat_minor": 0
}
