{
 "cells": [
  {
   "cell_type": "code",
   "execution_count": 0,
   "metadata": {
    "application/vnd.databricks.v1+cell": {
     "cellMetadata": {
      "byteLimit": 2048000,
      "rowLimit": 10000
     },
     "inputWidgets": {},
     "nuid": "079132b7-92d9-4552-83c0-0a8d970a22ad",
     "showTitle": false,
     "tableResultSettingsMap": {},
     "title": ""
    }
   },
   "outputs": [],
   "source": [
    "%load_ext autoreload\n",
    "%autoreload 2\n",
    "# Enables autoreload; learn more at https://docs.databricks.com/en/files/workspace-modules.html#autoreload-for-python-modules\n",
    "# To disable autoreload; run %autoreload 0"
   ]
  },
  {
   "cell_type": "code",
   "execution_count": 0,
   "metadata": {
    "application/vnd.databricks.v1+cell": {
     "cellMetadata": {
      "byteLimit": 2048000,
      "rowLimit": 10000
     },
     "inputWidgets": {},
     "nuid": "a9f3e4c8-0ad5-4add-9118-a73422e15ab7",
     "showTitle": false,
     "tableResultSettingsMap": {},
     "title": ""
    }
   },
   "outputs": [],
   "source": [
    "import pandas as pd\n",
    "import sys\n",
    "#%pip install --disable-pip-version-check pycaret\n",
    "sys.path.append(\"../src\")\n",
    "from funcoes import *\n",
    "from funcoes_ import *\n",
    "import matplotlib.pyplot as plt\n",
    "from sklearn.model_selection import train_test_split"
   ]
  },
  {
   "cell_type": "markdown",
   "metadata": {
    "application/vnd.databricks.v1+cell": {
     "cellMetadata": {
      "byteLimit": 2048000,
      "rowLimit": 10000
     },
     "inputWidgets": {},
     "nuid": "eef17580-93a2-477a-8f64-b3df22e321e9",
     "showTitle": false,
     "tableResultSettingsMap": {},
     "title": ""
    }
   },
   "source": [
    "###1- Train & Test"
   ]
  },
  {
   "cell_type": "markdown",
   "metadata": {
    "application/vnd.databricks.v1+cell": {
     "cellMetadata": {
      "byteLimit": 2048000,
      "rowLimit": 10000
     },
     "inputWidgets": {},
     "nuid": "574d1cb9-3295-4e73-bbfa-4cbd9cc0118d",
     "showTitle": false,
     "tableResultSettingsMap": {},
     "title": ""
    }
   },
   "source": [
    "####1.1 - General Checks"
   ]
  },
  {
   "cell_type": "code",
   "execution_count": 0,
   "metadata": {
    "application/vnd.databricks.v1+cell": {
     "cellMetadata": {
      "byteLimit": 2048000,
      "rowLimit": 10000
     },
     "inputWidgets": {},
     "nuid": "5a9dd806-3ee1-46c2-abcb-6714521ff335",
     "showTitle": false,
     "tableResultSettingsMap": {},
     "title": ""
    }
   },
   "outputs": [],
   "source": [
    "#Após recebermos uma base enriquecida precisamos dividir entre Treino e Teste, para evitar Data Leakage.\n",
    "#Data Leakage é uma falha que acontece durante os testes de um modelo de machine learning,\n",
    "#no qual informações são compartilhadas entre um conjunto de dados usado no treinamento\n",
    "#e outro conjunto de dados que é usado para validar essa modelagem, também chamado de dataset de testes.\n",
    "#"
   ]
  },
  {
   "cell_type": "code",
   "execution_count": 0,
   "metadata": {
    "application/vnd.databricks.v1+cell": {
     "cellMetadata": {
      "byteLimit": 2048000,
      "rowLimit": 10000
     },
     "inputWidgets": {},
     "nuid": "68469ce6-9128-40bb-b399-db062336330e",
     "showTitle": false,
     "tableResultSettingsMap": {},
     "title": ""
    }
   },
   "outputs": [],
   "source": [
    "base_modelagem = pd.read_csv(\"../data/processed/base_modelagem.csv\", sep=\",\")"
   ]
  },
  {
   "cell_type": "code",
   "execution_count": 0,
   "metadata": {
    "application/vnd.databricks.v1+cell": {
     "cellMetadata": {
      "byteLimit": 2048000,
      "rowLimit": 10000
     },
     "inputWidgets": {},
     "nuid": "24c73377-00fc-4779-a456-a5e9e66e6bc3",
     "showTitle": false,
     "tableResultSettingsMap": {},
     "title": ""
    }
   },
   "outputs": [],
   "source": [
    "base_modelagem.head()"
   ]
  },
  {
   "cell_type": "code",
   "execution_count": 0,
   "metadata": {
    "application/vnd.databricks.v1+cell": {
     "cellMetadata": {
      "byteLimit": 2048000,
      "rowLimit": 10000
     },
     "inputWidgets": {},
     "nuid": "ff3f3efb-0e7e-4186-a9a6-a14203278e56",
     "showTitle": false,
     "tableResultSettingsMap": {},
     "title": ""
    }
   },
   "outputs": [],
   "source": [
    "def perfil_base_conversao(\n",
    "    base_modelo: pd.DataFrame,\n",
    "    id_col: str,\n",
    "    target_col: str,\n",
    "    safra_col: str\n",
    ") -> dict:\n",
    "    \"\"\"\n",
    "    Calcula métricas básicas do perfil da base de dados focada em conversão.\n",
    "\n",
    "    Parâmetros:\n",
    "    - base_modelo (pd.DataFrame): DataFrame contendo os dados a serem analisados.\n",
    "    - id_col (str): Nome da coluna que representa o identificador único (ID).\n",
    "    - target_col (str): Nome da coluna que representa a variável alvo (1 = convertido, 0 = não convertido).\n",
    "    - safra_col (str): Nome da coluna que representa a safra.\n",
    "\n",
    "    Retorna:\n",
    "    - dict: Dicionário contendo:\n",
    "        - shape: Tupla com a quantidade de linhas e colunas.\n",
    "        - tipos_variaveis: Contagem dos tipos das variáveis.\n",
    "        - ids_unicos: Quantidade de IDs únicos.\n",
    "        - taxa_conversao: Taxa de conversão da base.\n",
    "        - volumetria_safras: Quantidade de registros por safra.\n",
    "    \"\"\"\n",
    "    perfil = {}\n",
    "\n",
    "    # 1. Shape da base\n",
    "    perfil['shape'] = f\"Essa base possui {base_modelo.shape[0]} linhas e {base_modelo.shape[1]} colunas\"\n",
    "\n",
    "    # 2. Tipos das variáveis\n",
    "    perfil['tipos_variaveis'] = base_modelo.dtypes.value_counts().to_dict()\n",
    "\n",
    "    # 3. IDs únicos\n",
    "    perfil['ids_unicos'] = base_modelo[id_col].nunique()\n",
    "\n",
    "    # 4. Taxa de conversão\n",
    "    if target_col in base_modelo.columns:\n",
    "        total_conversoes = base_modelo[target_col].value_counts().to_dict()\n",
    "\n",
    "        # Evitar KeyError se faltar alguma das classes\n",
    "        nao_convertidos = total_conversoes.get(0, 0)\n",
    "        convertidos = total_conversoes.get(1, 0)\n",
    "\n",
    "        taxa_conv = convertidos / (nao_convertidos + convertidos) if (nao_convertidos + convertidos) > 0 else 0\n",
    "\n",
    "        perfil['taxa_conversao'] = {\n",
    "            \"não_convertidos\": nao_convertidos,\n",
    "            \"convertidos\": convertidos,\n",
    "            \"taxa_percentual\": round(taxa_conv * 100, 2)\n",
    "        }\n",
    "    else:\n",
    "        perfil['taxa_conversao'] = \"Coluna alvo não encontrada.\"\n",
    "\n",
    "    # 5. Volumetria por safra\n",
    "    if safra_col in base_modelo.columns:\n",
    "        perfil['volumetria_safras'] = dict(\n",
    "            sorted(base_modelo[safra_col].value_counts().to_dict().items())\n",
    "        )\n",
    "    else:\n",
    "        perfil['volumetria_safras'] = \"Coluna safra não encontrada.\"\n",
    "\n",
    "    # Prints amigáveis\n",
    "    print(\"📊 Perfil da base de dados (Conversão)\")\n",
    "    print(f\"Shape da base: {perfil['shape']}\")\n",
    "    print(f\"Tipos de variáveis: {perfil['tipos_variaveis']}\")\n",
    "    print(f\"IDs únicos: {perfil['ids_unicos']}\")\n",
    "    if isinstance(perfil['taxa_conversao'], dict):\n",
    "        print(f\"Taxa de conversão: {perfil['taxa_conversao']['taxa_percentual']}% \"\n",
    "              f\"({perfil['taxa_conversao']['convertidos']} convertidos, \"\n",
    "              f\"{perfil['taxa_conversao']['não_convertidos']} não convertidos)\")\n",
    "    else:\n",
    "        print(f\"Taxa de conversão: {perfil['taxa_conversao']}\")\n",
    "    print(f\"Volumetria das safras: {perfil['volumetria_safras']}\")\n",
    "    print(\"\\n\")\n",
    "\n",
    "    return perfil\n"
   ]
  },
  {
   "cell_type": "code",
   "execution_count": 0,
   "metadata": {
    "application/vnd.databricks.v1+cell": {
     "cellMetadata": {
      "byteLimit": 2048000,
      "rowLimit": 10000
     },
     "inputWidgets": {},
     "nuid": "fe95b71f-1f00-453f-b230-0faa5bfb81da",
     "showTitle": false,
     "tableResultSettingsMap": {},
     "title": ""
    }
   },
   "outputs": [],
   "source": [
    "#A função perfil_base auxilia na verificação de métricas básicas da base de dados\n",
    "resultado = perfil_base_conversao(base_modelagem, id_col='ID', target_col='target_sucesso', safra_col='time_since_test_start')"
   ]
  },
  {
   "cell_type": "code",
   "execution_count": 0,
   "metadata": {
    "application/vnd.databricks.v1+cell": {
     "cellMetadata": {
      "byteLimit": 2048000,
      "rowLimit": 10000
     },
     "inputWidgets": {},
     "nuid": "4ad553e7-2feb-42ba-8680-0b27f76a87e0",
     "showTitle": false,
     "tableResultSettingsMap": {},
     "title": ""
    }
   },
   "outputs": [],
   "source": []
  },
  {
   "cell_type": "code",
   "execution_count": 0,
   "metadata": {
    "application/vnd.databricks.v1+cell": {
     "cellMetadata": {
      "byteLimit": 2048000,
      "rowLimit": 10000
     },
     "inputWidgets": {},
     "nuid": "077577ab-9033-42ea-bafa-101af7ce8206",
     "showTitle": false,
     "tableResultSettingsMap": {},
     "title": ""
    }
   },
   "outputs": [],
   "source": [
    "from typing import Optional\n",
    "def plot_safra_conversion_rate(\n",
    "    df: pd.DataFrame,\n",
    "    safra_col: str = \"safra\",\n",
    "    conversao_col: str = \"y\",\n",
    "    conv_rate_min: Optional[float] = None,\n",
    "    conv_rate_max: Optional[float] = None\n",
    ") -> pd.DataFrame:\n",
    "    \"\"\"\n",
    "    Gera um gráfico de barras com a contagem por safra e\n",
    "    uma linha com a taxa de conversão no eixo secundário.\n",
    "\n",
    "    Retorna:\n",
    "    - DataFrame com: safra, contagem, total_convertidos, total_nao_convertidos, conversion_rate.\n",
    "    \"\"\"\n",
    "    import matplotlib.pyplot as plt\n",
    "    from typing import Optional\n",
    "    import pandas as pd\n",
    "\n",
    "    # Garantir que safra seja numérica para ordenação\n",
    "    df[safra_col] = pd.to_numeric(df[safra_col], errors=\"coerce\")\n",
    "\n",
    "    # Agrupar e ordenar\n",
    "    safra_stats = (\n",
    "        df.groupby(safra_col)\n",
    "        .agg(\n",
    "            contagem=(conversao_col, \"count\"),\n",
    "            total_convertidos=(conversao_col, \"sum\")\n",
    "        )\n",
    "        .reset_index()\n",
    "        .sort_values(safra_col)\n",
    "    )\n",
    "\n",
    "    # Calcular não convertidos e taxa\n",
    "    safra_stats[\"total_nao_convertidos\"] = safra_stats[\"contagem\"] - safra_stats[\"total_convertidos\"]\n",
    "    safra_stats[\"conversion_rate\"] = safra_stats[\"total_convertidos\"] / safra_stats[\"contagem\"]\n",
    "\n",
    "    # Criar gráfico\n",
    "    fig, ax1 = plt.subplots(figsize=(10, 5))\n",
    "\n",
    "    # Barras - total\n",
    "    ax1.bar(safra_stats[safra_col].astype(str), safra_stats[\"contagem\"],\n",
    "            color=\"blue\", alpha=0.6, label=\"Total\")\n",
    "    ax1.set_xlabel(\"Safra\")\n",
    "    ax1.set_ylabel(\"Total de IDs\", color=\"blue\")\n",
    "    ax1.tick_params(axis=\"y\", labelcolor=\"blue\")\n",
    "    ax1.set_xticklabels(safra_stats[safra_col].astype(str), rotation=45)\n",
    "\n",
    "    # Linha - taxa de conversão\n",
    "    ax2 = ax1.twinx()\n",
    "    ax2.plot(safra_stats[safra_col].astype(str), safra_stats[\"conversion_rate\"],\n",
    "             color=\"green\", marker=\"o\", linestyle=\"-\", linewidth=2, label=\"Taxa de Conversão\")\n",
    "    ax2.set_ylabel(\"Taxa de Conversão (%)\", color=\"green\")\n",
    "    ax2.tick_params(axis=\"y\", labelcolor=\"green\")\n",
    "\n",
    "    # Limites opcionais do eixo secundário\n",
    "    if conv_rate_min is not None and conv_rate_max is not None:\n",
    "        ax2.set_ylim(conv_rate_min, conv_rate_max)\n",
    "\n",
    "    plt.title(\"Total por Safra e Taxa de Conversão\")\n",
    "    fig.tight_layout()\n",
    "    plt.show()\n",
    "\n",
    "    return safra_stats\n"
   ]
  },
  {
   "cell_type": "code",
   "execution_count": 0,
   "metadata": {
    "application/vnd.databricks.v1+cell": {
     "cellMetadata": {
      "byteLimit": 2048000,
      "rowLimit": 10000
     },
     "inputWidgets": {},
     "nuid": "64b8b136-6527-41b6-bc9b-9c10f60eef4f",
     "showTitle": false,
     "tableResultSettingsMap": {},
     "title": ""
    }
   },
   "outputs": [],
   "source": [
    "base_modelagem[\"time_since_test_start\"] = base_modelagem[\"time_since_test_start\"].astype(float).astype(\"int\")\n",
    "safra_br = plot_safra_conversion_rate(base_modelagem, safra_col=\"time_since_test_start\", conversao_col=\"target_sucesso\", conv_rate_min=0, conv_rate_max=0.8)"
   ]
  },
  {
   "cell_type": "code",
   "execution_count": 0,
   "metadata": {
    "application/vnd.databricks.v1+cell": {
     "cellMetadata": {
      "byteLimit": 2048000,
      "rowLimit": 10000
     },
     "inputWidgets": {},
     "nuid": "50a4eeb0-304e-463a-95b8-160ab28c57ee",
     "showTitle": false,
     "tableResultSettingsMap": {},
     "title": ""
    }
   },
   "outputs": [],
   "source": [
    "safra_br"
   ]
  },
  {
   "cell_type": "code",
   "execution_count": 0,
   "metadata": {
    "application/vnd.databricks.v1+cell": {
     "cellMetadata": {
      "byteLimit": 2048000,
      "rowLimit": 10000
     },
     "inputWidgets": {},
     "nuid": "2110172b-f428-41af-b147-d8d2021fb20b",
     "showTitle": false,
     "tableResultSettingsMap": {},
     "title": ""
    }
   },
   "outputs": [],
   "source": [
    "#verificando a tipagem das variáveis\n",
    "base_modelagem.dtypes.to_frame().value_counts(0)"
   ]
  },
  {
   "cell_type": "code",
   "execution_count": 0,
   "metadata": {
    "application/vnd.databricks.v1+cell": {
     "cellMetadata": {
      "byteLimit": 2048000,
      "rowLimit": 10000
     },
     "inputWidgets": {},
     "nuid": "c70a0e69-8968-46ec-bd5f-fcb4890c219f",
     "showTitle": false,
     "tableResultSettingsMap": {},
     "title": ""
    }
   },
   "outputs": [],
   "source": [
    "#verificando a quantidade de safras e ofertas\n",
    "base_modelagem[['time_since_test_start','offer_id']].value_counts().to_frame().reset_index().sort_values('time_since_test_start')\n"
   ]
  },
  {
   "cell_type": "markdown",
   "metadata": {
    "application/vnd.databricks.v1+cell": {
     "cellMetadata": {
      "byteLimit": 2048000,
      "rowLimit": 10000
     },
     "inputWidgets": {},
     "nuid": "a3fa353f-b86f-48b8-b420-3d1b331c76f2",
     "showTitle": false,
     "tableResultSettingsMap": {},
     "title": ""
    }
   },
   "source": [
    "####1.2 - Train Test Division"
   ]
  },
  {
   "cell_type": "code",
   "execution_count": 0,
   "metadata": {
    "application/vnd.databricks.v1+cell": {
     "cellMetadata": {
      "byteLimit": 2048000,
      "rowLimit": 10000
     },
     "inputWidgets": {},
     "nuid": "d964bba8-0ce4-4904-93c5-ebe7907b2cb2",
     "showTitle": false,
     "tableResultSettingsMap": {},
     "title": ""
    }
   },
   "outputs": [],
   "source": [
    "#Apesar da visão de \"safras\" vamos resolver esse problema apenas comm Treino e Teste OOS\n",
    "#Isso porque estamos falando de apenas um mes de campanha com novos disparos consecutivos\n",
    "#As variáveis nao devem perder poder preditivo em um período de tempo tão curto."
   ]
  },
  {
   "cell_type": "code",
   "execution_count": 0,
   "metadata": {
    "application/vnd.databricks.v1+cell": {
     "cellMetadata": {
      "byteLimit": 2048000,
      "rowLimit": 10000
     },
     "inputWidgets": {},
     "nuid": "8490c43a-8254-4902-8620-7307f1be7059",
     "showTitle": false,
     "tableResultSettingsMap": {},
     "title": ""
    }
   },
   "outputs": [],
   "source": [
    "base_modelagem.shape"
   ]
  },
  {
   "cell_type": "code",
   "execution_count": 0,
   "metadata": {
    "application/vnd.databricks.v1+cell": {
     "cellMetadata": {
      "byteLimit": 2048000,
      "rowLimit": 10000
     },
     "inputWidgets": {},
     "nuid": "cff1fe47-451b-4f29-9b80-bbc85194d30b",
     "showTitle": false,
     "tableResultSettingsMap": {},
     "title": ""
    }
   },
   "outputs": [],
   "source": [
    "#A base de treino deve ser dividida em Desenvolvimento e validação (train test)\n",
    "#Para que possamos avaliar os modelos dentro do mesmo contexto temporal do treinamento OOS\n",
    "# A base -> treino precisa ser dividida em train, test oos (testar a performance nas safras conhecidas)\n",
    "# 30% da base é o teste oos.\n",
    "train, test_oos = train_test_split(base_modelagem, test_size=0.3, stratify=base_modelagem['target_sucesso'], random_state=42)\n",
    "train.shape, test_oos.shape"
   ]
  },
  {
   "cell_type": "code",
   "execution_count": 0,
   "metadata": {
    "application/vnd.databricks.v1+cell": {
     "cellMetadata": {
      "byteLimit": 2048000,
      "rowLimit": 10000
     },
     "inputWidgets": {},
     "nuid": "cb983596-4d59-4599-b617-6da6b136cef0",
     "showTitle": false,
     "tableResultSettingsMap": {},
     "title": ""
    }
   },
   "outputs": [],
   "source": [
    "#verificando as taxas de conversao\n",
    "train['target_sucesso'].value_counts()/len(train)*100"
   ]
  },
  {
   "cell_type": "code",
   "execution_count": 0,
   "metadata": {
    "application/vnd.databricks.v1+cell": {
     "cellMetadata": {
      "byteLimit": 2048000,
      "rowLimit": 10000
     },
     "inputWidgets": {},
     "nuid": "47c6cdfe-d17f-495d-b76e-1166e7d9260a",
     "showTitle": false,
     "tableResultSettingsMap": {},
     "title": ""
    }
   },
   "outputs": [],
   "source": [
    "test_oos['target_sucesso'].value_counts()/len(test_oos)*100"
   ]
  },
  {
   "cell_type": "code",
   "execution_count": 0,
   "metadata": {
    "application/vnd.databricks.v1+cell": {
     "cellMetadata": {
      "byteLimit": 2048000,
      "rowLimit": 10000
     },
     "inputWidgets": {},
     "nuid": "a86a7b39-e509-44b6-86a4-a1d7bcd25f65",
     "showTitle": false,
     "tableResultSettingsMap": {},
     "title": ""
    }
   },
   "outputs": [],
   "source": [
    "#Salvando as bases. A partir daqui todas as análises e transformacoes serao realizadas no conjunto de treino\n",
    "#E aplicada quando necessário no conjunto de testes\n",
    "train.to_csv(\"../data/processed/train.csv\",sep=\",\",index=False,header=True)\n",
    "test_oos.to_csv(\"../data/processed/test_oos.csv\",sep=\"|\",index=False,header=True)"
   ]
  },
  {
   "cell_type": "markdown",
   "metadata": {
    "application/vnd.databricks.v1+cell": {
     "cellMetadata": {
      "byteLimit": 2048000,
      "rowLimit": 10000
     },
     "inputWidgets": {},
     "nuid": "837cc89a-d0df-4e19-a486-ea524528de7b",
     "showTitle": false,
     "tableResultSettingsMap": {},
     "title": ""
    }
   },
   "source": [
    "### 2 - Exploratory Data Analysis (EDA)"
   ]
  },
  {
   "cell_type": "code",
   "execution_count": 0,
   "metadata": {
    "application/vnd.databricks.v1+cell": {
     "cellMetadata": {
      "byteLimit": 2048000,
      "rowLimit": 10000
     },
     "inputWidgets": {},
     "nuid": "95399d0d-a101-48c1-97bc-2a86e993c1e4",
     "showTitle": false,
     "tableResultSettingsMap": {},
     "title": ""
    }
   },
   "outputs": [],
   "source": [
    "train= pd.read_csv(\"../data/processed/train.csv\",sep=\",\")"
   ]
  },
  {
   "cell_type": "code",
   "execution_count": 0,
   "metadata": {
    "application/vnd.databricks.v1+cell": {
     "cellMetadata": {
      "byteLimit": 2048000,
      "rowLimit": 10000
     },
     "inputWidgets": {},
     "nuid": "56cfe702-d08b-495b-bde3-a5313808a809",
     "showTitle": false,
     "tableResultSettingsMap": {},
     "title": ""
    }
   },
   "outputs": [],
   "source": [
    "train.head()"
   ]
  },
  {
   "cell_type": "code",
   "execution_count": 0,
   "metadata": {
    "application/vnd.databricks.v1+cell": {
     "cellMetadata": {
      "byteLimit": 2048000,
      "rowLimit": 10000
     },
     "inputWidgets": {},
     "nuid": "047c94fe-462c-4903-8ea3-91b441509ded",
     "showTitle": false,
     "tableResultSettingsMap": {},
     "title": ""
    }
   },
   "outputs": [],
   "source": [
    "#Analisar os dados!! Quais variáveis vamos manter? descartar? transformar ou criar? Quais os Insights?\n",
    "target = \"target_sucesso\""
   ]
  },
  {
   "cell_type": "markdown",
   "metadata": {
    "application/vnd.databricks.v1+cell": {
     "cellMetadata": {
      "byteLimit": 2048000,
      "rowLimit": 10000
     },
     "inputWidgets": {},
     "nuid": "7367f62c-ad51-4ff1-a6b3-50b1485f1858",
     "showTitle": false,
     "tableResultSettingsMap": {},
     "title": ""
    }
   },
   "source": [
    "####2.1 - Types"
   ]
  },
  {
   "cell_type": "code",
   "execution_count": 0,
   "metadata": {
    "application/vnd.databricks.v1+cell": {
     "cellMetadata": {
      "byteLimit": 2048000,
      "rowLimit": 10000
     },
     "inputWidgets": {},
     "nuid": "caf5f2b0-9321-428a-99f9-5cbfbfc7b798",
     "showTitle": false,
     "tableResultSettingsMap": {},
     "title": ""
    }
   },
   "outputs": [],
   "source": [
    "target = \"target_sucesso\"\n",
    "\n",
    "num_cols, cat_cols = detectar_tipos(\n",
    "    train,\n",
    "    target=target,\n",
    "    exclude_cols=[\"ID\",\"cliente_id\",\"offer_id\",\"time_since_test_start\"],  # não classificar esses\n",
    "    force_cat=[\"genero\",\"offer_type\",\"safra_registro\",\"recebeu_email\",\"recebeu_mobile\",\"recebeu_social\",\"recebeu_web\",\n",
    "        \"social\",\"web\",\"mobile\",\"email\"],                   # garantir que fiquem categóricas\n",
    "    force_num=[\n",
    "        \"canais_recebidos_total\",\"discount_value\",\"duration\",\"min_value\",\n",
    "        \"n_instancias_anteriores_mesma_oferta\",\"qtd_ofertas_completas_validas\",\n",
    "        \n",
    "    ],\n",
    "    int_low_card_as_cat=False  # não transformar ints de baixa cardinalidade em categorias\n",
    ")\n",
    "\n",
    "print(\"Categóricas:\", cat_cols)\n",
    "print(\"Numéricas (amostra):\", num_cols[:10], \" ... total:\", len(num_cols))\n"
   ]
  },
  {
   "cell_type": "code",
   "execution_count": 0,
   "metadata": {
    "application/vnd.databricks.v1+cell": {
     "cellMetadata": {
      "byteLimit": 2048000,
      "rowLimit": 10000
     },
     "inputWidgets": {},
     "nuid": "a0c6aa64-44aa-4be5-aac3-ff9a214775d0",
     "showTitle": false,
     "tableResultSettingsMap": {},
     "title": ""
    }
   },
   "outputs": [],
   "source": [
    "num_cols"
   ]
  },
  {
   "cell_type": "code",
   "execution_count": 0,
   "metadata": {
    "application/vnd.databricks.v1+cell": {
     "cellMetadata": {
      "byteLimit": 2048000,
      "rowLimit": 10000
     },
     "inputWidgets": {},
     "nuid": "75f251d4-00d9-4dce-ad0c-03a46ad4d013",
     "showTitle": false,
     "tableResultSettingsMap": {},
     "title": ""
    }
   },
   "outputs": [],
   "source": [
    "cat_cols"
   ]
  },
  {
   "cell_type": "code",
   "execution_count": 0,
   "metadata": {
    "application/vnd.databricks.v1+cell": {
     "cellMetadata": {
      "byteLimit": 2048000,
      "rowLimit": 10000
     },
     "inputWidgets": {},
     "nuid": "2fecc61a-d5b3-42a4-af0c-5c94f67f8cfa",
     "showTitle": false,
     "tableResultSettingsMap": {},
     "title": ""
    }
   },
   "outputs": [],
   "source": [
    "for col in cat_cols:\n",
    "    if col in train.columns:\n",
    "        train[col] = train[col].astype('category')"
   ]
  },
  {
   "cell_type": "code",
   "execution_count": 0,
   "metadata": {
    "application/vnd.databricks.v1+cell": {
     "cellMetadata": {
      "byteLimit": 2048000,
      "rowLimit": 10000
     },
     "inputWidgets": {},
     "nuid": "ab2cf213-69aa-4b8c-baf9-84fac6b8baa6",
     "showTitle": false,
     "tableResultSettingsMap": {},
     "title": ""
    }
   },
   "outputs": [],
   "source": [
    "train.dtypes"
   ]
  },
  {
   "cell_type": "code",
   "execution_count": 0,
   "metadata": {
    "application/vnd.databricks.v1+cell": {
     "cellMetadata": {
      "byteLimit": 2048000,
      "rowLimit": 10000
     },
     "inputWidgets": {},
     "nuid": "d107a351-0b13-4255-ba68-c4e1c68417cc",
     "showTitle": false,
     "tableResultSettingsMap": {},
     "title": ""
    }
   },
   "outputs": [],
   "source": [
    "tipagem = train.dtypes.reset_index()\n",
    "dicionario_tipagem = dict(zip(tipagem[\"index\"], tipagem[0]))"
   ]
  },
  {
   "cell_type": "code",
   "execution_count": 0,
   "metadata": {
    "application/vnd.databricks.v1+cell": {
     "cellMetadata": {
      "byteLimit": 2048000,
      "rowLimit": 10000
     },
     "inputWidgets": {},
     "nuid": "c18edb6c-9d5d-42e9-ba27-2709eb8508c6",
     "showTitle": false,
     "tableResultSettingsMap": {},
     "title": ""
    }
   },
   "outputs": [],
   "source": [
    "dicionario_tipagem"
   ]
  },
  {
   "cell_type": "markdown",
   "metadata": {
    "application/vnd.databricks.v1+cell": {
     "cellMetadata": {
      "byteLimit": 2048000,
      "rowLimit": 10000
     },
     "inputWidgets": {},
     "nuid": "5a8a99b5-368e-4732-8c07-9741b6fb2aa9",
     "showTitle": false,
     "tableResultSettingsMap": {},
     "title": ""
    }
   },
   "source": [
    "####2.2 - Target"
   ]
  },
  {
   "cell_type": "code",
   "execution_count": 0,
   "metadata": {
    "application/vnd.databricks.v1+cell": {
     "cellMetadata": {
      "byteLimit": 2048000,
      "rowLimit": 10000
     },
     "inputWidgets": {},
     "nuid": "07ae0b9e-bca2-4ec4-bba4-c99d2bb1283c",
     "showTitle": false,
     "tableResultSettingsMap": {},
     "title": ""
    }
   },
   "outputs": [],
   "source": [
    "target_balance(train, target)"
   ]
  },
  {
   "cell_type": "markdown",
   "metadata": {
    "application/vnd.databricks.v1+cell": {
     "cellMetadata": {
      "byteLimit": 2048000,
      "rowLimit": 10000
     },
     "inputWidgets": {},
     "nuid": "bb9f1737-3be9-4e54-abbb-00252d53524b",
     "showTitle": false,
     "tableResultSettingsMap": {},
     "title": ""
    }
   },
   "source": [
    "####2.3 - Missing"
   ]
  },
  {
   "cell_type": "code",
   "execution_count": 0,
   "metadata": {
    "application/vnd.databricks.v1+cell": {
     "cellMetadata": {
      "byteLimit": 2048000,
      "rowLimit": 10000
     },
     "inputWidgets": {},
     "nuid": "20e9a869-1722-48af-8a38-b5da7c65189c",
     "showTitle": false,
     "tableResultSettingsMap": {},
     "title": ""
    }
   },
   "outputs": [],
   "source": [
    "#avaliacao rapida de missings na base, posteriormente vamos filtrar os campos com mais de 40% de missing\n",
    "drop_missing = [\"dias_desde_ultima_conversao_valida_mesma\",\n",
    "\"dias_desde_ultima_oferta_mesma\",\n",
    "\"n_conversoes_validas_anteriores_mesma\",\n",
    "\"tempo_medio_conversao\",\n",
    "\"dias_desde_ultima_conversao_valida\",\n",
    "\"tempo_medio_visualizacao\"]\n",
    "\n",
    "resumo_missing(train).head(20)"
   ]
  },
  {
   "cell_type": "markdown",
   "metadata": {
    "application/vnd.databricks.v1+cell": {
     "cellMetadata": {
      "byteLimit": 2048000,
      "rowLimit": 10000
     },
     "inputWidgets": {},
     "nuid": "14b1142c-cde2-4d92-9d43-d2e2b21d583f",
     "showTitle": false,
     "tableResultSettingsMap": {},
     "title": ""
    }
   },
   "source": [
    "####2.4 - Variables"
   ]
  },
  {
   "cell_type": "code",
   "execution_count": 0,
   "metadata": {
    "application/vnd.databricks.v1+cell": {
     "cellMetadata": {
      "byteLimit": 2048000,
      "rowLimit": 10000
     },
     "inputWidgets": {},
     "nuid": "2064a570-add5-4853-a3b5-5bcf2b5f1adc",
     "showTitle": false,
     "tableResultSettingsMap": {},
     "title": ""
    }
   },
   "outputs": [],
   "source": [
    "num_cols"
   ]
  },
  {
   "cell_type": "code",
   "execution_count": 0,
   "metadata": {
    "application/vnd.databricks.v1+cell": {
     "cellMetadata": {
      "byteLimit": 2048000,
      "rowLimit": 10000
     },
     "inputWidgets": {},
     "nuid": "f9ed25a4-00ce-4615-b70c-53db3352a66c",
     "showTitle": false,
     "tableResultSettingsMap": {},
     "title": ""
    }
   },
   "outputs": [],
   "source": [
    "#Essas variáveis possuem problemas de inconsistencia devemos rever o conceito no book\n",
    "drop_inconsistencia = [\"mobile_ratio_historico\",\"social_ratio_historico\",\"dias_desde_ultima_conversao_valida_mesma\",\"mobile_ratio_historico\",\"social_ratio_historico\",\"tempo_medio_conversao\",\"web_ratio_historico\",\"dias_desde_ultima_transacao.1\"]\n",
    "\n",
    "resumo_numericas(train, num_cols)"
   ]
  },
  {
   "cell_type": "code",
   "execution_count": 0,
   "metadata": {
    "application/vnd.databricks.v1+cell": {
     "cellMetadata": {
      "byteLimit": 2048000,
      "rowLimit": 10000
     },
     "inputWidgets": {},
     "nuid": "eb045507-1111-4680-874c-d7a918d81b48",
     "showTitle": false,
     "tableResultSettingsMap": {},
     "title": ""
    }
   },
   "outputs": [],
   "source": [
    "#p_valor baixo, vamos manter todas\n",
    "chi2_categoricas(train, cat_cols, target)"
   ]
  },
  {
   "cell_type": "code",
   "execution_count": 0,
   "metadata": {
    "application/vnd.databricks.v1+cell": {
     "cellMetadata": {
      "byteLimit": 2048000,
      "rowLimit": 10000
     },
     "inputWidgets": {},
     "nuid": "0195efa5-bc50-4c74-9c35-1bf759f0e00e",
     "showTitle": false,
     "tableResultSettingsMap": {},
     "title": ""
    }
   },
   "outputs": [],
   "source": [
    "# 5) Correlação + pares fortes\n",
    "corr, pares_fortes = correlacao_numericas(train, num_cols)\n",
    "display(pares_fortes)"
   ]
  },
  {
   "cell_type": "code",
   "execution_count": 0,
   "metadata": {
    "application/vnd.databricks.v1+cell": {
     "cellMetadata": {
      "byteLimit": 2048000,
      "rowLimit": 10000
     },
     "inputWidgets": {},
     "nuid": "c43c3f73-67ea-4f2c-950d-c984ee5804aa",
     "showTitle": false,
     "tableResultSettingsMap": {},
     "title": ""
    }
   },
   "outputs": [],
   "source": [
    "#remover variaveis com alto colinearidade\n",
    "drop_alta_colinearidade = pares_fortes[\"var2\"].tolist()"
   ]
  },
  {
   "cell_type": "code",
   "execution_count": 0,
   "metadata": {
    "application/vnd.databricks.v1+cell": {
     "cellMetadata": {
      "byteLimit": 2048000,
      "rowLimit": 10000
     },
     "inputWidgets": {},
     "nuid": "2ddd1f89-76ca-4009-8dfd-5edbbe55c208",
     "showTitle": false,
     "tableResultSettingsMap": {},
     "title": ""
    }
   },
   "outputs": [],
   "source": [
    "drop_alta_colinearidade"
   ]
  },
  {
   "cell_type": "code",
   "execution_count": 0,
   "metadata": {
    "application/vnd.databricks.v1+cell": {
     "cellMetadata": {
      "byteLimit": 2048000,
      "rowLimit": 10000
     },
     "inputWidgets": {},
     "nuid": "2fc5a9c2-c207-4945-bf3c-a96bcd253b55",
     "showTitle": false,
     "tableResultSettingsMap": {},
     "title": ""
    }
   },
   "outputs": [],
   "source": [
    "# 7) WoE/IV (ranking)\n",
    "#IV/WOE → mede capacidade de discriminação da variável para um problema binário.\n",
    "#A variável [\"n_conversoes_validas_anteriores_mesma\"] tem um IV absurdo provavelmente algum problema na construcao da variavel (leakeage)\n",
    "#Devemos remover ou consertar o conceito\n",
    "#Vale lembrar que estamos falando de correlacoes lineares, portanto nao vamos nos livrar \n",
    "#de variaveis que apenas tem iv baixo.\n",
    "drop_iv_absurdo = [\"n_conversoes_validas_anteriores_mesma\"]\n",
    "display(woe_iv_todas(train, num_cols + cat_cols, target, n_bins=10, metodo=\"quantile\"))"
   ]
  },
  {
   "cell_type": "code",
   "execution_count": 0,
   "metadata": {
    "application/vnd.databricks.v1+cell": {
     "cellMetadata": {
      "byteLimit": 2048000,
      "rowLimit": 10000
     },
     "inputWidgets": {},
     "nuid": "c84f6980-24de-43ae-a54f-32053aac0511",
     "showTitle": false,
     "tableResultSettingsMap": {},
     "title": ""
    }
   },
   "outputs": [],
   "source": [
    "drop_missing"
   ]
  },
  {
   "cell_type": "code",
   "execution_count": 0,
   "metadata": {
    "application/vnd.databricks.v1+cell": {
     "cellMetadata": {
      "byteLimit": 2048000,
      "rowLimit": 10000
     },
     "inputWidgets": {},
     "nuid": "f5574b88-7713-42c6-87a8-64b697a17716",
     "showTitle": false,
     "tableResultSettingsMap": {},
     "title": ""
    }
   },
   "outputs": [],
   "source": [
    "remover_vars = list(set(drop_inconsistencia+drop_missing+drop_alta_colinearidade+drop_iv_absurdo))"
   ]
  },
  {
   "cell_type": "code",
   "execution_count": 0,
   "metadata": {
    "application/vnd.databricks.v1+cell": {
     "cellMetadata": {
      "byteLimit": 2048000,
      "rowLimit": 10000
     },
     "inputWidgets": {},
     "nuid": "d3dbb23e-4190-40f3-92f1-5e7819685ceb",
     "showTitle": false,
     "tableResultSettingsMap": {},
     "title": ""
    }
   },
   "outputs": [],
   "source": [
    "resumo_missing(train)"
   ]
  },
  {
   "cell_type": "code",
   "execution_count": 0,
   "metadata": {
    "application/vnd.databricks.v1+cell": {
     "cellMetadata": {
      "byteLimit": 2048000,
      "rowLimit": 10000
     },
     "inputWidgets": {},
     "nuid": "dfe677b1-eda3-4085-8c8e-375aba370122",
     "showTitle": false,
     "tableResultSettingsMap": {},
     "title": ""
    }
   },
   "outputs": [],
   "source": [
    "train.columns"
   ]
  },
  {
   "cell_type": "code",
   "execution_count": 0,
   "metadata": {
    "application/vnd.databricks.v1+cell": {
     "cellMetadata": {
      "byteLimit": 2048000,
      "rowLimit": 10000
     },
     "inputWidgets": {},
     "nuid": "f9256c5b-2eff-4f0c-b2d1-0c42337b8ba3",
     "showTitle": false,
     "tableResultSettingsMap": {},
     "title": ""
    }
   },
   "outputs": [],
   "source": [
    "train.dtypes"
   ]
  },
  {
   "cell_type": "code",
   "execution_count": 0,
   "metadata": {
    "application/vnd.databricks.v1+cell": {
     "cellMetadata": {
      "byteLimit": 2048000,
      "rowLimit": 10000
     },
     "inputWidgets": {},
     "nuid": "25e72af1-0d15-4978-a150-b5e81826f9c8",
     "showTitle": false,
     "tableResultSettingsMap": {},
     "title": ""
    }
   },
   "outputs": [],
   "source": [
    "remover_vars"
   ]
  },
  {
   "cell_type": "code",
   "execution_count": 0,
   "metadata": {
    "application/vnd.databricks.v1+cell": {
     "cellMetadata": {
      "byteLimit": 2048000,
      "rowLimit": 10000
     },
     "inputWidgets": {},
     "nuid": "e4d7db3d-8253-421a-9cf7-ce573ec33a4c",
     "showTitle": false,
     "tableResultSettingsMap": {},
     "title": ""
    }
   },
   "outputs": [],
   "source": [
    "vars_sobreviventes = [x for x in train if x not in remover_vars]"
   ]
  },
  {
   "cell_type": "code",
   "execution_count": 0,
   "metadata": {
    "application/vnd.databricks.v1+cell": {
     "cellMetadata": {
      "byteLimit": 2048000,
      "rowLimit": 10000
     },
     "inputWidgets": {},
     "nuid": "7b4d7587-d7c0-4a7c-a5b8-55a515812dc7",
     "showTitle": false,
     "tableResultSettingsMap": {},
     "title": ""
    }
   },
   "outputs": [],
   "source": [
    "vars_sobreviventes"
   ]
  },
  {
   "cell_type": "code",
   "execution_count": 0,
   "metadata": {
    "application/vnd.databricks.v1+cell": {
     "cellMetadata": {
      "byteLimit": 2048000,
      "rowLimit": 10000
     },
     "inputWidgets": {},
     "nuid": "2f98360c-51d2-48d8-8b3b-31450c2aa120",
     "showTitle": false,
     "tableResultSettingsMap": {},
     "title": ""
    }
   },
   "outputs": [],
   "source": [
    "#Sobraram 49 variáveis!!\n",
    "len(vars_sobreviventes)"
   ]
  },
  {
   "cell_type": "code",
   "execution_count": 0,
   "metadata": {
    "application/vnd.databricks.v1+cell": {
     "cellMetadata": {
      "byteLimit": 2048000,
      "rowLimit": 10000
     },
     "inputWidgets": {},
     "nuid": "360eea36-c29a-41b1-9c00-49b26ed2500d",
     "showTitle": false,
     "tableResultSettingsMap": {},
     "title": ""
    }
   },
   "outputs": [],
   "source": [
    "train_selecionado = train[vars_sobreviventes]"
   ]
  },
  {
   "cell_type": "code",
   "execution_count": 0,
   "metadata": {
    "application/vnd.databricks.v1+cell": {
     "cellMetadata": {
      "byteLimit": 2048000,
      "rowLimit": 10000
     },
     "inputWidgets": {},
     "nuid": "dcd9a251-fdd5-4e7b-93d6-53ae7104bb6f",
     "showTitle": false,
     "tableResultSettingsMap": {},
     "title": ""
    }
   },
   "outputs": [],
   "source": [
    "ids_ =[\"ID\",\"time_since_test_start\",\"offer_id\",\"cliente_id\"]\n",
    "target=\"target_sucesso\""
   ]
  },
  {
   "cell_type": "code",
   "execution_count": 0,
   "metadata": {
    "application/vnd.databricks.v1+cell": {
     "cellMetadata": {
      "byteLimit": 2048000,
      "rowLimit": 10000
     },
     "inputWidgets": {},
     "nuid": "d6d36418-22a0-48b6-9345-cb7c3efbae84",
     "showTitle": false,
     "tableResultSettingsMap": {},
     "title": ""
    }
   },
   "outputs": [],
   "source": [
    "#correlacao maxima de 0.8\n",
    "matriz_correlacao(train_selecionado.drop(ids_,axis=1).iloc[:, 1:15])"
   ]
  },
  {
   "cell_type": "markdown",
   "metadata": {
    "application/vnd.databricks.v1+cell": {
     "cellMetadata": {
      "byteLimit": 2048000,
      "rowLimit": 10000
     },
     "inputWidgets": {},
     "nuid": "dd3c4395-cf21-47a9-9cca-67da6e021b09",
     "showTitle": false,
     "tableResultSettingsMap": {},
     "title": ""
    }
   },
   "source": [
    "###3 - Data Prep"
   ]
  },
  {
   "cell_type": "code",
   "execution_count": 0,
   "metadata": {
    "application/vnd.databricks.v1+cell": {
     "cellMetadata": {
      "byteLimit": 2048000,
      "rowLimit": 10000
     },
     "inputWidgets": {},
     "nuid": "b898904b-2100-4df2-8db3-0ff99e545cf9",
     "showTitle": false,
     "tableResultSettingsMap": {},
     "title": ""
    }
   },
   "outputs": [],
   "source": [
    "#Nesta fase seguimos garantindo a qualidade dos dados que serao utilizados para treinar nosso modelo\n",
    "#Nesta fase seguimos garantindo a qualidade dos dados que serao utilizados para treinar nosso modelo"
   ]
  },
  {
   "cell_type": "code",
   "execution_count": 0,
   "metadata": {
    "application/vnd.databricks.v1+cell": {
     "cellMetadata": {
      "byteLimit": 2048000,
      "rowLimit": 10000
     },
     "inputWidgets": {},
     "nuid": "99aa6296-fd7f-4402-90e1-87ba54ff2640",
     "showTitle": false,
     "tableResultSettingsMap": {},
     "title": ""
    }
   },
   "outputs": [],
   "source": [
    "#Nesta fase seguimos garantindo a qualidade dos dados que serao utilizados para treinar nosso modelo"
   ]
  },
  {
   "cell_type": "markdown",
   "metadata": {
    "application/vnd.databricks.v1+cell": {
     "cellMetadata": {
      "byteLimit": 2048000,
      "rowLimit": 10000
     },
     "inputWidgets": {},
     "nuid": "f330a41d-0f45-459b-a920-5b034f140bf6",
     "showTitle": false,
     "tableResultSettingsMap": {},
     "title": ""
    }
   },
   "source": [
    "####3.1 - Handling Missing Values"
   ]
  },
  {
   "cell_type": "code",
   "execution_count": 0,
   "metadata": {
    "application/vnd.databricks.v1+cell": {
     "cellMetadata": {},
     "inputWidgets": {},
     "nuid": "0d3587c4-06c6-46a3-90e1-b267445aee0d",
     "showTitle": false,
     "tableResultSettingsMap": {},
     "title": ""
    }
   },
   "outputs": [],
   "source": [
    "a# Nesta etapa importante vamos verificar nossas variáveis e propor um tratamento adequado para os valores faltantes:"
   ]
  },
  {
   "cell_type": "code",
   "execution_count": 0,
   "metadata": {
    "application/vnd.databricks.v1+cell": {
     "cellMetadata": {
      "byteLimit": 2048000,
      "rowLimit": 10000
     },
     "inputWidgets": {},
     "nuid": "c2d5e066-2709-4d19-b16b-4fd3a50ad0b5",
     "showTitle": false,
     "tableResultSettingsMap": {},
     "title": ""
    }
   },
   "outputs": [],
   "source": [
    "train_selecionado.head()"
   ]
  },
  {
   "cell_type": "code",
   "execution_count": 0,
   "metadata": {
    "application/vnd.databricks.v1+cell": {
     "cellMetadata": {
      "byteLimit": 2048000,
      "rowLimit": 10000
     },
     "inputWidgets": {},
     "nuid": "69a5396a-7086-4524-af0f-c973ca5deb2d",
     "showTitle": false,
     "tableResultSettingsMap": {},
     "title": ""
    }
   },
   "outputs": [],
   "source": [
    "train_selecionado.dtypes"
   ]
  },
  {
   "cell_type": "code",
   "execution_count": 0,
   "metadata": {
    "application/vnd.databricks.v1+cell": {
     "cellMetadata": {
      "byteLimit": 2048000,
      "rowLimit": 10000
     },
     "inputWidgets": {},
     "nuid": "e267553a-9146-4c7e-bdfc-0f391fbcf71d",
     "showTitle": false,
     "tableResultSettingsMap": {},
     "title": ""
    }
   },
   "outputs": [],
   "source": [
    "missing_plan_df = build_missing_plan()\n",
    "missing_plan_df"
   ]
  },
  {
   "cell_type": "code",
   "execution_count": 0,
   "metadata": {
    "application/vnd.databricks.v1+cell": {
     "cellMetadata": {
      "byteLimit": 2048000,
      "rowLimit": 10000
     },
     "inputWidgets": {},
     "nuid": "c5ea4d98-15df-4fb6-a49e-11dd3421b5f6",
     "showTitle": false,
     "tableResultSettingsMap": {},
     "title": ""
    }
   },
   "outputs": [],
   "source": [
    "train_selecionado"
   ]
  },
  {
   "cell_type": "code",
   "execution_count": 0,
   "metadata": {
    "application/vnd.databricks.v1+cell": {
     "cellMetadata": {
      "byteLimit": 2048000,
      "rowLimit": 10000
     },
     "inputWidgets": {},
     "nuid": "d1841555-9c4e-45c9-80e6-e6ccd8d8f0bf",
     "showTitle": false,
     "tableResultSettingsMap": {},
     "title": ""
    }
   },
   "outputs": [],
   "source": [
    "#A variável idade é um tanto complicada, nao sabemos o real motivo dela estar faltando mas vamos \n",
    "#partir da premissa que se trata de um missing aleatório.\n",
    "#Para tentar capturar quando o missing ocorreu vamos criar uma flag_missing, para que o modelo tenha chance de\n",
    "#aprender quando o missing ocorreu.\n",
    "train_selecionado[\"idade_missing\"] = train_selecionado[\"idade\"].isna().astype(int)"
   ]
  },
  {
   "cell_type": "code",
   "execution_count": 0,
   "metadata": {
    "application/vnd.databricks.v1+cell": {
     "cellMetadata": {
      "byteLimit": 2048000,
      "rowLimit": 10000
     },
     "inputWidgets": {},
     "nuid": "b3fbe976-9087-49f4-857d-56187b567ee0",
     "showTitle": false,
     "tableResultSettingsMap": {},
     "title": ""
    }
   },
   "outputs": [],
   "source": [
    "train_selecionado[\"idade\"].count()"
   ]
  },
  {
   "cell_type": "code",
   "execution_count": 0,
   "metadata": {
    "application/vnd.databricks.v1+cell": {
     "cellMetadata": {
      "byteLimit": 2048000,
      "rowLimit": 10000
     },
     "inputWidgets": {},
     "nuid": "9ff7b9e6-bb22-4c8e-871c-1ddaebac4e63",
     "showTitle": false,
     "tableResultSettingsMap": {},
     "title": ""
    }
   },
   "outputs": [],
   "source": [
    "train_selecionado[\"idade_missing\"].value_counts()"
   ]
  },
  {
   "cell_type": "code",
   "execution_count": 0,
   "metadata": {
    "application/vnd.databricks.v1+cell": {
     "cellMetadata": {
      "byteLimit": 2048000,
      "rowLimit": 10000
     },
     "inputWidgets": {},
     "nuid": "173167a1-6228-4301-a8ab-fa20c56f9581",
     "showTitle": false,
     "tableResultSettingsMap": {},
     "title": ""
    }
   },
   "outputs": [],
   "source": [
    "#Definindo o plano de imputação\n",
    "plan = build_missing_plan()\n",
    "\n",
    "prep = fit_missing_prep(train_selecionado, plan)\n",
    "train_tratado = apply_missing_prep(train_selecionado, prep, copy=True)\n",
    "\n",
    "# Para o teste:\n",
    "# test_tratado = apply_missing_prep(test, prep, copy=True)\n"
   ]
  },
  {
   "cell_type": "code",
   "execution_count": 0,
   "metadata": {
    "application/vnd.databricks.v1+cell": {
     "cellMetadata": {
      "byteLimit": 2048000,
      "rowLimit": 10000
     },
     "inputWidgets": {},
     "nuid": "f197cf01-f8e4-4a12-8c8f-c9aa9a0603a4",
     "showTitle": false,
     "tableResultSettingsMap": {},
     "title": ""
    }
   },
   "outputs": [],
   "source": [
    "train_tratado.head()"
   ]
  },
  {
   "cell_type": "code",
   "execution_count": 0,
   "metadata": {
    "application/vnd.databricks.v1+cell": {
     "cellMetadata": {
      "byteLimit": 2048000,
      "rowLimit": 10000
     },
     "inputWidgets": {},
     "nuid": "02ca5cf4-67e9-488d-bc28-3dd415aaa579",
     "showTitle": false,
     "tableResultSettingsMap": {},
     "title": ""
    }
   },
   "outputs": [],
   "source": [
    "#As variáveis de oferta permaneceram, muito bom para a nossa estratégia de escoragem\n",
    "#variar as ofertas para o cliente e verificar maior probabilidade de conversao!\n",
    "variaveis_de_oferta = [\"offer_id\",\"offer_type\",\"discount_value\",\"min_value\",\"duration\",\"web\",\"email\",\"mobile\",\"social\"]"
   ]
  },
  {
   "cell_type": "code",
   "execution_count": 0,
   "metadata": {
    "application/vnd.databricks.v1+cell": {
     "cellMetadata": {
      "byteLimit": 2048000,
      "rowLimit": 10000
     },
     "inputWidgets": {},
     "nuid": "7df56fad-a7ad-47ab-bdaa-f5cc0dde381c",
     "showTitle": false,
     "tableResultSettingsMap": {},
     "title": ""
    }
   },
   "outputs": [],
   "source": [
    "\n",
    "#Alguns modelos são sensíveis a magnitude, das variáveis, mas não é o caso do modelo de lightGBM que vamos treinar\n",
    "#Sem padronizar os dados.\n",
    "#Sem remover outlier pois o modelo tambem nao é sensível a outliers\n",
    "#Agora podemos seguir em paz\n",
    "resumo_missing(train_tratado).head(20)"
   ]
  },
  {
   "cell_type": "code",
   "execution_count": 0,
   "metadata": {
    "application/vnd.databricks.v1+cell": {
     "cellMetadata": {},
     "inputWidgets": {},
     "nuid": "3ca5ca53-96fe-4724-83d1-232562f8a9c3",
     "showTitle": false,
     "tableResultSettingsMap": {},
     "title": ""
    }
   },
   "outputs": [],
   "source": []
  }
 ],
 "metadata": {
  "application/vnd.databricks.v1+notebook": {
   "computePreferences": {
    "hardware": {
     "accelerator": null,
     "gpuPoolId": null,
     "memory": null
    }
   },
   "dashboards": [],
   "environmentMetadata": {
    "base_environment": "",
    "environment_version": "2"
   },
   "inputWidgetPreferences": null,
   "language": "python",
   "notebookMetadata": {
    "pythonIndentUnit": 4
   },
   "notebookName": "2_modeling.ipynb",
   "widgets": {}
  },
  "language_info": {
   "name": "python"
  }
 },
 "nbformat": 4,
 "nbformat_minor": 0
}
